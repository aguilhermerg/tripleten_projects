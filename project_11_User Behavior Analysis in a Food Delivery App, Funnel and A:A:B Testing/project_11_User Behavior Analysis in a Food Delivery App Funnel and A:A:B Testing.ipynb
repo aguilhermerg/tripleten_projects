{
 "cells": [
  {
   "cell_type": "markdown",
   "metadata": {},
   "source": [
    "# Projeto 11 "
   ]
  },
  {
   "cell_type": "markdown",
   "metadata": {},
   "source": [
    "### Descrição do projeto\n",
    "\n",
    "Você trabalha em uma startup que vende produtos alimentícios. Você precisa analisar o comportamento do usuário para o aplicativo da empresa.\n",
    "Primeiro, estude o funil de vendas. Descubra como os usuários chegam à etapa de compra. usuários realmente chegam a essa etapa? Quantos ficam presos nas fases anteriores? Quais etapas em particular?\n",
    "Em seguida, veja os resultados do teste A/A/B. (Continue lendo para obter mais informação sobre os testes A/A/B). Os designers gostariam de alterar as fontes de todo o aplicativo, mas os gerentes temem que os usuários achem o novo design intimidador. Eles decidem tomar a decisão com base nos resultados de um teste A/A/B.\n",
    "Os usuários são divididos em três grupos: dois grupos de controle recebem as fontes antigas e um grupo de teste recebe as novas. Descubra qual conjunto de fontes produz melhores resultados.\n",
    "A criação de dois grupos A tem certas vantagens. Podemos adaptar um princípio segundo o qual só estaremos confiantes na precisão de nossos testes quando os dois grupos de controle forem semelhantes. Se houver diferenças significativas entre os grupos A, isso pode nos ajudar a descobrir fatores que podem distorcer os resultados. A comparação de grupos de controle também nos informa de quanto tempo e dados precisaremos ao executar outros testes. Você usará o mesmo conjunto de dados para análise geral e análise A/A/B. Em projetos reais, os experimentos se realizam constantemente. Os analistas estudam a qualidade de um aplicativo usando dados gerais, sem prestar atenção na participação dos usuários em experimentos."
   ]
  },
  {
   "cell_type": "markdown",
   "metadata": {},
   "source": [
    "#### <a id=\"\">Passo 1. Importando bibliotecas e lendo os dados</a>"
   ]
  },
  {
   "cell_type": "code",
   "execution_count": 1,
   "metadata": {},
   "outputs": [],
   "source": [
    "import pandas as pd\n",
    "import numpy as np\n",
    "import seaborn as sns\n",
    "import math as mth\n",
    "from scipy import stats as st\n",
    "from statsmodels.stats.proportion import proportions_ztest\n",
    "import datetime as dt\n",
    "from matplotlib import pyplot as plt\n",
    "import plotly.graph_objects as go\n",
    "import warnings\n",
    "warnings.filterwarnings(\"ignore\")\n",
    "\n",
    "sns.set_context('notebook', font_scale=1, rc={\"lines.linewidth\": 2.5})"
   ]
  },
  {
   "cell_type": "code",
   "execution_count": 2,
   "metadata": {},
   "outputs": [],
   "source": [
    "df = pd.read_csv('logs_exp_us.csv', sep='\\t')"
   ]
  },
  {
   "cell_type": "code",
   "execution_count": 3,
   "metadata": {},
   "outputs": [
    {
     "data": {
      "text/html": [
       "<div>\n",
       "<style scoped>\n",
       "    .dataframe tbody tr th:only-of-type {\n",
       "        vertical-align: middle;\n",
       "    }\n",
       "\n",
       "    .dataframe tbody tr th {\n",
       "        vertical-align: top;\n",
       "    }\n",
       "\n",
       "    .dataframe thead th {\n",
       "        text-align: right;\n",
       "    }\n",
       "</style>\n",
       "<table border=\"1\" class=\"dataframe\">\n",
       "  <thead>\n",
       "    <tr style=\"text-align: right;\">\n",
       "      <th></th>\n",
       "      <th>EventName</th>\n",
       "      <th>DeviceIDHash</th>\n",
       "      <th>EventTimestamp</th>\n",
       "      <th>ExpId</th>\n",
       "    </tr>\n",
       "  </thead>\n",
       "  <tbody>\n",
       "    <tr>\n",
       "      <th>0</th>\n",
       "      <td>MainScreenAppear</td>\n",
       "      <td>4575588528974610257</td>\n",
       "      <td>1564029816</td>\n",
       "      <td>246</td>\n",
       "    </tr>\n",
       "    <tr>\n",
       "      <th>1</th>\n",
       "      <td>MainScreenAppear</td>\n",
       "      <td>7416695313311560658</td>\n",
       "      <td>1564053102</td>\n",
       "      <td>246</td>\n",
       "    </tr>\n",
       "    <tr>\n",
       "      <th>2</th>\n",
       "      <td>PaymentScreenSuccessful</td>\n",
       "      <td>3518123091307005509</td>\n",
       "      <td>1564054127</td>\n",
       "      <td>248</td>\n",
       "    </tr>\n",
       "    <tr>\n",
       "      <th>3</th>\n",
       "      <td>CartScreenAppear</td>\n",
       "      <td>3518123091307005509</td>\n",
       "      <td>1564054127</td>\n",
       "      <td>248</td>\n",
       "    </tr>\n",
       "    <tr>\n",
       "      <th>4</th>\n",
       "      <td>PaymentScreenSuccessful</td>\n",
       "      <td>6217807653094995999</td>\n",
       "      <td>1564055322</td>\n",
       "      <td>248</td>\n",
       "    </tr>\n",
       "  </tbody>\n",
       "</table>\n",
       "</div>"
      ],
      "text/plain": [
       "                 EventName         DeviceIDHash  EventTimestamp  ExpId\n",
       "0         MainScreenAppear  4575588528974610257      1564029816    246\n",
       "1         MainScreenAppear  7416695313311560658      1564053102    246\n",
       "2  PaymentScreenSuccessful  3518123091307005509      1564054127    248\n",
       "3         CartScreenAppear  3518123091307005509      1564054127    248\n",
       "4  PaymentScreenSuccessful  6217807653094995999      1564055322    248"
      ]
     },
     "execution_count": 3,
     "metadata": {},
     "output_type": "execute_result"
    }
   ],
   "source": [
    "df.head()"
   ]
  },
  {
   "cell_type": "code",
   "execution_count": 4,
   "metadata": {},
   "outputs": [
    {
     "name": "stdout",
     "output_type": "stream",
     "text": [
      "<class 'pandas.core.frame.DataFrame'>\n",
      "RangeIndex: 244126 entries, 0 to 244125\n",
      "Data columns (total 4 columns):\n",
      " #   Column          Non-Null Count   Dtype \n",
      "---  ------          --------------   ----- \n",
      " 0   EventName       244126 non-null  object\n",
      " 1   DeviceIDHash    244126 non-null  int64 \n",
      " 2   EventTimestamp  244126 non-null  int64 \n",
      " 3   ExpId           244126 non-null  int64 \n",
      "dtypes: int64(3), object(1)\n",
      "memory usage: 7.5+ MB\n"
     ]
    }
   ],
   "source": [
    "df.info()"
   ]
  },
  {
   "cell_type": "markdown",
   "metadata": {},
   "source": [
    "* Sem valores ausentes\n",
    "* Coluna EventTimestamp fora do formato correto de data \n",
    "* Colunas fora do formato snake_case "
   ]
  },
  {
   "cell_type": "markdown",
   "metadata": {},
   "source": [
    "#### <a id=\"\">Passo 2. Preparando dados para análise</a>"
   ]
  },
  {
   "cell_type": "markdown",
   "metadata": {},
   "source": [
    "##### <a id=\"\">Renomeando colunas</a>"
   ]
  },
  {
   "cell_type": "code",
   "execution_count": 5,
   "metadata": {},
   "outputs": [],
   "source": [
    "# columns to snake_case\n",
    "\n",
    "def new_col_names(df):\n",
    "    new_names = []\n",
    "    for old_name in df.columns:\n",
    "        # remove os espaços no início e no final\n",
    "        name_stripped = old_name.strip()\n",
    "        # todas as letras em minúsculas\n",
    "        name_lowered = name_stripped.lower()\n",
    "        # substitui os espaços entre as palavras por sublinhados\n",
    "        name_no_spaces = name_lowered.replace(' ', '_')\n",
    "        # Adicionando a lista de novos nomes\n",
    "        new_names.append(name_no_spaces)\n",
    "    # Substitui os nomes antigos pelos novos\n",
    "    df.columns = new_names\n",
    "    return print(df.columns)"
   ]
  },
  {
   "cell_type": "code",
   "execution_count": 6,
   "metadata": {},
   "outputs": [
    {
     "name": "stdout",
     "output_type": "stream",
     "text": [
      "Index(['eventname', 'deviceidhash', 'eventtimestamp', 'expid'], dtype='object')\n"
     ]
    }
   ],
   "source": [
    "new_col_names(df)"
   ]
  },
  {
   "cell_type": "markdown",
   "metadata": {},
   "source": [
    "##### <a id=\"\">Coluna de data e hora e uma coluna separada para somente datas</a>"
   ]
  },
  {
   "cell_type": "markdown",
   "metadata": {},
   "source": [
    "Os valores na coluna eventtimestamp parecem estar em timestamp Unix (segundos desde 1º de janeiro de 1970)"
   ]
  },
  {
   "cell_type": "code",
   "execution_count": 7,
   "metadata": {},
   "outputs": [],
   "source": [
    "# datetime for column eventtimestamp\n",
    "df['eventtimestamp'] = pd.to_datetime(df['eventtimestamp'], unit='s')"
   ]
  },
  {
   "cell_type": "markdown",
   "metadata": {},
   "source": [
    "pd.to_datetime(df['eventtimestamp'], __unit='s'__): Converte os valores do timestamp (em segundos) para datetime64"
   ]
  },
  {
   "cell_type": "code",
   "execution_count": 8,
   "metadata": {},
   "outputs": [
    {
     "data": {
      "text/html": [
       "<div>\n",
       "<style scoped>\n",
       "    .dataframe tbody tr th:only-of-type {\n",
       "        vertical-align: middle;\n",
       "    }\n",
       "\n",
       "    .dataframe tbody tr th {\n",
       "        vertical-align: top;\n",
       "    }\n",
       "\n",
       "    .dataframe thead th {\n",
       "        text-align: right;\n",
       "    }\n",
       "</style>\n",
       "<table border=\"1\" class=\"dataframe\">\n",
       "  <thead>\n",
       "    <tr style=\"text-align: right;\">\n",
       "      <th></th>\n",
       "      <th>eventname</th>\n",
       "      <th>deviceidhash</th>\n",
       "      <th>eventtimestamp</th>\n",
       "      <th>expid</th>\n",
       "      <th>eventdate</th>\n",
       "    </tr>\n",
       "  </thead>\n",
       "  <tbody>\n",
       "    <tr>\n",
       "      <th>0</th>\n",
       "      <td>MainScreenAppear</td>\n",
       "      <td>4575588528974610257</td>\n",
       "      <td>2019-07-25 04:43:36</td>\n",
       "      <td>246</td>\n",
       "      <td>2019-07-25</td>\n",
       "    </tr>\n",
       "    <tr>\n",
       "      <th>1</th>\n",
       "      <td>MainScreenAppear</td>\n",
       "      <td>7416695313311560658</td>\n",
       "      <td>2019-07-25 11:11:42</td>\n",
       "      <td>246</td>\n",
       "      <td>2019-07-25</td>\n",
       "    </tr>\n",
       "    <tr>\n",
       "      <th>2</th>\n",
       "      <td>PaymentScreenSuccessful</td>\n",
       "      <td>3518123091307005509</td>\n",
       "      <td>2019-07-25 11:28:47</td>\n",
       "      <td>248</td>\n",
       "      <td>2019-07-25</td>\n",
       "    </tr>\n",
       "    <tr>\n",
       "      <th>3</th>\n",
       "      <td>CartScreenAppear</td>\n",
       "      <td>3518123091307005509</td>\n",
       "      <td>2019-07-25 11:28:47</td>\n",
       "      <td>248</td>\n",
       "      <td>2019-07-25</td>\n",
       "    </tr>\n",
       "    <tr>\n",
       "      <th>4</th>\n",
       "      <td>PaymentScreenSuccessful</td>\n",
       "      <td>6217807653094995999</td>\n",
       "      <td>2019-07-25 11:48:42</td>\n",
       "      <td>248</td>\n",
       "      <td>2019-07-25</td>\n",
       "    </tr>\n",
       "  </tbody>\n",
       "</table>\n",
       "</div>"
      ],
      "text/plain": [
       "                 eventname         deviceidhash      eventtimestamp  expid  \\\n",
       "0         MainScreenAppear  4575588528974610257 2019-07-25 04:43:36    246   \n",
       "1         MainScreenAppear  7416695313311560658 2019-07-25 11:11:42    246   \n",
       "2  PaymentScreenSuccessful  3518123091307005509 2019-07-25 11:28:47    248   \n",
       "3         CartScreenAppear  3518123091307005509 2019-07-25 11:28:47    248   \n",
       "4  PaymentScreenSuccessful  6217807653094995999 2019-07-25 11:48:42    248   \n",
       "\n",
       "    eventdate  \n",
       "0  2019-07-25  \n",
       "1  2019-07-25  \n",
       "2  2019-07-25  \n",
       "3  2019-07-25  \n",
       "4  2019-07-25  "
      ]
     },
     "execution_count": 8,
     "metadata": {},
     "output_type": "execute_result"
    }
   ],
   "source": [
    "# column with only date\n",
    "df['eventdate'] = df['eventtimestamp'].dt.date\n",
    "df.head()"
   ]
  },
  {
   "cell_type": "markdown",
   "metadata": {},
   "source": [
    "#### <a id=\"\">Passo 3. Estudando e verificando os dados</a>"
   ]
  },
  {
   "cell_type": "markdown",
   "metadata": {},
   "source": [
    "##### <a id=\"\">Quantos eventos diferentes?</a>"
   ]
  },
  {
   "cell_type": "code",
   "execution_count": 9,
   "metadata": {},
   "outputs": [
    {
     "data": {
      "text/plain": [
       "eventname\n",
       "MainScreenAppear           119205\n",
       "OffersScreenAppear          46825\n",
       "CartScreenAppear            42731\n",
       "PaymentScreenSuccessful     34313\n",
       "Tutorial                     1052\n",
       "Name: count, dtype: int64"
      ]
     },
     "execution_count": 9,
     "metadata": {},
     "output_type": "execute_result"
    }
   ],
   "source": [
    "# events and events counts\n",
    "events = df['eventname'].unique()\n",
    "df['eventname'].value_counts()"
   ]
  },
  {
   "cell_type": "markdown",
   "metadata": {},
   "source": [
    "* 5 eventos diferentes: 'MainScreenAppear', 'PaymentScreenSuccessful', 'CartScreenAppear', 'OffersScreenAppear', 'Tutorial'\n",
    "* Aparentemente o funil seguiria a seguinte ordem: MainScreenAppear, OffersScreenAppear, CartScreenAppear, PaymentScreenSuccessful, Tutorial.\n",
    "Porém o tutorial parece ser um passo opcional que não seguiria uma ordem exata.                  "
   ]
  },
  {
   "cell_type": "markdown",
   "metadata": {},
   "source": [
    "##### <a id=\"\">Quantos usuários ficam nos registros?</a>"
   ]
  },
  {
   "cell_type": "code",
   "execution_count": 10,
   "metadata": {},
   "outputs": [
    {
     "data": {
      "text/plain": [
       "7551"
      ]
     },
     "execution_count": 10,
     "metadata": {},
     "output_type": "execute_result"
    }
   ],
   "source": [
    "# unique users\n",
    "n_unique_users = df['deviceidhash'].nunique()\n",
    "n_unique_users"
   ]
  },
  {
   "cell_type": "markdown",
   "metadata": {},
   "source": [
    "##### <a id=\"\">Qual é o número médio de eventos por usuário?</a>"
   ]
  },
  {
   "cell_type": "code",
   "execution_count": 11,
   "metadata": {},
   "outputs": [
    {
     "name": "stdout",
     "output_type": "stream",
     "text": [
      "O número médio de eventos por usuário é: 32\n"
     ]
    }
   ],
   "source": [
    "# avg events per user\n",
    "n_events_per_user = df.groupby('deviceidhash')['eventname'].count()\n",
    "print(\n",
    "    f'O número médio de eventos por usuário é: {int(n_events_per_user.mean())}')"
   ]
  },
  {
   "cell_type": "markdown",
   "metadata": {},
   "source": [
    "##### <a id=\"\">Qual é o período de tempo que os dados cobrem?</a>"
   ]
  },
  {
   "cell_type": "code",
   "execution_count": 12,
   "metadata": {},
   "outputs": [
    {
     "name": "stdout",
     "output_type": "stream",
     "text": [
      "Período coberto pelos dados: 2019-07-25 até 2019-08-07\n"
     ]
    }
   ],
   "source": [
    "# Date min e max\n",
    "min_date = df['eventdate'].min()\n",
    "max_date = df['eventdate'].max()\n",
    "\n",
    "print(f\"Período coberto pelos dados: {min_date} até {max_date}\")"
   ]
  },
  {
   "cell_type": "markdown",
   "metadata": {},
   "source": [
    "Os dados cobrem um período de 14 dias "
   ]
  },
  {
   "cell_type": "markdown",
   "metadata": {},
   "source": [
    "##### <a id=\"\">Distribuição de eventos por data e hora</a>"
   ]
  },
  {
   "cell_type": "code",
   "execution_count": 13,
   "metadata": {},
   "outputs": [
    {
     "data": {
      "image/png": "[encoded data removed]",
      "text/plain": [
       "<Figure size 900x500 with 1 Axes>"
      ]
     },
     "metadata": {},
     "output_type": "display_data"
    }
   ],
   "source": [
    "# distribution of events per day\n",
    "\n",
    "df.groupby('eventdate').size().plot(kind='bar', figsize=(9, 5))\n",
    "\n",
    "plt.xlabel(\"Data\")\n",
    "plt.ylabel(\"Número de Eventos\")\n",
    "plt.title(\"Distribuição de eventos ao longo do tempo\")\n",
    "plt.xticks(rotation=45)\n",
    "plt.show()\n",
    "\n",
    "# size() Return the number of rows if Series. Otherwise return the number of rows times number of columns if DataFrame."
   ]
  },
  {
   "cell_type": "markdown",
   "metadata": {},
   "source": [
    "Os dados não parecem estar igualmente completos, segundo o gráfico de distribuição os dados só começão a ficar completos a partir do dia 01/08"
   ]
  },
  {
   "cell_type": "code",
   "execution_count": 14,
   "metadata": {},
   "outputs": [
    {
     "data": {
      "image/png": "[encoded data removed]",
      "text/plain": [
       "<Figure size 900x500 with 1 Axes>"
      ]
     },
     "metadata": {},
     "output_type": "display_data"
    }
   ],
   "source": [
    "# distribution of events per hour\n",
    "df['eventhour'] = df['eventtimestamp'].dt.hour\n",
    "\n",
    "df['eventhour'].plot(kind='hist', bins=24, figsize=(9, 5), edgecolor=\"black\")\n",
    "\n",
    "plt.xlabel(\"Hora do Dia\")\n",
    "plt.ylabel(\"Frequência\")\n",
    "plt.title(\"Distribuição de Eventos por Hora do Dia\")\n",
    "plt.xticks(range(0, 24))\n",
    "plt.grid(axis='y', linestyle='--', alpha=0.7)\n",
    "plt.show()"
   ]
  },
  {
   "cell_type": "markdown",
   "metadata": {},
   "source": [
    "Maioria do eventos acontecem entre 7:00 e 19:00"
   ]
  },
  {
   "cell_type": "code",
   "execution_count": 15,
   "metadata": {},
   "outputs": [
    {
     "name": "stdout",
     "output_type": "stream",
     "text": [
      "count       14.000000\n",
      "mean     17437.571429\n",
      "std      17734.124149\n",
      "min          9.000000\n",
      "25%        124.750000\n",
      "50%      16587.500000\n",
      "75%      35042.250000\n",
      "max      36229.000000\n",
      "dtype: float64\n"
     ]
    }
   ],
   "source": [
    "# Count events per day\n",
    "event_counts = df.groupby('eventdate').size()\n",
    "\n",
    "print(event_counts.describe())  # general stats"
   ]
  },
  {
   "cell_type": "code",
   "execution_count": 16,
   "metadata": {},
   "outputs": [
    {
     "data": {
      "text/plain": [
       "eventdate\n",
       "2019-07-25        9\n",
       "2019-07-26       31\n",
       "2019-07-27       55\n",
       "2019-07-28      105\n",
       "2019-07-29      184\n",
       "2019-07-30      413\n",
       "2019-07-31     2031\n",
       "2019-08-01    36229\n",
       "2019-08-02    35606\n",
       "2019-08-03    33351\n",
       "2019-08-04    33033\n",
       "2019-08-05    36113\n",
       "2019-08-06    35822\n",
       "2019-08-07    31144\n",
       "dtype: int64"
      ]
     },
     "execution_count": 16,
     "metadata": {},
     "output_type": "execute_result"
    }
   ],
   "source": [
    "event_counts"
   ]
  },
  {
   "cell_type": "markdown",
   "metadata": {},
   "source": [
    "Claramente há dias com com poucos eventos, o que pode indicar um problema na coleta de dados. Para não haver distorção no quadro geral irei fazer um corte nos dados, mantendo somente a partir do momento que os dados parecem estar igualmente completos "
   ]
  },
  {
   "cell_type": "markdown",
   "metadata": {},
   "source": [
    "##### <a id=\"\">Qual período os dados realmente representam?</a>"
   ]
  },
  {
   "cell_type": "code",
   "execution_count": 17,
   "metadata": {},
   "outputs": [
    {
     "name": "stdout",
     "output_type": "stream",
     "text": [
      "Os dados começam a ser completos a partir de: 2019-08-01\n"
     ]
    }
   ],
   "source": [
    "# threshold to cut where data is stable\n",
    "# Below 50% of the average data is considered imcompleted\n",
    "threshold = event_counts.mean() * 0.5\n",
    "\n",
    "# Find first date where data meet threshold\n",
    "stable_start = event_counts[event_counts >= threshold].index.min()\n",
    "\n",
    "print(f\"Os dados começam a ser completos a partir de: {stable_start}\")"
   ]
  },
  {
   "cell_type": "code",
   "execution_count": 18,
   "metadata": {},
   "outputs": [
    {
     "name": "stdout",
     "output_type": "stream",
     "text": [
      "O período realmente representado pelos dados é de 2019-08-01 até 2019-08-07\n"
     ]
    }
   ],
   "source": [
    "# valid period for analysis\n",
    "valid_data = df[df['eventdate'] >= stable_start]\n",
    "\n",
    "# new date interval\n",
    "real_min_date = valid_data['eventdate'].min()\n",
    "real_max_date = valid_data['eventdate'].max()\n",
    "\n",
    "print(\n",
    "    f'O período realmente representado pelos dados é de {real_min_date} até {real_max_date}')"
   ]
  },
  {
   "cell_type": "markdown",
   "metadata": {},
   "source": [
    "##### <a id=\"\">Quantos eventos e usuários foram perdidos?</a>"
   ]
  },
  {
   "cell_type": "code",
   "execution_count": null,
   "metadata": {},
   "outputs": [
    {
     "name": "stdout",
     "output_type": "stream",
     "text": [
      "Foram perdidos 2828 eventos ao excluir os dados antigos, isso representa 1.2% dos dados\n",
      "None\n",
      "Foram perdidos 1451 usuários ao excluir os dados antigos\n"
     ]
    }
   ],
   "source": [
    "# user and events lost\n",
    "invalid_data = df[df['eventdate'] < stable_start]\n",
    "\n",
    "print(print(\n",
    "    f'Foram perdidos {len(invalid_data[\"eventname\"])} eventos ao excluir os dados antigos, isso representa {(len(invalid_data[\"eventname\"])/len(df[\"eventname\"])*100):.1f}% dos dados'))\n",
    "print(\n",
    "    f'Foram perdidos {invalid_data['deviceidhash'].nunique()} usuários ao excluir os dados antigos')"
   ]
  },
  {
   "cell_type": "markdown",
   "metadata": {},
   "source": [
    "##### <a id=\"\">Checando grupos experimentais</a>"
   ]
  },
  {
   "cell_type": "code",
   "execution_count": 20,
   "metadata": {},
   "outputs": [
    {
     "data": {
      "text/plain": [
       "eventdate   expid\n",
       "2019-08-01  246      11581\n",
       "            247      12336\n",
       "            248      12312\n",
       "2019-08-02  246      10960\n",
       "            247      11015\n",
       "            248      13631\n",
       "2019-08-03  246      10599\n",
       "            247      11040\n",
       "            248      11712\n",
       "2019-08-04  246      11533\n",
       "            247       9949\n",
       "            248      11551\n",
       "2019-08-05  246      12381\n",
       "            247      10971\n",
       "            248      12761\n",
       "2019-08-06  246      11740\n",
       "            247      11731\n",
       "            248      12351\n",
       "2019-08-07  246      10631\n",
       "            247      10105\n",
       "            248      10408\n",
       "Name: expid, dtype: int64"
      ]
     },
     "execution_count": 20,
     "metadata": {},
     "output_type": "execute_result"
    }
   ],
   "source": [
    "# groupby per day with groups counts\n",
    "valid_data.groupby(['eventdate', 'expid'])['expid'].count()"
   ]
  },
  {
   "cell_type": "markdown",
   "metadata": {},
   "source": [
    "Grupos experimentais divididos corretamente"
   ]
  },
  {
   "cell_type": "markdown",
   "metadata": {},
   "source": [
    "#### <a id=\"\">Passo 4. Funil de eventos</a>"
   ]
  },
  {
   "cell_type": "markdown",
   "metadata": {},
   "source": [
    "##### <a id=\"\">Veja quais eventos estão nos diários e sua frequência de ocorrência.Classifique-os por frequência.</a>"
   ]
  },
  {
   "cell_type": "code",
   "execution_count": 21,
   "metadata": {},
   "outputs": [
    {
     "data": {
      "text/plain": [
       "eventname\n",
       "MainScreenAppear           117431\n",
       "OffersScreenAppear          46350\n",
       "CartScreenAppear            42365\n",
       "PaymentScreenSuccessful     34113\n",
       "Tutorial                     1039\n",
       "Name: count, dtype: int64"
      ]
     },
     "execution_count": 21,
     "metadata": {},
     "output_type": "execute_result"
    }
   ],
   "source": [
    "# events frequency\n",
    "valid_data['eventname'].value_counts()"
   ]
  },
  {
   "cell_type": "markdown",
   "metadata": {},
   "source": [
    "##### <a id=\"\">Número e proporção de usuários que executaram cada uma das ações</a>"
   ]
  },
  {
   "cell_type": "code",
   "execution_count": 22,
   "metadata": {},
   "outputs": [
    {
     "data": {
      "text/html": [
       "<div>\n",
       "<style scoped>\n",
       "    .dataframe tbody tr th:only-of-type {\n",
       "        vertical-align: middle;\n",
       "    }\n",
       "\n",
       "    .dataframe tbody tr th {\n",
       "        vertical-align: top;\n",
       "    }\n",
       "\n",
       "    .dataframe thead th {\n",
       "        text-align: right;\n",
       "    }\n",
       "</style>\n",
       "<table border=\"1\" class=\"dataframe\">\n",
       "  <thead>\n",
       "    <tr style=\"text-align: right;\">\n",
       "      <th></th>\n",
       "      <th>eventname</th>\n",
       "      <th>unique_users</th>\n",
       "      <th>proportion</th>\n",
       "    </tr>\n",
       "  </thead>\n",
       "  <tbody>\n",
       "    <tr>\n",
       "      <th>1</th>\n",
       "      <td>MainScreenAppear</td>\n",
       "      <td>7419</td>\n",
       "      <td>0.984736</td>\n",
       "    </tr>\n",
       "    <tr>\n",
       "      <th>2</th>\n",
       "      <td>OffersScreenAppear</td>\n",
       "      <td>4593</td>\n",
       "      <td>0.609636</td>\n",
       "    </tr>\n",
       "    <tr>\n",
       "      <th>0</th>\n",
       "      <td>CartScreenAppear</td>\n",
       "      <td>3734</td>\n",
       "      <td>0.495620</td>\n",
       "    </tr>\n",
       "    <tr>\n",
       "      <th>3</th>\n",
       "      <td>PaymentScreenSuccessful</td>\n",
       "      <td>3539</td>\n",
       "      <td>0.469737</td>\n",
       "    </tr>\n",
       "    <tr>\n",
       "      <th>4</th>\n",
       "      <td>Tutorial</td>\n",
       "      <td>840</td>\n",
       "      <td>0.111495</td>\n",
       "    </tr>\n",
       "  </tbody>\n",
       "</table>\n",
       "</div>"
      ],
      "text/plain": [
       "                 eventname  unique_users  proportion\n",
       "1         MainScreenAppear          7419    0.984736\n",
       "2       OffersScreenAppear          4593    0.609636\n",
       "0         CartScreenAppear          3734    0.495620\n",
       "3  PaymentScreenSuccessful          3539    0.469737\n",
       "4                 Tutorial           840    0.111495"
      ]
     },
     "execution_count": 22,
     "metadata": {},
     "output_type": "execute_result"
    }
   ],
   "source": [
    "# number of unique user per event\n",
    "users_per_event = valid_data.groupby(\n",
    "    'eventname')['deviceidhash'].nunique().reset_index()\n",
    "\n",
    "# rename columns and sort\n",
    "users_per_event.columns = ['eventname', 'unique_users']\n",
    "users_per_event.sort_values('unique_users', ascending=False, inplace=True)\n",
    "\n",
    "# proportion of users each event\n",
    "total_users = valid_data['deviceidhash'].nunique()\n",
    "\n",
    "users_per_event['proportion'] = users_per_event['unique_users'] / total_users\n",
    "users_per_event"
   ]
  },
  {
   "cell_type": "markdown",
   "metadata": {},
   "source": [
    "##### <a id=\"\">Em que ordem as ações acontecem? Todas fazem parte de uma sequência?</a>"
   ]
  },
  {
   "cell_type": "markdown",
   "metadata": {},
   "source": [
    "* As ações aconteceram na seguinte ordem: MainScreenAppear > OffersScreenAppear > CartScreenAppear > PaymentScreenSuccessful. \n",
    "* Nem todas as ações fazem parte de uma sequencia, esse é o caso da ação Tutorial, para não prejudicar a análise de funil decidi por deletar a linha com ação tutorial "
   ]
  },
  {
   "cell_type": "code",
   "execution_count": 23,
   "metadata": {},
   "outputs": [],
   "source": [
    "# deleting tutorial\n",
    "users_per_event.drop([4], inplace=True)"
   ]
  },
  {
   "cell_type": "markdown",
   "metadata": {},
   "source": [
    "##### <a id=\"\">Montando funil de eventos</a>"
   ]
  },
  {
   "cell_type": "code",
   "execution_count": 24,
   "metadata": {},
   "outputs": [
    {
     "data": {
      "application/vnd.plotly.v1+json": {
       "config": {
        "plotlyServerURL": "https://plot.ly"
       },
       "data": [
        {
         "textinfo": "value+percent initial",
         "type": "funnel",
         "x": [
          7419,
          4593,
          3734,
          3539
         ],
         "y": [
          "MainScreenAppear",
          "OffersScreenAppear",
          "CartScreenAppear",
          "PaymentScreenSuccessful"
         ]
        }
       ],
       "layout": {
        "template": {
         "data": {
          "bar": [
           {
            "error_x": {
             "color": "#2a3f5f"
            },
            "error_y": {
             "color": "#2a3f5f"
            },
            "marker": {
             "line": {
              "color": "#E5ECF6",
              "width": 0.5
             },
             "pattern": {
              "fillmode": "overlay",
              "size": 10,
              "solidity": 0.2
             }
            },
            "type": "bar"
           }
          ],
          "barpolar": [
           {
            "marker": {
             "line": {
              "color": "#E5ECF6",
              "width": 0.5
             },
             "pattern": {
              "fillmode": "overlay",
              "size": 10,
              "solidity": 0.2
             }
            },
            "type": "barpolar"
           }
          ],
          "carpet": [
           {
            "aaxis": {
             "endlinecolor": "#2a3f5f",
             "gridcolor": "white",
             "linecolor": "white",
             "minorgridcolor": "white",
             "startlinecolor": "#2a3f5f"
            },
            "baxis": {
             "endlinecolor": "#2a3f5f",
             "gridcolor": "white",
             "linecolor": "white",
             "minorgridcolor": "white",
             "startlinecolor": "#2a3f5f"
            },
            "type": "carpet"
           }
          ],
          "choropleth": [
           {
            "colorbar": {
             "outlinewidth": 0,
             "ticks": ""
            },
            "type": "choropleth"
           }
          ],
          "contour": [
           {
            "colorbar": {
             "outlinewidth": 0,
             "ticks": ""
            },
            "colorscale": [
             [
              0,
              "#0d0887"
             ],
             [
              0.1111111111111111,
              "#46039f"
             ],
             [
              0.2222222222222222,
              "#7201a8"
             ],
             [
              0.3333333333333333,
              "#9c179e"
             ],
             [
              0.4444444444444444,
              "#bd3786"
             ],
             [
              0.5555555555555556,
              "#d8576b"
             ],
             [
              0.6666666666666666,
              "#ed7953"
             ],
             [
              0.7777777777777778,
              "#fb9f3a"
             ],
             [
              0.8888888888888888,
              "#fdca26"
             ],
             [
              1,
              "#f0f921"
             ]
            ],
            "type": "contour"
           }
          ],
          "contourcarpet": [
           {
            "colorbar": {
             "outlinewidth": 0,
             "ticks": ""
            },
            "type": "contourcarpet"
           }
          ],
          "heatmap": [
           {
            "colorbar": {
             "outlinewidth": 0,
             "ticks": ""
            },
            "colorscale": [
             [
              0,
              "#0d0887"
             ],
             [
              0.1111111111111111,
              "#46039f"
             ],
             [
              0.2222222222222222,
              "#7201a8"
             ],
             [
              0.3333333333333333,
              "#9c179e"
             ],
             [
              0.4444444444444444,
              "#bd3786"
             ],
             [
              0.5555555555555556,
              "#d8576b"
             ],
             [
              0.6666666666666666,
              "#ed7953"
             ],
             [
              0.7777777777777778,
              "#fb9f3a"
             ],
             [
              0.8888888888888888,
              "#fdca26"
             ],
             [
              1,
              "#f0f921"
             ]
            ],
            "type": "heatmap"
           }
          ],
          "heatmapgl": [
           {
            "colorbar": {
             "outlinewidth": 0,
             "ticks": ""
            },
            "colorscale": [
             [
              0,
              "#0d0887"
             ],
             [
              0.1111111111111111,
              "#46039f"
             ],
             [
              0.2222222222222222,
              "#7201a8"
             ],
             [
              0.3333333333333333,
              "#9c179e"
             ],
             [
              0.4444444444444444,
              "#bd3786"
             ],
             [
              0.5555555555555556,
              "#d8576b"
             ],
             [
              0.6666666666666666,
              "#ed7953"
             ],
             [
              0.7777777777777778,
              "#fb9f3a"
             ],
             [
              0.8888888888888888,
              "#fdca26"
             ],
             [
              1,
              "#f0f921"
             ]
            ],
            "type": "heatmapgl"
           }
          ],
          "histogram": [
           {
            "marker": {
             "pattern": {
              "fillmode": "overlay",
              "size": 10,
              "solidity": 0.2
             }
            },
            "type": "histogram"
           }
          ],
          "histogram2d": [
           {
            "colorbar": {
             "outlinewidth": 0,
             "ticks": ""
            },
            "colorscale": [
             [
              0,
              "#0d0887"
             ],
             [
              0.1111111111111111,
              "#46039f"
             ],
             [
              0.2222222222222222,
              "#7201a8"
             ],
             [
              0.3333333333333333,
              "#9c179e"
             ],
             [
              0.4444444444444444,
              "#bd3786"
             ],
             [
              0.5555555555555556,
              "#d8576b"
             ],
             [
              0.6666666666666666,
              "#ed7953"
             ],
             [
              0.7777777777777778,
              "#fb9f3a"
             ],
             [
              0.8888888888888888,
              "#fdca26"
             ],
             [
              1,
              "#f0f921"
             ]
            ],
            "type": "histogram2d"
           }
          ],
          "histogram2dcontour": [
           {
            "colorbar": {
             "outlinewidth": 0,
             "ticks": ""
            },
            "colorscale": [
             [
              0,
              "#0d0887"
             ],
             [
              0.1111111111111111,
              "#46039f"
             ],
             [
              0.2222222222222222,
              "#7201a8"
             ],
             [
              0.3333333333333333,
              "#9c179e"
             ],
             [
              0.4444444444444444,
              "#bd3786"
             ],
             [
              0.5555555555555556,
              "#d8576b"
             ],
             [
              0.6666666666666666,
              "#ed7953"
             ],
             [
              0.7777777777777778,
              "#fb9f3a"
             ],
             [
              0.8888888888888888,
              "#fdca26"
             ],
             [
              1,
              "#f0f921"
             ]
            ],
            "type": "histogram2dcontour"
           }
          ],
          "mesh3d": [
           {
            "colorbar": {
             "outlinewidth": 0,
             "ticks": ""
            },
            "type": "mesh3d"
           }
          ],
          "parcoords": [
           {
            "line": {
             "colorbar": {
              "outlinewidth": 0,
              "ticks": ""
             }
            },
            "type": "parcoords"
           }
          ],
          "pie": [
           {
            "automargin": true,
            "type": "pie"
           }
          ],
          "scatter": [
           {
            "fillpattern": {
             "fillmode": "overlay",
             "size": 10,
             "solidity": 0.2
            },
            "type": "scatter"
           }
          ],
          "scatter3d": [
           {
            "line": {
             "colorbar": {
              "outlinewidth": 0,
              "ticks": ""
             }
            },
            "marker": {
             "colorbar": {
              "outlinewidth": 0,
              "ticks": ""
             }
            },
            "type": "scatter3d"
           }
          ],
          "scattercarpet": [
           {
            "marker": {
             "colorbar": {
              "outlinewidth": 0,
              "ticks": ""
             }
            },
            "type": "scattercarpet"
           }
          ],
          "scattergeo": [
           {
            "marker": {
             "colorbar": {
              "outlinewidth": 0,
              "ticks": ""
             }
            },
            "type": "scattergeo"
           }
          ],
          "scattergl": [
           {
            "marker": {
             "colorbar": {
              "outlinewidth": 0,
              "ticks": ""
             }
            },
            "type": "scattergl"
           }
          ],
          "scattermapbox": [
           {
            "marker": {
             "colorbar": {
              "outlinewidth": 0,
              "ticks": ""
             }
            },
            "type": "scattermapbox"
           }
          ],
          "scatterpolar": [
           {
            "marker": {
             "colorbar": {
              "outlinewidth": 0,
              "ticks": ""
             }
            },
            "type": "scatterpolar"
           }
          ],
          "scatterpolargl": [
           {
            "marker": {
             "colorbar": {
              "outlinewidth": 0,
              "ticks": ""
             }
            },
            "type": "scatterpolargl"
           }
          ],
          "scatterternary": [
           {
            "marker": {
             "colorbar": {
              "outlinewidth": 0,
              "ticks": ""
             }
            },
            "type": "scatterternary"
           }
          ],
          "surface": [
           {
            "colorbar": {
             "outlinewidth": 0,
             "ticks": ""
            },
            "colorscale": [
             [
              0,
              "#0d0887"
             ],
             [
              0.1111111111111111,
              "#46039f"
             ],
             [
              0.2222222222222222,
              "#7201a8"
             ],
             [
              0.3333333333333333,
              "#9c179e"
             ],
             [
              0.4444444444444444,
              "#bd3786"
             ],
             [
              0.5555555555555556,
              "#d8576b"
             ],
             [
              0.6666666666666666,
              "#ed7953"
             ],
             [
              0.7777777777777778,
              "#fb9f3a"
             ],
             [
              0.8888888888888888,
              "#fdca26"
             ],
             [
              1,
              "#f0f921"
             ]
            ],
            "type": "surface"
           }
          ],
          "table": [
           {
            "cells": {
             "fill": {
              "color": "#EBF0F8"
             },
             "line": {
              "color": "white"
             }
            },
            "header": {
             "fill": {
              "color": "#C8D4E3"
             },
             "line": {
              "color": "white"
             }
            },
            "type": "table"
           }
          ]
         },
         "layout": {
          "annotationdefaults": {
           "arrowcolor": "#2a3f5f",
           "arrowhead": 0,
           "arrowwidth": 1
          },
          "autotypenumbers": "strict",
          "coloraxis": {
           "colorbar": {
            "outlinewidth": 0,
            "ticks": ""
           }
          },
          "colorscale": {
           "diverging": [
            [
             0,
             "#8e0152"
            ],
            [
             0.1,
             "#c51b7d"
            ],
            [
             0.2,
             "#de77ae"
            ],
            [
             0.3,
             "#f1b6da"
            ],
            [
             0.4,
             "#fde0ef"
            ],
            [
             0.5,
             "#f7f7f7"
            ],
            [
             0.6,
             "#e6f5d0"
            ],
            [
             0.7,
             "#b8e186"
            ],
            [
             0.8,
             "#7fbc41"
            ],
            [
             0.9,
             "#4d9221"
            ],
            [
             1,
             "#276419"
            ]
           ],
           "sequential": [
            [
             0,
             "#0d0887"
            ],
            [
             0.1111111111111111,
             "#46039f"
            ],
            [
             0.2222222222222222,
             "#7201a8"
            ],
            [
             0.3333333333333333,
             "#9c179e"
            ],
            [
             0.4444444444444444,
             "#bd3786"
            ],
            [
             0.5555555555555556,
             "#d8576b"
            ],
            [
             0.6666666666666666,
             "#ed7953"
            ],
            [
             0.7777777777777778,
             "#fb9f3a"
            ],
            [
             0.8888888888888888,
             "#fdca26"
            ],
            [
             1,
             "#f0f921"
            ]
           ],
           "sequentialminus": [
            [
             0,
             "#0d0887"
            ],
            [
             0.1111111111111111,
             "#46039f"
            ],
            [
             0.2222222222222222,
             "#7201a8"
            ],
            [
             0.3333333333333333,
             "#9c179e"
            ],
            [
             0.4444444444444444,
             "#bd3786"
            ],
            [
             0.5555555555555556,
             "#d8576b"
            ],
            [
             0.6666666666666666,
             "#ed7953"
            ],
            [
             0.7777777777777778,
             "#fb9f3a"
            ],
            [
             0.8888888888888888,
             "#fdca26"
            ],
            [
             1,
             "#f0f921"
            ]
           ]
          },
          "colorway": [
           "#636efa",
           "#EF553B",
           "#00cc96",
           "#ab63fa",
           "#FFA15A",
           "#19d3f3",
           "#FF6692",
           "#B6E880",
           "#FF97FF",
           "#FECB52"
          ],
          "font": {
           "color": "#2a3f5f"
          },
          "geo": {
           "bgcolor": "white",
           "lakecolor": "white",
           "landcolor": "#E5ECF6",
           "showlakes": true,
           "showland": true,
           "subunitcolor": "white"
          },
          "hoverlabel": {
           "align": "left"
          },
          "hovermode": "closest",
          "mapbox": {
           "style": "light"
          },
          "paper_bgcolor": "white",
          "plot_bgcolor": "#E5ECF6",
          "polar": {
           "angularaxis": {
            "gridcolor": "white",
            "linecolor": "white",
            "ticks": ""
           },
           "bgcolor": "#E5ECF6",
           "radialaxis": {
            "gridcolor": "white",
            "linecolor": "white",
            "ticks": ""
           }
          },
          "scene": {
           "xaxis": {
            "backgroundcolor": "#E5ECF6",
            "gridcolor": "white",
            "gridwidth": 2,
            "linecolor": "white",
            "showbackground": true,
            "ticks": "",
            "zerolinecolor": "white"
           },
           "yaxis": {
            "backgroundcolor": "#E5ECF6",
            "gridcolor": "white",
            "gridwidth": 2,
            "linecolor": "white",
            "showbackground": true,
            "ticks": "",
            "zerolinecolor": "white"
           },
           "zaxis": {
            "backgroundcolor": "#E5ECF6",
            "gridcolor": "white",
            "gridwidth": 2,
            "linecolor": "white",
            "showbackground": true,
            "ticks": "",
            "zerolinecolor": "white"
           }
          },
          "shapedefaults": {
           "line": {
            "color": "#2a3f5f"
           }
          },
          "ternary": {
           "aaxis": {
            "gridcolor": "white",
            "linecolor": "white",
            "ticks": ""
           },
           "baxis": {
            "gridcolor": "white",
            "linecolor": "white",
            "ticks": ""
           },
           "bgcolor": "#E5ECF6",
           "caxis": {
            "gridcolor": "white",
            "linecolor": "white",
            "ticks": ""
           }
          },
          "title": {
           "x": 0.05
          },
          "xaxis": {
           "automargin": true,
           "gridcolor": "white",
           "linecolor": "white",
           "ticks": "",
           "title": {
            "standoff": 15
           },
           "zerolinecolor": "white",
           "zerolinewidth": 2
          },
          "yaxis": {
           "automargin": true,
           "gridcolor": "white",
           "linecolor": "white",
           "ticks": "",
           "title": {
            "standoff": 15
           },
           "zerolinecolor": "white",
           "zerolinewidth": 2
          }
         }
        }
       }
      }
     },
     "metadata": {},
     "output_type": "display_data"
    }
   ],
   "source": [
    "# funnel chart\n",
    "fig = go.Figure(go.Funnel(\n",
    "    y=users_per_event[\"eventname\"],\n",
    "    x=users_per_event[\"unique_users\"],\n",
    "    textinfo=\"value+percent initial\"  # absolute values and initial percentage\n",
    "))\n",
    "\n",
    "fig.show()"
   ]
  },
  {
   "cell_type": "markdown",
   "metadata": {},
   "source": [
    "##### <a id=\"\">Qual fase perde mais usuários?</a>"
   ]
  },
  {
   "cell_type": "code",
   "execution_count": 25,
   "metadata": {},
   "outputs": [
    {
     "name": "stdout",
     "output_type": "stream",
     "text": [
      "A maior perde ocorre no MainScreenAppear, onde 2826 dos usuários são perdidos, isso representa 38.09%\n"
     ]
    }
   ],
   "source": [
    "# Absolute and percentage of drop off\n",
    "# diff between next phase periods default 1 (previous row) -1 next row, axis= Take difference over rows (0) or columns (1).\n",
    "users_per_event[\"drop_off\"] = users_per_event[\"unique_users\"].diff(\n",
    "    periods=-1).abs()\n",
    "users_per_event['drop_off_percentage'] = (\n",
    "    users_per_event['drop_off'] / users_per_event['unique_users']) * 100\n",
    "\n",
    "# find max lost\n",
    "# saving index with max drop off\n",
    "max_drop_idx = users_per_event['drop_off'].idxmax()\n",
    "max_drop_event = users_per_event.loc[max_drop_idx, 'eventname']\n",
    "max_drop_value = users_per_event.loc[max_drop_idx, 'drop_off']\n",
    "max_drop_percentage = users_per_event.loc[max_drop_idx, 'drop_off_percentage']\n",
    "\n",
    "print(\n",
    "    f'A maior perde ocorre no {max_drop_event}, onde {max_drop_value:.0f} dos usuários são perdidos, isso representa {max_drop_percentage:.2f}%')\n",
    "\n",
    "# idmax()Return index of first occurrence of maximum over requested axis."
   ]
  },
  {
   "cell_type": "markdown",
   "metadata": {},
   "source": [
    "Qual é a parcela de usuários que faz o caminho inteiro, desde o primeiro evento\n",
    "até o pagamento?"
   ]
  },
  {
   "cell_type": "code",
   "execution_count": null,
   "metadata": {},
   "outputs": [
    {
     "name": "stdout",
     "output_type": "stream",
     "text": [
      "Apenas 47.70% dos usuários completam o funil inteiro.\n"
     ]
    }
   ],
   "source": [
    "# Conversion rate\n",
    "total_conversion_rate = (\n",
    "    users_per_event[\"unique_users\"].iloc[-1] / users_per_event[\"unique_users\"].iloc[0]) * 100\n",
    "\n",
    "print(\n",
    "    f\"Apenas {total_conversion_rate:.2f}% dos usuários completam o funil inteiro.\")"
   ]
  },
  {
   "cell_type": "markdown",
   "metadata": {},
   "source": [
    "#### <a id=\"\">Passo 5. Resultados do experimento</a>"
   ]
  },
  {
   "cell_type": "markdown",
   "metadata": {},
   "source": [
    "##### <a id=\"\">Quantos usuários há em cada grupo?</a>"
   ]
  },
  {
   "cell_type": "code",
   "execution_count": 27,
   "metadata": {},
   "outputs": [
    {
     "data": {
      "text/plain": [
       "expid\n",
       "246    2484\n",
       "247    2513\n",
       "248    2537\n",
       "Name: deviceidhash, dtype: int64"
      ]
     },
     "execution_count": 27,
     "metadata": {},
     "output_type": "execute_result"
    }
   ],
   "source": [
    "users_per_group = valid_data.groupby('expid')['deviceidhash'].nunique()\n",
    "users_per_group"
   ]
  },
  {
   "cell_type": "markdown",
   "metadata": {},
   "source": [
    "##### <a id=\"\">Teste A/A, há diferenças estatisticamente significativas?</a>"
   ]
  },
  {
   "cell_type": "markdown",
   "metadata": {},
   "source": [
    "1. Teste Z para comparar taxa de conversão Se o objetivo for comparar a taxa de conversão dos grupos (exemplo: \"Visit Page\" → \"Purchase\"), podemos usar o Teste Z para duas proporções.\n",
    "2. Teste Qui-Quadrado para comparar distribuição de eventos Se quisermos verificar se os eventos ocorrem na mesma frequência entre os grupos, usamos o teste Qui-Quadrado.\n",
    "3. Teste de Tempo (Mann-Whitney U ou Teste T) Se queremos comparar o tempo entre eventos, usamos Teste T (se normal) ou Mann-Whitney U (se não normal).\n",
    "\n",
    "Como fizemos análise de funil e o objetivo do projeto é ver como uma alteracão de layout influencia no comportamento do usuários, decidi pelo Teste Z para comparar taxa de conversão entre os grupos\n",
    "\n",
    "* Hipótese nula: Não há diferença estatisticamente significativa em relação a taxa de conversão \n",
    "* Hipótese alternativa: Há diferença estatisticamente significativa em relação a taxa de conversão "
   ]
  },
  {
   "cell_type": "code",
   "execution_count": null,
   "metadata": {},
   "outputs": [
    {
     "name": "stdout",
     "output_type": "stream",
     "text": [
      "Estatística do Teste Z: 1.5529\n",
      "P-Valor: 0.1204\n",
      "Não há diferença estatisticamente significativa em relação a taxa de conversão entre os grupos 246 e 247.\n"
     ]
    }
   ],
   "source": [
    "# filter control group\n",
    "valid_data_control = valid_data[valid_data['expid'].isin([246, 247])]\n",
    "\n",
    "# count number of unique users by group who start funnel\n",
    "users_start = valid_data_control[valid_data_control[\"eventname\"]\n",
    "                                 == \"MainScreenAppear\"].groupby(\"expid\")[\"deviceidhash\"].nunique()\n",
    "\n",
    "# count number of unique users by group who concluded funnel\n",
    "users_complete = valid_data_control[valid_data_control[\"eventname\"] ==\n",
    "                                    \"PaymentScreenSuccessful\"].groupby(\"expid\")[\"deviceidhash\"].nunique()\n",
    "\n",
    "# define values for z test\n",
    "s_246, s_247 = users_start[246], users_start[247]  # initial user both groups\n",
    "# final users both groups\n",
    "c_246, c_247 = users_complete[246], users_complete[247]\n",
    "\n",
    "# Values to array to apply z test\n",
    "count = np.array([c_246, c_247])  # Convertion in the groups\n",
    "nobs = np.array([s_246, s_247])    # Total users in groups\n",
    "\n",
    "stat, p_value = proportions_ztest(count, nobs)\n",
    "\n",
    "print(f\"Estatística do Teste Z: {stat:.4f}\")\n",
    "print(f\"P-Valor: {p_value:.4f}\")\n",
    "\n",
    "# Results\n",
    "alpha = .05\n",
    "if p_value < alpha:\n",
    "    print(\"Há diferença estatisticamente significativa em relação a taxa de conversão entre os grupos 246 e 247.\")\n",
    "else:\n",
    "    print(\"Não há diferença estatisticamente significativa em relação a taxa de conversão entre os grupos 246 e 247.\")"
   ]
  },
  {
   "cell_type": "markdown",
   "metadata": {},
   "source": [
    "##### <a id=\"\">Eventos mais populares e número de usuários nos grupos de controle</a>"
   ]
  },
  {
   "cell_type": "code",
   "execution_count": null,
   "metadata": {},
   "outputs": [
    {
     "data": {
      "text/html": [
       "<div>\n",
       "<style scoped>\n",
       "    .dataframe tbody tr th:only-of-type {\n",
       "        vertical-align: middle;\n",
       "    }\n",
       "\n",
       "    .dataframe tbody tr th {\n",
       "        vertical-align: top;\n",
       "    }\n",
       "\n",
       "    .dataframe thead th {\n",
       "        text-align: right;\n",
       "    }\n",
       "</style>\n",
       "<table border=\"1\" class=\"dataframe\">\n",
       "  <thead>\n",
       "    <tr style=\"text-align: right;\">\n",
       "      <th>expid</th>\n",
       "      <th>246</th>\n",
       "      <th>247</th>\n",
       "      <th>proportion_246</th>\n",
       "      <th>proportion_247</th>\n",
       "    </tr>\n",
       "    <tr>\n",
       "      <th>eventname</th>\n",
       "      <th></th>\n",
       "      <th></th>\n",
       "      <th></th>\n",
       "      <th></th>\n",
       "    </tr>\n",
       "  </thead>\n",
       "  <tbody>\n",
       "    <tr>\n",
       "      <th>MainScreenAppear</th>\n",
       "      <td>37708</td>\n",
       "      <td>39123</td>\n",
       "      <td>0.474762</td>\n",
       "      <td>0.507123</td>\n",
       "    </tr>\n",
       "    <tr>\n",
       "      <th>OffersScreenAppear</th>\n",
       "      <td>14773</td>\n",
       "      <td>15182</td>\n",
       "      <td>0.185999</td>\n",
       "      <td>0.196793</td>\n",
       "    </tr>\n",
       "    <tr>\n",
       "      <th>CartScreenAppear</th>\n",
       "      <td>14711</td>\n",
       "      <td>12456</td>\n",
       "      <td>0.185219</td>\n",
       "      <td>0.161458</td>\n",
       "    </tr>\n",
       "    <tr>\n",
       "      <th>PaymentScreenSuccessful</th>\n",
       "      <td>11910</td>\n",
       "      <td>10043</td>\n",
       "      <td>0.149953</td>\n",
       "      <td>0.130180</td>\n",
       "    </tr>\n",
       "    <tr>\n",
       "      <th>Tutorial</th>\n",
       "      <td>323</td>\n",
       "      <td>343</td>\n",
       "      <td>0.004067</td>\n",
       "      <td>0.004446</td>\n",
       "    </tr>\n",
       "  </tbody>\n",
       "</table>\n",
       "</div>"
      ],
      "text/plain": [
       "expid                      246    247  proportion_246  proportion_247\n",
       "eventname                                                            \n",
       "MainScreenAppear         37708  39123        0.474762        0.507123\n",
       "OffersScreenAppear       14773  15182        0.185999        0.196793\n",
       "CartScreenAppear         14711  12456        0.185219        0.161458\n",
       "PaymentScreenSuccessful  11910  10043        0.149953        0.130180\n",
       "Tutorial                   323    343        0.004067        0.004446"
      ]
     },
     "execution_count": 29,
     "metadata": {},
     "output_type": "execute_result"
    }
   ],
   "source": [
    "popular_events_control = valid_data_control.groupby(['eventname', 'expid'])[\n",
    "    'deviceidhash'].count().unstack().sort_values(by=246, ascending=False)\n",
    "\n",
    "total_246 = popular_events_control[246].sum()\n",
    "total_247 = popular_events_control[247].sum()\n",
    "\n",
    "# proportions\n",
    "popular_events_control['proportion_246'] = popular_events_control[246] / total_246\n",
    "popular_events_control['proportion_247'] = popular_events_control[247] / total_247\n",
    "\n",
    "popular_events_control"
   ]
  },
  {
   "cell_type": "markdown",
   "metadata": {},
   "source": [
    "A príncipio não há grandes diferenças nos números entre os grupos de controle"
   ]
  },
  {
   "cell_type": "markdown",
   "metadata": {},
   "source": [
    "##### <a id=\"\">Diferenças estatisticamente significativas na taxa de conversão nos grupos de controle para diferentes eventos finais (Função de comparação)</a>"
   ]
  },
  {
   "cell_type": "code",
   "execution_count": null,
   "metadata": {},
   "outputs": [],
   "source": [
    "# Function to compare convertion diference between inital event and final different events (stats)\n",
    "def event_comparison(df, event, group1, group2, alpha_value=.05):\n",
    "    # count\n",
    "    users_start = df[df[\"eventname\"] == \"MainScreenAppear\"].groupby(\"expid\")[\n",
    "        \"deviceidhash\"].nunique()\n",
    "    users_complete = df[df[\"eventname\"] == event].groupby(\n",
    "        \"expid\")[\"deviceidhash\"].nunique()\n",
    "\n",
    "    # defining values z test\n",
    "    # initial users .sum() in case want to sum 2 or more groups\n",
    "    s_group1, s_group2 = users_start[group1].sum(), users_start[group2].sum()\n",
    "    c_group1, c_group2 = users_complete[group1].sum(\n",
    "    ), users_complete[group2].sum()  # final users\n",
    "\n",
    "    # Values to array to apply z test\n",
    "    count = np.array([c_group1, c_group2])  # Convertion in the groups\n",
    "    nobs = np.array([s_group1, s_group2])    # Total users in groups\n",
    "\n",
    "    stat, p_value = proportions_ztest(count, nobs)\n",
    "\n",
    "    print(f\"Estatística do Teste Z: {stat:.4f}, alpha: {alpha_value:.4f}\")\n",
    "    print(f\"P-Valor: {p_value:.4f}\")\n",
    "\n",
    "    # results\n",
    "    alpha = alpha_value\n",
    "    if p_value < alpha:\n",
    "        print(\n",
    "            f\"Há diferença estatisticamente significativa em relação a taxa de conversão para o evento {event} entre os grupos {group1} e {group2}.\")\n",
    "    else:\n",
    "        print(\n",
    "            f\"Não há diferença estatisticamente significativa em relação a taxa de conversão para o evento {event} entre os grupos {group1} e {group2}.\")"
   ]
  },
  {
   "cell_type": "code",
   "execution_count": null,
   "metadata": {},
   "outputs": [
    {
     "name": "stdout",
     "output_type": "stream",
     "text": [
      "Estatística do Teste Z: 1.1211, alpha: 0.0500\n",
      "P-Valor: 0.2622\n",
      "Não há diferença estatisticamente significativa em relação a taxa de conversão para o evento OffersScreenAppear entre os grupos 246 e 247.\n",
      "Estatística do Teste Z: 1.1747, alpha: 0.0500\n",
      "P-Valor: 0.2401\n",
      "Não há diferença estatisticamente significativa em relação a taxa de conversão para o evento CartScreenAppear entre os grupos 246 e 247.\n",
      "Estatística do Teste Z: 1.5529, alpha: 0.0500\n",
      "P-Valor: 0.1204\n",
      "Não há diferença estatisticamente significativa em relação a taxa de conversão para o evento PaymentScreenSuccessful entre os grupos 246 e 247.\n"
     ]
    }
   ],
   "source": [
    "# comparing control groups in each event\n",
    "event_comparison(valid_data_control, 'OffersScreenAppear', 246, 247)\n",
    "event_comparison(valid_data_control, 'CartScreenAppear', 246, 247)\n",
    "event_comparison(valid_data_control, 'PaymentScreenSuccessful', 246, 247)"
   ]
  },
  {
   "cell_type": "markdown",
   "metadata": {},
   "source": [
    "Não há diferença estatisticamente significativa entre os grupos de controle em relação a taxa de conversão em nenhum dos eventos finais"
   ]
  },
  {
   "cell_type": "markdown",
   "metadata": {},
   "source": [
    "##### <a id=\"\">Diferenças estatisticamente significativas na taxa de conversão em todos os grupos para diferentes eventos finais (controle x teste, controle combinado x teste)</a>"
   ]
  },
  {
   "cell_type": "code",
   "execution_count": null,
   "metadata": {},
   "outputs": [
    {
     "name": "stdout",
     "output_type": "stream",
     "text": [
      "Estatística do Teste Z: 1.1067, alpha: 0.0500\n",
      "P-Valor: 0.2684\n",
      "Não há diferença estatisticamente significativa em relação a taxa de conversão para o evento OffersScreenAppear entre os grupos 246 e 248.\n",
      "Estatística do Teste Z: 1.6419, alpha: 0.0500\n",
      "P-Valor: 0.1006\n",
      "Não há diferença estatisticamente significativa em relação a taxa de conversão para o evento CartScreenAppear entre os grupos 246 e 248.\n",
      "Estatística do Teste Z: 1.1305, alpha: 0.0500\n",
      "P-Valor: 0.2583\n",
      "Não há diferença estatisticamente significativa em relação a taxa de conversão para o evento PaymentScreenSuccessful entre os grupos 246 e 248.\n",
      "Estatística do Teste Z: -0.0164, alpha: 0.0500\n",
      "P-Valor: 0.9869\n",
      "Não há diferença estatisticamente significativa em relação a taxa de conversão para o evento OffersScreenAppear entre os grupos 247 e 248.\n",
      "Estatística do Teste Z: 0.4666, alpha: 0.0500\n",
      "P-Valor: 0.6408\n",
      "Não há diferença estatisticamente significativa em relação a taxa de conversão para o evento CartScreenAppear entre os grupos 247 e 248.\n",
      "Estatística do Teste Z: -0.4263, alpha: 0.0500\n",
      "P-Valor: 0.6699\n",
      "Não há diferença estatisticamente significativa em relação a taxa de conversão para o evento PaymentScreenSuccessful entre os grupos 247 e 248.\n",
      "Estatística do Teste Z: 0.6267, alpha: 0.0500\n",
      "P-Valor: 0.5309\n",
      "Não há diferença estatisticamente significativa em relação a taxa de conversão para o evento OffersScreenAppear entre os grupos [246, 247] e 248.\n",
      "Estatística do Teste Z: 1.2158, alpha: 0.0500\n",
      "P-Valor: 0.2240\n",
      "Não há diferença estatisticamente significativa em relação a taxa de conversão para o evento CartScreenAppear entre os grupos [246, 247] e 248.\n",
      "Estatística do Teste Z: 0.4039, alpha: 0.0500\n",
      "P-Valor: 0.6863\n",
      "Não há diferença estatisticamente significativa em relação a taxa de conversão para o evento PaymentScreenSuccessful entre os grupos [246, 247] e 248.\n"
     ]
    }
   ],
   "source": [
    "# comparison each control group with test group (246 X 248)\n",
    "event_comparison(valid_data, 'OffersScreenAppear', 246, 248)\n",
    "event_comparison(valid_data, 'CartScreenAppear', 246, 248)\n",
    "event_comparison(valid_data, 'PaymentScreenSuccessful', 246, 248)\n",
    "\n",
    "# (247 X 248)\n",
    "event_comparison(valid_data, 'OffersScreenAppear', 247, 248)\n",
    "event_comparison(valid_data, 'CartScreenAppear', 247, 248)\n",
    "event_comparison(valid_data, 'PaymentScreenSuccessful', 247, 248)\n",
    "\n",
    "# (246 + 247 X 248)\n",
    "event_comparison(valid_data, 'OffersScreenAppear', [246, 247], 248)\n",
    "event_comparison(valid_data, 'CartScreenAppear', [246, 247], 248)\n",
    "event_comparison(valid_data, 'PaymentScreenSuccessful', [246, 247], 248)"
   ]
  },
  {
   "cell_type": "markdown",
   "metadata": {},
   "source": [
    "Não há diferenças estatisticamente significativas em nenhum dos grupos de controles comparado ao grupo de teste em todos os eventos finais, porém é preciso considerar o aumento da probabilidade de erros do tipo I e II ao fazer várias comparações usando os mesmos dados. O que é chamado de testes múltiplos. \n",
    "* Erro do tipo I (concluir incorretamente que há um efeito significativo quando não há).  \n",
    "* Erro do tipo II (concluir incorretamente que não há um efeito significativo quando há)"
   ]
  },
  {
   "cell_type": "markdown",
   "metadata": {},
   "source": [
    "##### <a id=\"\">Corrigindo nível de significânicia devido a múltiplos testes com os mesmos dados (método Bonferoni)</a>"
   ]
  },
  {
   "cell_type": "markdown",
   "metadata": {},
   "source": [
    "O nivel de significância definido para os testes foi 5% (padrão), porém como temos comparação entre 3 grupos, devido a sua simplicidade agora utilizarei o método Bonferoni para corrigir o nivel de significância e diminuir a probabilidade de erros tipo I e II nos testes múltiplos usando os mesmos dados"
   ]
  },
  {
   "cell_type": "code",
   "execution_count": null,
   "metadata": {},
   "outputs": [
    {
     "name": "stdout",
     "output_type": "stream",
     "text": [
      "Estatística do Teste Z: 1.1067, alpha: 0.0167\n",
      "P-Valor: 0.2684\n",
      "Não há diferença estatisticamente significativa em relação a taxa de conversão para o evento OffersScreenAppear entre os grupos 246 e 248.\n",
      "Estatística do Teste Z: 1.6419, alpha: 0.0167\n",
      "P-Valor: 0.1006\n",
      "Não há diferença estatisticamente significativa em relação a taxa de conversão para o evento CartScreenAppear entre os grupos 246 e 248.\n",
      "Estatística do Teste Z: 1.1305, alpha: 0.0167\n",
      "P-Valor: 0.2583\n",
      "Não há diferença estatisticamente significativa em relação a taxa de conversão para o evento PaymentScreenSuccessful entre os grupos 246 e 248.\n",
      "Estatística do Teste Z: -0.0164, alpha: 0.0167\n",
      "P-Valor: 0.9869\n",
      "Não há diferença estatisticamente significativa em relação a taxa de conversão para o evento OffersScreenAppear entre os grupos 247 e 248.\n",
      "Estatística do Teste Z: 0.4666, alpha: 0.0167\n",
      "P-Valor: 0.6408\n",
      "Não há diferença estatisticamente significativa em relação a taxa de conversão para o evento CartScreenAppear entre os grupos 247 e 248.\n",
      "Estatística do Teste Z: -0.4263, alpha: 0.0167\n",
      "P-Valor: 0.6699\n",
      "Não há diferença estatisticamente significativa em relação a taxa de conversão para o evento PaymentScreenSuccessful entre os grupos 247 e 248.\n",
      "Estatística do Teste Z: 0.6267, alpha: 0.0167\n",
      "P-Valor: 0.5309\n",
      "Não há diferença estatisticamente significativa em relação a taxa de conversão para o evento OffersScreenAppear entre os grupos [246, 247] e 248.\n",
      "Estatística do Teste Z: 1.2158, alpha: 0.0167\n",
      "P-Valor: 0.2240\n",
      "Não há diferença estatisticamente significativa em relação a taxa de conversão para o evento CartScreenAppear entre os grupos [246, 247] e 248.\n",
      "Estatística do Teste Z: 0.4039, alpha: 0.0167\n",
      "P-Valor: 0.6863\n",
      "Não há diferença estatisticamente significativa em relação a taxa de conversão para o evento PaymentScreenSuccessful entre os grupos [246, 247] e 248.\n"
     ]
    }
   ],
   "source": [
    "bonferroni_alpha = alpha / 3\n",
    "\n",
    "# (246 X 248)\n",
    "event_comparison(valid_data, 'OffersScreenAppear', 246, 248, bonferroni_alpha)\n",
    "event_comparison(valid_data, 'CartScreenAppear', 246, 248, bonferroni_alpha)\n",
    "event_comparison(valid_data, 'PaymentScreenSuccessful',\n",
    "                 246, 248, bonferroni_alpha)\n",
    "\n",
    "# (247 X 248)\n",
    "event_comparison(valid_data, 'OffersScreenAppear', 247, 248, bonferroni_alpha)\n",
    "event_comparison(valid_data, 'CartScreenAppear', 247, 248, bonferroni_alpha)\n",
    "event_comparison(valid_data, 'PaymentScreenSuccessful',\n",
    "                 247, 248, bonferroni_alpha)\n",
    "\n",
    "# (246 + 247 X 248)\n",
    "event_comparison(valid_data, 'OffersScreenAppear',\n",
    "                 [246, 247], 248, bonferroni_alpha)\n",
    "event_comparison(valid_data, 'CartScreenAppear', [\n",
    "                 246, 247], 248, bonferroni_alpha)\n",
    "event_comparison(valid_data, 'PaymentScreenSuccessful',\n",
    "                 [246, 247], 248, bonferroni_alpha)"
   ]
  },
  {
   "cell_type": "markdown",
   "metadata": {},
   "source": [
    "#### <a id=\"\">Passo 6. Conclusão</a>"
   ]
  },
  {
   "cell_type": "markdown",
   "metadata": {},
   "source": [
    "O teste estátistico Z-Test foi usado para comparar taxas de conversão do evento inicial a diferentes eventos finais. Na comparação entre os grupos 246, 247 (grupos de controle) e 248 (grupo de teste). Em nenhuma das comparações foi encontrado diferença estatisticamente significativa, mesmo com a correção da significância usando o método Bonferonni devido aos multiplos teste com os mesmos dados. Portanto a hipótese nula foi aceita"
   ]
  },
  {
   "cell_type": "markdown",
   "metadata": {},
   "source": [
    "Objetivo\tTeste Estatístico\tFunção\n",
    "\n",
    "* Comparar taxas de conversão:\tTeste Z para duas proporções\tproportions_ztest()\n",
    "* Comparar distribuição de eventos:\tQui-Quadrado\tchi2_contingency()\n",
    "* Comparar tempos de conversão:\tMann-Whitney U ou Teste T\tmannwhitneyu()"
   ]
  }
 ],
 "metadata": {
  "kernelspec": {
   "display_name": "base",
   "language": "python",
   "name": "python3"
  },
  "language_info": {
   "codemirror_mode": {
    "name": "ipython",
    "version": 3
   },
   "file_extension": ".py",
   "mimetype": "text/x-python",
   "name": "python",
   "nbconvert_exporter": "python",
   "pygments_lexer": "ipython3",
   "version": "3.12.4"
  }
 },
 "nbformat": 4,
 "nbformat_minor": 2
}
