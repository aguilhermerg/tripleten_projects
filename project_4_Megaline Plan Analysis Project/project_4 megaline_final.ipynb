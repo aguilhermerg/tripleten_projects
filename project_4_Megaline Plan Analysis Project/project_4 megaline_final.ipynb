{
 "cells": [
  {
   "cell_type": "markdown",
   "metadata": {
    "id": "eAkbw7Ueuj8X"
   },
   "source": [
    "# Qual é o melhor plano?\n",
    "\n",
    "Você trabalha como analista para a empresa de telecomunicações Megaline. A empresa oferece aos clientes dois planos pré-pagos: Surf e Ultimate. O departamento comercial quer saber qual dos planos gera mais receita para ajustar o orçamento de publicidade.\n",
    "\n",
    "Você vai realizar uma análise preliminar dos planos com base em uma pequena seleção de clientes. Você terá dados de 500 clientes da Megaline: que clientes são, de onde eles são, qual plano usam e o número de chamadas e mensagens realizadas em 2018. Seu trabalho é analisar o comportamento dos clientes e determinar qual plano pré-pago gera mais receita."
   ]
  },
  {
   "cell_type": "markdown",
   "metadata": {
    "id": "lnomf-3Xuj8b"
   },
   "source": [
    "## Inicialização"
   ]
  },
  {
   "cell_type": "code",
   "execution_count": 1,
   "metadata": {
    "id": "JdJusn5ouj8c"
   },
   "outputs": [],
   "source": [
    "# Carregando todas as bibliotecas\n",
    "import pandas as pd\n",
    "import numpy as np \n",
    "from matplotlib import pyplot as plt \n",
    "from scipy import stats as st\n",
    "import warnings\n",
    "warnings.filterwarnings(\"ignore\")\n"
   ]
  },
  {
   "cell_type": "markdown",
   "metadata": {
    "id": "rzqsCrgquj8d"
   },
   "source": [
    "## Carregue os dados"
   ]
  },
  {
   "cell_type": "code",
   "execution_count": 2,
   "metadata": {},
   "outputs": [],
   "source": [
    "# Carregue os arquivos de dados em diferentes DataFrames (arquivo na rede)\n",
    "# users = pd.read_csv('/datasets/megaline_users.csv')\n",
    "# calls = pd.read_csv('/datasets/megaline_calls.csv')\n",
    "# messages = pd.read_csv('/datasets/megaline_messages.csv')\n",
    "# internet = pd.read_csv('/datasets/megaline_internet.csv')\n",
    "# plans = pd.read_csv('/datasets/megaline_plans.csv')"
   ]
  },
  {
   "cell_type": "code",
   "execution_count": 3,
   "metadata": {},
   "outputs": [],
   "source": [
    "# Carregue os arquivos em diferentes data frames (arquivo local)\n",
    "users = pd.read_csv('/Users/andreguilhermerodriguesmac/Library/Mobile Documents/com~apple~CloudDocs/Tripleten - Data Analytics/Sprint 4 - Statistical analysis of data/Projeto/megaline_users.csv')\n",
    "calls = pd.read_csv('/Users/andreguilhermerodriguesmac/Library/Mobile Documents/com~apple~CloudDocs/Tripleten - Data Analytics/Sprint 4 - Statistical analysis of data/Projeto/megaline_calls.csv')\n",
    "messages = pd.read_csv('/Users/andreguilhermerodriguesmac/Library/Mobile Documents/com~apple~CloudDocs/Tripleten - Data Analytics/Sprint 4 - Statistical analysis of data/Projeto/megaline_messages.csv')\n",
    "internet = pd.read_csv('/Users/andreguilhermerodriguesmac/Library/Mobile Documents/com~apple~CloudDocs/Tripleten - Data Analytics/Sprint 4 - Statistical analysis of data/Projeto/megaline_internet.csv')\n",
    "plans = pd.read_csv('/Users/andreguilhermerodriguesmac/Library/Mobile Documents/com~apple~CloudDocs/Tripleten - Data Analytics/Sprint 4 - Statistical analysis of data/Projeto/megaline_plans.csv')\n"
   ]
  },
  {
   "cell_type": "markdown",
   "metadata": {
    "id": "XQh-EeiIuj8e"
   },
   "source": [
    "## Prepare os dados"
   ]
  },
  {
   "cell_type": "markdown",
   "metadata": {
    "id": "TlZUw_Cyuj8f"
   },
   "source": [
    "## Planos"
   ]
  },
  {
   "cell_type": "code",
   "execution_count": 4,
   "metadata": {
    "id": "x9qB5mAOuj8f"
   },
   "outputs": [
    {
     "name": "stdout",
     "output_type": "stream",
     "text": [
      "<class 'pandas.core.frame.DataFrame'>\n",
      "RangeIndex: 2 entries, 0 to 1\n",
      "Data columns (total 8 columns):\n",
      " #   Column                 Non-Null Count  Dtype  \n",
      "---  ------                 --------------  -----  \n",
      " 0   messages_included      2 non-null      int64  \n",
      " 1   mb_per_month_included  2 non-null      int64  \n",
      " 2   minutes_included       2 non-null      int64  \n",
      " 3   usd_monthly_pay        2 non-null      int64  \n",
      " 4   usd_per_gb             2 non-null      int64  \n",
      " 5   usd_per_message        2 non-null      float64\n",
      " 6   usd_per_minute         2 non-null      float64\n",
      " 7   plan_name              2 non-null      object \n",
      "dtypes: float64(2), int64(5), object(1)\n",
      "memory usage: 260.0+ bytes\n"
     ]
    }
   ],
   "source": [
    "# Imprima informações gerais/resumo sobre o DataFrame dos planos\n",
    "plans.info()"
   ]
  },
  {
   "cell_type": "code",
   "execution_count": 5,
   "metadata": {
    "id": "9MRo7tyVuj8f"
   },
   "outputs": [
    {
     "name": "stdout",
     "output_type": "stream",
     "text": [
      "   messages_included  mb_per_month_included  minutes_included  \\\n",
      "0                 50                  15360               500   \n",
      "1               1000                  30720              3000   \n",
      "\n",
      "   usd_monthly_pay  usd_per_gb  usd_per_message  usd_per_minute plan_name  \n",
      "0               20          10             0.03            0.03      surf  \n",
      "1               70           7             0.01            0.01  ultimate  \n"
     ]
    }
   ],
   "source": [
    "# Imprima uma amostra de dados dos planos\n",
    "print(plans.head())"
   ]
  },
  {
   "cell_type": "markdown",
   "metadata": {},
   "source": [
    "Na tabela planos não existem dados inadequados ou ausentes"
   ]
  },
  {
   "cell_type": "markdown",
   "metadata": {
    "id": "kLcdKu6Duj8g"
   },
   "source": [
    "## Enriqueça os dados"
   ]
  },
  {
   "cell_type": "code",
   "execution_count": 6,
   "metadata": {
    "id": "6j4XA9_ruj8g"
   },
   "outputs": [],
   "source": [
    "#criei uma coluna convertendo mb_per_month_included para gb_per_month_included\n",
    "plans[\"gb_per_month_included\"] = (plans[\"mb_per_month_included\"]/ 1024).astype(\"int\")\n",
    "plans = plans[['messages_included', 'mb_per_month_included','gb_per_month_included','minutes_included',\n",
    "       'usd_monthly_pay', 'usd_per_gb', 'usd_per_message', 'usd_per_minute',\n",
    "       'plan_name']]\n"
   ]
  },
  {
   "cell_type": "markdown",
   "metadata": {
    "id": "YJg2O9qjuj8g"
   },
   "source": [
    "## Usuários"
   ]
  },
  {
   "cell_type": "code",
   "execution_count": 7,
   "metadata": {
    "id": "7JzxwD2juj8g"
   },
   "outputs": [
    {
     "name": "stdout",
     "output_type": "stream",
     "text": [
      "<class 'pandas.core.frame.DataFrame'>\n",
      "RangeIndex: 500 entries, 0 to 499\n",
      "Data columns (total 8 columns):\n",
      " #   Column      Non-Null Count  Dtype \n",
      "---  ------      --------------  ----- \n",
      " 0   user_id     500 non-null    int64 \n",
      " 1   first_name  500 non-null    object\n",
      " 2   last_name   500 non-null    object\n",
      " 3   age         500 non-null    int64 \n",
      " 4   city        500 non-null    object\n",
      " 5   reg_date    500 non-null    object\n",
      " 6   plan        500 non-null    object\n",
      " 7   churn_date  34 non-null     object\n",
      "dtypes: int64(2), object(6)\n",
      "memory usage: 31.4+ KB\n"
     ]
    }
   ],
   "source": [
    "# Imprima informações gerais/resumo sobre o DataFrame dos usuários\n",
    "users.info()"
   ]
  },
  {
   "cell_type": "code",
   "execution_count": 8,
   "metadata": {
    "id": "5KZ8XmD8uj8g"
   },
   "outputs": [
    {
     "name": "stdout",
     "output_type": "stream",
     "text": [
      "   user_id first_name  last_name  age                                   city  \\\n",
      "0     1000   Anamaria      Bauer   45  Atlanta-Sandy Springs-Roswell, GA MSA   \n",
      "1     1001     Mickey  Wilkerson   28        Seattle-Tacoma-Bellevue, WA MSA   \n",
      "2     1002     Carlee    Hoffman   36   Las Vegas-Henderson-Paradise, NV MSA   \n",
      "3     1003   Reynaldo    Jenkins   52                          Tulsa, OK MSA   \n",
      "4     1004    Leonila   Thompson   40        Seattle-Tacoma-Bellevue, WA MSA   \n",
      "\n",
      "     reg_date      plan churn_date  \n",
      "0  2018-12-24  ultimate        NaN  \n",
      "1  2018-08-13      surf        NaN  \n",
      "2  2018-10-21      surf        NaN  \n",
      "3  2018-01-28      surf        NaN  \n",
      "4  2018-05-23      surf        NaN  \n"
     ]
    }
   ],
   "source": [
    "# Imprima uma amostra de dados dos usuários\n",
    "print(users.head())"
   ]
  },
  {
   "cell_type": "markdown",
   "metadata": {},
   "source": [
    "Tipo de dados inadequados: \n",
    "\n",
    "    users:\n",
    "        - user_id\n",
    "        - reg_date\n",
    "        - churn_date\n",
    "\n",
    "Dados ausentes:\n",
    "    \n",
    "    users:\n",
    "        - churn_date, 466 linhas, 93% NaN (corrigidos depois)"
   ]
  },
  {
   "cell_type": "markdown",
   "metadata": {
    "id": "ppiEfe3luj8i"
   },
   "source": [
    "### Corrija os dados"
   ]
  },
  {
   "cell_type": "code",
   "execution_count": 9,
   "metadata": {
    "id": "Oa1XFooouj8j"
   },
   "outputs": [],
   "source": [
    "users[\"user_id\"] = users[\"user_id\"].astype(\"str\")\n",
    "users[\"reg_date\"] = pd.to_datetime(users[\"reg_date\"], format='%Y-%m-%d')\n",
    "users[\"churn_date\"] = pd.to_datetime(users[\"churn_date\"], format='%Y-%m-%d')"
   ]
  },
  {
   "cell_type": "markdown",
   "metadata": {},
   "source": [
    "dados ausentes serao analisados e corrigos mais a frente conforme impacto na analise "
   ]
  },
  {
   "cell_type": "markdown",
   "metadata": {
    "id": "f4uSIMuuuj8j"
   },
   "source": [
    "## Chamadas"
   ]
  },
  {
   "cell_type": "code",
   "execution_count": 10,
   "metadata": {
    "id": "hkY01fJnuj8j"
   },
   "outputs": [
    {
     "name": "stdout",
     "output_type": "stream",
     "text": [
      "<class 'pandas.core.frame.DataFrame'>\n",
      "RangeIndex: 137735 entries, 0 to 137734\n",
      "Data columns (total 4 columns):\n",
      " #   Column     Non-Null Count   Dtype  \n",
      "---  ------     --------------   -----  \n",
      " 0   id         137735 non-null  object \n",
      " 1   user_id    137735 non-null  int64  \n",
      " 2   call_date  137735 non-null  object \n",
      " 3   duration   137735 non-null  float64\n",
      "dtypes: float64(1), int64(1), object(2)\n",
      "memory usage: 4.2+ MB\n"
     ]
    }
   ],
   "source": [
    "# Imprima informações gerais/resumo sobre o DataFrame das chamadas\n",
    "calls.info()"
   ]
  },
  {
   "cell_type": "code",
   "execution_count": 11,
   "metadata": {
    "id": "wdBwJG5Yuj8k"
   },
   "outputs": [
    {
     "name": "stdout",
     "output_type": "stream",
     "text": [
      "         id  user_id   call_date  duration\n",
      "0   1000_93     1000  2018-12-27      8.52\n",
      "1  1000_145     1000  2018-12-27     13.66\n",
      "2  1000_247     1000  2018-12-27     14.48\n",
      "3  1000_309     1000  2018-12-28      5.76\n",
      "4  1000_380     1000  2018-12-30      4.22\n"
     ]
    }
   ],
   "source": [
    "# Imprima uma amostra de dados das chamadas\n",
    "print(calls.head())"
   ]
  },
  {
   "cell_type": "markdown",
   "metadata": {},
   "source": [
    "Tipo de dados inadequados:\n",
    "\n",
    "calls:\n",
    "        - user_id\n",
    "        - call_date "
   ]
  },
  {
   "cell_type": "markdown",
   "metadata": {
    "id": "x5a99U4xuj8k"
   },
   "source": [
    "### Corrija os dados"
   ]
  },
  {
   "cell_type": "code",
   "execution_count": 12,
   "metadata": {
    "id": "lBjdw0Bnuj8l"
   },
   "outputs": [],
   "source": [
    "calls[\"user_id\"] = calls[\"user_id\"].astype(\"str\")\n",
    "calls[\"call_date\"] = pd.to_datetime(calls[\"call_date\"], format='%Y-%m-%d')"
   ]
  },
  {
   "cell_type": "markdown",
   "metadata": {
    "id": "MFm5xyh4uj8l"
   },
   "source": [
    "### Enriqueça os dados"
   ]
  },
  {
   "cell_type": "code",
   "execution_count": 13,
   "metadata": {
    "id": "nwOKTgfluj8l"
   },
   "outputs": [],
   "source": [
    "#criei coluna pra arrendondar duration para o proximo numero inteiro acima\n",
    "calls[\"durantion_rounded\"] = np.ceil(calls[\"duration\"]).astype(\"int\")"
   ]
  },
  {
   "cell_type": "markdown",
   "metadata": {
    "id": "qLz4FkyRuj8l"
   },
   "source": [
    "## Mensagens"
   ]
  },
  {
   "cell_type": "code",
   "execution_count": 14,
   "metadata": {
    "id": "nFA9DFkCuj8l"
   },
   "outputs": [
    {
     "name": "stdout",
     "output_type": "stream",
     "text": [
      "<class 'pandas.core.frame.DataFrame'>\n",
      "RangeIndex: 76051 entries, 0 to 76050\n",
      "Data columns (total 3 columns):\n",
      " #   Column        Non-Null Count  Dtype \n",
      "---  ------        --------------  ----- \n",
      " 0   id            76051 non-null  object\n",
      " 1   user_id       76051 non-null  int64 \n",
      " 2   message_date  76051 non-null  object\n",
      "dtypes: int64(1), object(2)\n",
      "memory usage: 1.7+ MB\n"
     ]
    }
   ],
   "source": [
    "# Imprima informações gerais/resumo sobre o DataFrame das mensagens\n",
    "messages.info()"
   ]
  },
  {
   "cell_type": "code",
   "execution_count": 15,
   "metadata": {
    "id": "ysEFBZWxuj8m"
   },
   "outputs": [
    {
     "name": "stdout",
     "output_type": "stream",
     "text": [
      "         id  user_id message_date\n",
      "0  1000_125     1000   2018-12-27\n",
      "1  1000_160     1000   2018-12-31\n",
      "2  1000_223     1000   2018-12-31\n",
      "3  1000_251     1000   2018-12-27\n",
      "4  1000_255     1000   2018-12-26\n"
     ]
    }
   ],
   "source": [
    "# Imprima uma amostra dos dados das mensagens\n",
    "print(messages.head())"
   ]
  },
  {
   "cell_type": "markdown",
   "metadata": {},
   "source": [
    "Dados inadequeados:\n",
    "messages:\n",
    "        - user_id\n",
    "        - message_date"
   ]
  },
  {
   "cell_type": "markdown",
   "metadata": {
    "id": "tT8N_hc6uj8m"
   },
   "source": [
    "### Corrija os dados"
   ]
  },
  {
   "cell_type": "code",
   "execution_count": 16,
   "metadata": {
    "id": "SpBqbQHCuj8m"
   },
   "outputs": [],
   "source": [
    "messages[\"user_id\"] = messages[\"user_id\"].astype(\"str\")\n",
    "messages[\"message_date\"] = pd.to_datetime(messages[\"message_date\"], format='%Y-%m-%d')"
   ]
  },
  {
   "cell_type": "markdown",
   "metadata": {
    "id": "ZRFaOWzGuj8n"
   },
   "source": [
    "## Internet"
   ]
  },
  {
   "cell_type": "code",
   "execution_count": 17,
   "metadata": {
    "id": "ob3-qv4nuj8n"
   },
   "outputs": [
    {
     "name": "stdout",
     "output_type": "stream",
     "text": [
      "<class 'pandas.core.frame.DataFrame'>\n",
      "RangeIndex: 104825 entries, 0 to 104824\n",
      "Data columns (total 4 columns):\n",
      " #   Column        Non-Null Count   Dtype  \n",
      "---  ------        --------------   -----  \n",
      " 0   id            104825 non-null  object \n",
      " 1   user_id       104825 non-null  int64  \n",
      " 2   session_date  104825 non-null  object \n",
      " 3   mb_used       104825 non-null  float64\n",
      "dtypes: float64(1), int64(1), object(2)\n",
      "memory usage: 3.2+ MB\n"
     ]
    }
   ],
   "source": [
    "# Imprima informações gerais/resumo sobre o DataFrame da internet\n",
    "internet.info()"
   ]
  },
  {
   "cell_type": "code",
   "execution_count": 18,
   "metadata": {
    "id": "iIHK4fZsuj8n"
   },
   "outputs": [
    {
     "name": "stdout",
     "output_type": "stream",
     "text": [
      "         id  user_id session_date  mb_used\n",
      "0   1000_13     1000   2018-12-29    89.86\n",
      "1  1000_204     1000   2018-12-31     0.00\n",
      "2  1000_379     1000   2018-12-28   660.40\n",
      "3  1000_413     1000   2018-12-26   270.99\n",
      "4  1000_442     1000   2018-12-27   880.22\n"
     ]
    }
   ],
   "source": [
    "#  Imprima uma amostra de dados para o tráfego da internet\n",
    "print(internet.head())"
   ]
  },
  {
   "cell_type": "markdown",
   "metadata": {
    "id": "6wpo7ugquj8o"
   },
   "source": [
    "Dados inadequados:\n",
    "    internet: \n",
    "        - user_id\n",
    "        - session_date"
   ]
  },
  {
   "cell_type": "markdown",
   "metadata": {
    "id": "Tly90YrTuj8o"
   },
   "source": [
    "### Corrija os dados"
   ]
  },
  {
   "cell_type": "code",
   "execution_count": 19,
   "metadata": {
    "id": "GCoX7kbmuj8o"
   },
   "outputs": [],
   "source": [
    "internet[\"user_id\"] = internet[\"user_id\"].astype(\"str\")\n",
    "internet[\"session_date\"] = pd.to_datetime(internet[\"session_date\"] , format='%Y-%m-%d')"
   ]
  },
  {
   "cell_type": "markdown",
   "metadata": {
    "id": "DEDbrtFduj8o"
   },
   "source": [
    "### Enriqueça os dados\n",
    "Iria criar uma coluna arrendondando mb to gb conforme calculo da empresa para o consumo de internet, porém esse arredondamento acontece por consumo mensal ou seja na cobrança da conta, o data framne ainda não está agrupado para isso. \n",
    "Calculo da empresa exemplo: Se alguém usar 1.025 megabytes no mês, a cobrança será de 2 gigabytes. Arrendondamento seria mais cabivel durante futura analise de consumo "
   ]
  },
  {
   "cell_type": "markdown",
   "metadata": {
    "id": "bnOX4ARJuj8p"
   },
   "source": [
    "## Estude as condições dos planos"
   ]
  },
  {
   "cell_type": "code",
   "execution_count": 20,
   "metadata": {
    "id": "vMXVndWEuj8p"
   },
   "outputs": [
    {
     "name": "stdout",
     "output_type": "stream",
     "text": [
      "   messages_included  mb_per_month_included  gb_per_month_included  \\\n",
      "0                 50                  15360                     15   \n",
      "1               1000                  30720                     30   \n",
      "\n",
      "   minutes_included  usd_monthly_pay  usd_per_gb  usd_per_message  \\\n",
      "0               500               20          10             0.03   \n",
      "1              3000               70           7             0.01   \n",
      "\n",
      "   usd_per_minute plan_name  \n",
      "0            0.03      surf  \n",
      "1            0.01  ultimate  \n"
     ]
    }
   ],
   "source": [
    "# Imprima as condições dos planos e certifique-se de que elas fazem sentido para você\n",
    "print(plans)"
   ]
  },
  {
   "cell_type": "markdown",
   "metadata": {
    "id": "1v1EshDmuj8q"
   },
   "source": [
    "## Agregue os dados por usuário"
   ]
  },
  {
   "cell_type": "code",
   "execution_count": 21,
   "metadata": {
    "id": "4hmb2pSPuj8q"
   },
   "outputs": [
    {
     "name": "stdout",
     "output_type": "stream",
     "text": [
      "user_id  call_month\n",
      "1000     2018-12       16\n",
      "1001     2018-08       27\n",
      "         2018-09       49\n",
      "         2018-10       65\n",
      "         2018-11       64\n",
      "Name: id, dtype: int64\n"
     ]
    }
   ],
   "source": [
    "# Calcule o número de chamadas feitas por cada usuário por mês. Salve o resultado.\n",
    "calls[\"call_month\"] = calls[\"call_date\"].dt.to_period(\"M\")\n",
    "calls_per_client = calls.groupby([\"user_id\", \"call_month\"])[\"id\"].size()\n",
    "print(calls_per_client.head())"
   ]
  },
  {
   "cell_type": "code",
   "execution_count": 22,
   "metadata": {
    "id": "yHgBWCJJuj8q"
   },
   "outputs": [
    {
     "name": "stdout",
     "output_type": "stream",
     "text": [
      "user_id  call_month\n",
      "1000     2018-12       124\n",
      "1001     2018-08       182\n",
      "         2018-09       315\n",
      "         2018-10       393\n",
      "         2018-11       426\n",
      "Name: durantion_rounded, dtype: int64\n"
     ]
    }
   ],
   "source": [
    "# Calcule a quantidade de minutos gastos por cada usuário por mês. Salve o resultado.\n",
    "calls[\"call_month\"] = calls[\"call_date\"].dt.to_period(\"M\")\n",
    "minutes_per_client = calls.groupby([\"user_id\", \"call_month\"])[\"durantion_rounded\"].sum()\n",
    "print(minutes_per_client.head())"
   ]
  },
  {
   "cell_type": "code",
   "execution_count": 23,
   "metadata": {
    "id": "MaM_cPxauj8q"
   },
   "outputs": [
    {
     "name": "stdout",
     "output_type": "stream",
     "text": [
      "user_id  message_month\n",
      "1000     2018-12          11\n",
      "1001     2018-08          30\n",
      "         2018-09          44\n",
      "         2018-10          53\n",
      "         2018-11          36\n",
      "Name: id, dtype: int64\n"
     ]
    }
   ],
   "source": [
    "# Calcule o número de mensagens enviadas por cada usuário por mês. Salve o resultado.\n",
    "messages[\"message_month\"] = messages[\"message_date\"].dt.to_period(\"M\")\n",
    "messages_per_client = messages.groupby([\"user_id\", \"message_month\"])[\"id\"].size()\n",
    "print(messages_per_client.head())"
   ]
  },
  {
   "cell_type": "code",
   "execution_count": 24,
   "metadata": {
    "id": "WsCEZJ_xuj8q"
   },
   "outputs": [
    {
     "name": "stdout",
     "output_type": "stream",
     "text": [
      "user_id  session_month\n",
      "1000     2018-12           1901.47\n",
      "1001     2018-08           6919.15\n",
      "         2018-09          13314.82\n",
      "         2018-10          22330.49\n",
      "         2018-11          18504.30\n",
      "Name: mb_used, dtype: float64\n"
     ]
    }
   ],
   "source": [
    "# Calcule o volume de tráfego de internet usado por cada usuário por mês. Salve o resultado.\n",
    "internet[\"session_month\"] = internet[\"session_date\"].dt.to_period(\"M\")\n",
    "internet_per_client = internet.groupby([\"user_id\", \"session_month\"])[\"mb_used\"].sum()\n",
    "print(internet_per_client.head())\n"
   ]
  },
  {
   "cell_type": "markdown",
   "metadata": {
    "id": "6nBsD4hduj8q"
   },
   "source": [
    "Usei concat pois poderia haver o risco de algum usuário não ter consumido um dos 3 serviços disponiveis e o dado se perder nos merges "
   ]
  },
  {
   "cell_type": "code",
   "execution_count": 25,
   "metadata": {
    "id": "BYDTkxOauj8r"
   },
   "outputs": [
    {
     "name": "stdout",
     "output_type": "stream",
     "text": [
      "                 count_calls  total_durantion  count_messages   mb_used  \\\n",
      "user_id                                                                   \n",
      "1000    2018-12         16.0            124.0            11.0   1901.47   \n",
      "1001    2018-08         27.0            182.0            30.0   6919.15   \n",
      "        2018-09         49.0            315.0            44.0  13314.82   \n",
      "        2018-10         65.0            393.0            53.0  22330.49   \n",
      "        2018-11         64.0            426.0            36.0  18504.30   \n",
      "\n",
      "                 gb_used  \n",
      "user_id                   \n",
      "1000    2018-12      2.0  \n",
      "1001    2018-08      7.0  \n",
      "        2018-09     14.0  \n",
      "        2018-10     22.0  \n",
      "        2018-11     19.0  \n"
     ]
    }
   ],
   "source": [
    "# Junte os dados de chamadas, minutos, mensagens e internet com base em user_id e month\n",
    "consumption_concat = pd.concat([calls_per_client, minutes_per_client, messages_per_client, internet_per_client], axis=\"columns\")\n",
    "consumption_concat.columns = [\"count_calls\", \"total_durantion\", \"count_messages\", \"mb_used\"]\n",
    "\n",
    "#criando coluna gb_used de arrendondamento da coluna mb_used per month, conforme calculo de consumo por parte da empresa\n",
    "consumption_concat[\"gb_used\"] = np.ceil(consumption_concat[\"mb_used\"]/ 1024)\n",
    "print(consumption_concat.head())"
   ]
  },
  {
   "cell_type": "code",
   "execution_count": 26,
   "metadata": {},
   "outputs": [
    {
     "name": "stdout",
     "output_type": "stream",
     "text": [
      "count_calls         35\n",
      "total_durantion     35\n",
      "count_messages     487\n",
      "mb_used             16\n",
      "gb_used             16\n",
      "dtype: int64\n"
     ]
    }
   ],
   "source": [
    "#verificando possiveis ausentes da concatenacao \n",
    "print(consumption_concat.isna().sum())"
   ]
  },
  {
   "cell_type": "markdown",
   "metadata": {},
   "source": [
    "Nem todos os usuários usam todos os serviços do plano, como podemos ver muitos usuários nao usam o serviço de mensagens, nesse caso vou preencher os valores ausentes com zero já que o produto não foi consumido "
   ]
  },
  {
   "cell_type": "code",
   "execution_count": 27,
   "metadata": {},
   "outputs": [
    {
     "name": "stdout",
     "output_type": "stream",
     "text": [
      "  user_id     date  count_calls  total_durantion  count_messages   mb_used  \\\n",
      "0    1000  2018-12           16              124              11   1901.47   \n",
      "1    1001  2018-08           27              182              30   6919.15   \n",
      "2    1001  2018-09           49              315              44  13314.82   \n",
      "3    1001  2018-10           65              393              53  22330.49   \n",
      "4    1001  2018-11           64              426              36  18504.30   \n",
      "\n",
      "   gb_used  \n",
      "0        2  \n",
      "1        7  \n",
      "2       14  \n",
      "3       22  \n",
      "4       19  \n"
     ]
    }
   ],
   "source": [
    "#prenchendo ausentes com 0\n",
    "consumption_concat = consumption_concat.fillna(0)\n",
    "consumption_concat[[\"count_calls\", \"total_durantion\", \"count_messages\", \"gb_used\"]] = consumption_concat[[\"count_calls\", \"total_durantion\", \"count_messages\", \"gb_used\"]].astype(\"int\")\n",
    "\n",
    "#transformando indice em colunas \n",
    "consumption_concat.reset_index(inplace=True)\n",
    "\n",
    "consumption_concat.columns = [\"user_id\", \"date\", \"count_calls\", \"total_durantion\", \"count_messages\", \"mb_used\", \"gb_used\"]\n",
    "print(consumption_concat.head())\n",
    "\n"
   ]
  },
  {
   "cell_type": "code",
   "execution_count": 28,
   "metadata": {
    "id": "SW-sgLaHuj8r"
   },
   "outputs": [],
   "source": [
    "# Adicione as informações sobre o plano\n",
    "#merge com users tables para pegar o plano de cada um  \n",
    "consumption_total = consumption_concat.merge(users, on = \"user_id\", how= \"left\")\n",
    "\n",
    "#merge com plans table para adicionar o tarifário de cada plano por linha \n",
    "consumption_total = consumption_total.merge(plans, left_on= \"plan\", right_on= \"plan_name\", how= \"left\")"
   ]
  },
  {
   "cell_type": "code",
   "execution_count": 29,
   "metadata": {},
   "outputs": [
    {
     "name": "stdout",
     "output_type": "stream",
     "text": [
      "  user_id     date  count_calls  total_durantion  count_messages  gb_used  \\\n",
      "0    1000  2018-12           16              124              11        2   \n",
      "1    1001  2018-08           27              182              30        7   \n",
      "2    1001  2018-09           49              315              44       14   \n",
      "3    1001  2018-10           65              393              53       22   \n",
      "4    1001  2018-11           64              426              36       19   \n",
      "\n",
      "                                    city      plan  messages_included  \\\n",
      "0  Atlanta-Sandy Springs-Roswell, GA MSA  ultimate               1000   \n",
      "1        Seattle-Tacoma-Bellevue, WA MSA      surf                 50   \n",
      "2        Seattle-Tacoma-Bellevue, WA MSA      surf                 50   \n",
      "3        Seattle-Tacoma-Bellevue, WA MSA      surf                 50   \n",
      "4        Seattle-Tacoma-Bellevue, WA MSA      surf                 50   \n",
      "\n",
      "   gb_per_month_included  minutes_included  usd_monthly_pay  usd_per_gb  \\\n",
      "0                     30              3000               70           7   \n",
      "1                     15               500               20          10   \n",
      "2                     15               500               20          10   \n",
      "3                     15               500               20          10   \n",
      "4                     15               500               20          10   \n",
      "\n",
      "   usd_per_message  usd_per_minute  \n",
      "0             0.01            0.01  \n",
      "1             0.03            0.03  \n",
      "2             0.03            0.03  \n",
      "3             0.03            0.03  \n",
      "4             0.03            0.03  \n"
     ]
    }
   ],
   "source": [
    "#drop colunas que nao me interessam até o momento \n",
    "consumption_total = consumption_total.drop(['mb_used','first_name', 'last_name', 'age','reg_date', 'churn_date', 'mb_per_month_included','plan_name'], axis='columns')\n",
    "print(consumption_total.head())"
   ]
  },
  {
   "cell_type": "code",
   "execution_count": 30,
   "metadata": {
    "id": "JiPHXbQAuj8r"
   },
   "outputs": [],
   "source": [
    "#criando função com apply() de tratamento de linhas \n",
    "\n",
    "def monthly_bill_calculator(row):\n",
    "    total_durantion = row[\"total_durantion\"]\n",
    "    count_messages = row[\"count_messages\"]\n",
    "    gb_used = row[\"gb_used\"]\n",
    "    messages_included = row[\"messages_included\"]\n",
    "    gb_per_month_included = row[\"gb_per_month_included\"]\n",
    "    minutes_included = row[\"minutes_included\"]\n",
    "    usd_monthly_pay = row[\"usd_monthly_pay\"]\n",
    "    usd_per_gb = row[\"usd_per_gb\"]\n",
    "    usd_per_message = row[\"usd_per_message\"]\n",
    "    usd_per_minute = row[\"usd_per_minute\"]\n",
    "    \n",
    "    \n",
    "    difference_call = minutes_included - total_durantion\n",
    "    difference_message = messages_included - count_messages\n",
    "    difference_internet = gb_per_month_included - gb_used\n",
    "\n",
    "    if difference_call < 0:\n",
    "        extra_fee_call = (difference_call * usd_per_minute) *-1\n",
    "    else:\n",
    "        extra_fee_call = 0 \n",
    "        \n",
    "    if difference_message < 0:\n",
    "        extra_fee_message = (difference_message * usd_per_message) *-1\n",
    "    else:\n",
    "        extra_fee_message = 0 \n",
    "    \n",
    "    if difference_internet < 0:\n",
    "        extra_fee_internet = (difference_internet * usd_per_gb) *-1\n",
    "    else:\n",
    "        extra_fee_internet = 0 \n",
    "    \n",
    "    return usd_monthly_pay + extra_fee_call + extra_fee_message + extra_fee_internet\n",
    "\n"
   ]
  },
  {
   "cell_type": "code",
   "execution_count": 31,
   "metadata": {},
   "outputs": [
    {
     "name": "stdout",
     "output_type": "stream",
     "text": [
      "Resultado: 70\n",
      "Resultado: 20\n",
      "Resultado: 20\n",
      "Resultado: 90.09\n",
      "Resultado: 60\n"
     ]
    }
   ],
   "source": [
    "#teste da função com for loop\n",
    "row_1 = consumption_total.loc[0]\n",
    "row_2 = consumption_total.loc[1]\n",
    "row_3 = consumption_total.loc[2]\n",
    "row_4 = consumption_total.loc[3]\n",
    "row_5 = consumption_total.loc[4]\n",
    "\n",
    "rows = [row_1, row_2, row_3, row_4, row_5]\n",
    "\n",
    "for row in rows:\n",
    "    print(\"Resultado:\", monthly_bill_calculator(row))\n",
    "    "
   ]
  },
  {
   "cell_type": "code",
   "execution_count": 32,
   "metadata": {},
   "outputs": [
    {
     "name": "stdout",
     "output_type": "stream",
     "text": [
      "  user_id     date  count_calls  total_durantion  count_messages  gb_used  \\\n",
      "0    1000  2018-12           16              124              11        2   \n",
      "1    1001  2018-08           27              182              30        7   \n",
      "2    1001  2018-09           49              315              44       14   \n",
      "3    1001  2018-10           65              393              53       22   \n",
      "4    1001  2018-11           64              426              36       19   \n",
      "\n",
      "                                    city      plan  messages_included  \\\n",
      "0  Atlanta-Sandy Springs-Roswell, GA MSA  ultimate               1000   \n",
      "1        Seattle-Tacoma-Bellevue, WA MSA      surf                 50   \n",
      "2        Seattle-Tacoma-Bellevue, WA MSA      surf                 50   \n",
      "3        Seattle-Tacoma-Bellevue, WA MSA      surf                 50   \n",
      "4        Seattle-Tacoma-Bellevue, WA MSA      surf                 50   \n",
      "\n",
      "   gb_per_month_included  minutes_included  usd_monthly_pay  usd_per_gb  \\\n",
      "0                     30              3000               70           7   \n",
      "1                     15               500               20          10   \n",
      "2                     15               500               20          10   \n",
      "3                     15               500               20          10   \n",
      "4                     15               500               20          10   \n",
      "\n",
      "   usd_per_message  usd_per_minute  monthly_bill  \n",
      "0             0.01            0.01         70.00  \n",
      "1             0.03            0.03         20.00  \n",
      "2             0.03            0.03         20.00  \n",
      "3             0.03            0.03         90.09  \n",
      "4             0.03            0.03         60.00  \n"
     ]
    }
   ],
   "source": [
    "# Calcule a receita mensal para cada usuário\n",
    "consumption_total[\"monthly_bill\"] = consumption_total.apply(monthly_bill_calculator, axis=1)\n",
    "print(consumption_total.head())"
   ]
  },
  {
   "cell_type": "markdown",
   "metadata": {
    "id": "0HFWXKTQuj8r"
   },
   "source": [
    "## Estude o comportamento do usuário"
   ]
  },
  {
   "cell_type": "markdown",
   "metadata": {
    "id": "umaMfSLxuj8s"
   },
   "source": [
    "### Chamadas"
   ]
  },
  {
   "cell_type": "code",
   "execution_count": 33,
   "metadata": {
    "id": "0236-tJnuj8t"
   },
   "outputs": [
    {
     "data": {
      "image/png": "[encoded data removed]",
      "text/plain": [
       "<Figure size 900x500 with 1 Axes>"
      ]
     },
     "metadata": {},
     "output_type": "display_data"
    }
   ],
   "source": [
    "#Compare a duração média das chamadas de cada plano para cada mês. Crie um gráfico de barras para visualizar o resultado.\n",
    "\n",
    "#Extraindo o mês da coluna data\n",
    "consumption_total[\"month\"] = consumption_total[\"date\"].dt.month\n",
    "\n",
    "#Extraindo os nomes dos meses do calendário em vez dos números (1, 2, 3, etc.) usando a biblioteca calendar.\n",
    "import calendar\n",
    "consumption_total['month'] = consumption_total['month'].apply(lambda x: calendar.month_abbr[x])\n",
    "\n",
    "# Definindo a ordem dos meses como uma categoria ordenada\n",
    "ordered_months = list(calendar.month_abbr)[1:] # [1:] ignora a primeira posição do calendar, que é uma string vazia\n",
    "consumption_total['month'] = pd.Categorical(consumption_total['month'], categories=ordered_months, ordered=True) \n",
    "    #criou categorias de acordo com a lista ordered_months e ordenou igual a lista\n",
    "\n",
    "\n",
    "#pivot table\n",
    "pivot_avg_calls = consumption_total.pivot_table(index= \"month\" , columns= \"plan\", values= \"total_durantion\", aggfunc= \"mean\").astype(\"int\")\n",
    "\n",
    "#plotando\n",
    "pivot_avg_calls.plot(kind= \"bar\", title= \"Calls duration average\", xlabel= \"month-year\", ylabel=\"duration in minutes\", color=['skyblue','orange'], figsize= [9,5])\n",
    "plt.legend(loc='upper left', prop={'size':11})\n",
    "plt.show()"
   ]
  },
  {
   "cell_type": "markdown",
   "metadata": {},
   "source": [
    "A duração das chamadas em média são parecidas, havendo apenas um pico no plano ultimate em fevereiro. No geral o numéro de chamadas vem em uma crescente desde de janeiro até dezembro "
   ]
  },
  {
   "cell_type": "code",
   "execution_count": 34,
   "metadata": {
    "id": "9sCQ1lP8uj8u"
   },
   "outputs": [
    {
     "data": {
      "image/png": "[encoded data removed]",
      "text/plain": [
       "<Figure size 640x480 with 1 Axes>"
      ]
     },
     "metadata": {},
     "output_type": "display_data"
    }
   ],
   "source": [
    "# Compare o número de minutos que os usuários de cada plano necessitam a cada mês. Construa um histograma.\n",
    "\n",
    "#filtro\n",
    "consumption_total_surf = consumption_total[consumption_total[\"plan\"] == \"surf\"]\n",
    "consumption_total_ultimate = consumption_total[consumption_total[\"plan\"] == \"ultimate\"]\n",
    "\n",
    "# Ordenando e somando os minutos consumidos por mês e por plano\n",
    "consumption_total_surf[\"month\"] = consumption_total_surf[\"date\"].dt.month\n",
    "consumption_total_surf = consumption_total_surf.sort_values(\"month\")\n",
    "minutes_per_month_surf = consumption_total_surf.groupby('month')['total_durantion'].sum()\n",
    "\n",
    "consumption_total_ultimate[\"month\"] = consumption_total_ultimate[\"date\"].dt.month\n",
    "consumption_total_ultimate = consumption_total_ultimate.sort_values(\"month\")\n",
    "minutes_per_month_ultimate = consumption_total_ultimate.groupby('month')['total_durantion'].sum()\n",
    "\n",
    "# Plotando o grafico\n",
    "plt.bar(minutes_per_month_surf.index, minutes_per_month_surf.values, color='skyblue')\n",
    "plt.xlabel('Mês')\n",
    "plt.ylabel('Minutos Consumidos')\n",
    "plt.title('Minutos Consumidos por Mês')\n",
    "plt.xticks(minutes_per_month_surf.index, ['Jan', 'Feb', 'Mar', 'Apr', 'May', 'Jun', 'Jul', 'Aug', 'Sep', 'Oct', 'Nov', 'Dec'])\n",
    "\n",
    "plt.bar(minutes_per_month_ultimate.index, minutes_per_month_ultimate.values, color='orange')\n",
    "plt.xlabel('Mês')\n",
    "plt.ylabel('Minutos Consumidos')\n",
    "plt.title('Minutos Consumidos por Mês')\n",
    "plt.xticks(minutes_per_month_surf.index, ['Jan', 'Feb', 'Mar', 'Apr', 'May', 'Jun', 'Jul', 'Aug', 'Sep', 'Oct', 'Nov', 'Dec'])\n",
    "plt.legend([\"surf\", \"ultimate\"])\n",
    "plt.show()\n"
   ]
  },
  {
   "cell_type": "markdown",
   "metadata": {},
   "source": [
    "Na verdade somando a duração das chamadas por plano e mês, aparentemente parece que nos dois primeiros meses clientes do plano ultimate fizeram chamadas mais longas que o plano surf, porém a partir de março o cenário é o oposto, com clientes do plano surf se distanciando ainda mais do ultimate. O duração de total de chamadas do plano surf ficam quase mais que o dobro nos ultimos meses do ano chegando a 140 mil minutos "
   ]
  },
  {
   "cell_type": "code",
   "execution_count": 36,
   "metadata": {
    "id": "cIdodPExuj8u"
   },
   "outputs": [
    {
     "name": "stdout",
     "output_type": "stream",
     "text": [
      "Média da duração mensal de chamadas plano surf: 428.75\n",
      "Variancia da duração mensal de chamadas plano surf: 54933.33\n",
      "Desvio padrão da duração mensal de chamadas plano surf: 234.38\n",
      "\n",
      "Média da duração mensal de chamadas plano ultimate: 430.45\n",
      "Variancia da duração mensal de chamadas plano ultimate: 57764.13\n",
      "Desvio padrão da duração mensal de chamadas plano ultimate: 240.34\n"
     ]
    }
   ],
   "source": [
    "# Calcule a média, variância e desvio padrão da duração mensal das chamadas\n",
    "\n",
    "#calculando\n",
    "mean_calls_surf = round(consumption_total_surf[\"total_durantion\"].mean(),2)\n",
    "variance_calls_surf = round(np.var(consumption_total_surf[\"total_durantion\"]),2)\n",
    "stdv_calls_surf = round(np.std(consumption_total_surf[\"total_durantion\"]),2)\n",
    "\n",
    "mean_calls_ultimate = round(consumption_total_ultimate[\"total_durantion\"].mean(),2)\n",
    "variance_calls_ultimate = round(np.var(consumption_total_ultimate[\"total_durantion\"]),2)\n",
    "stdv_calls_ultimate = round(np.std(consumption_total_ultimate[\"total_durantion\"]),2)\n",
    "\n",
    "print(\"Média da duração mensal de chamadas plano surf:\", mean_calls_surf)\n",
    "print(\"Variancia da duração mensal de chamadas plano surf:\", variance_calls_surf)\n",
    "print(\"Desvio padrão da duração mensal de chamadas plano surf:\", stdv_calls_surf)\n",
    "print()\n",
    "\n",
    "print(\"Média da duração mensal de chamadas plano ultimate:\", mean_calls_ultimate)\n",
    "print(\"Variancia da duração mensal de chamadas plano ultimate:\", variance_calls_ultimate)\n",
    "print(\"Desvio padrão da duração mensal de chamadas plano ultimate:\", stdv_calls_ultimate)"
   ]
  },
  {
   "cell_type": "markdown",
   "metadata": {},
   "source": [
    "Plano surf, tem média e desvio padrao parecidos, porém a variância do plano surf é maior que o do plano ultimate. Podemos verificar sobre outliers a seguir, mais a principio o plano ultimate parece seguir uma melhor regularidade durante todo o ano do que plano surf que varia mais."
   ]
  },
  {
   "cell_type": "code",
   "execution_count": 37,
   "metadata": {
    "id": "DW7vTypxuj8u"
   },
   "outputs": [
    {
     "data": {
      "image/png": "[encoded data removed]",
      "text/plain": [
       "<Figure size 640x480 with 1 Axes>"
      ]
     },
     "metadata": {},
     "output_type": "display_data"
    }
   ],
   "source": [
    "# Faça um diagrama de caixa para visualizar a distribuição da duração mensal das chamadas\n",
    "#boxplot total da duracao da chamadas por plano \n",
    "\n",
    "# Criando os boxplots com duas cores diferentes\n",
    "fig, ax = plt.subplots()\n",
    "\n",
    "consumption_total_surf['total_durantion'].plot(kind='box', ax=ax, color=dict(boxes='skyblue', whiskers='black', medians='black', caps='black'), patch_artist=True, positions=[1])\n",
    "consumption_total_ultimate['total_durantion'].plot(kind='box', ax=ax, color=dict(boxes='orange', whiskers='black', medians='black', caps='black'), patch_artist=True, positions=[2])\n",
    "\n",
    "# Ajustando os ticks para o eixo x\n",
    "ax.set_xticks([1, 2])\n",
    "ax.set_xticklabels(['Surf', 'Ultimate'])\n",
    "\n",
    "plt.show()"
   ]
  },
  {
   "cell_type": "markdown",
   "metadata": {
    "id": "Uyt3rWn7uj8u"
   },
   "source": [
    "Mediana dos dois planos são parecidos, porém o plano surf aparentemente tem um numero muito maior de outliers do que plano ultimate "
   ]
  },
  {
   "cell_type": "markdown",
   "metadata": {},
   "source": [
    "Segundo a análise dos gráficos, no quesito de chamadas o plano no surf é ligeiramente diferente que o plano ultimate. A duração média de chamadas é parecida durante todo o ano, desvio padrão e mediana também, o que se destaca no plano surf são os numeros de outliers e a variância, aparentemente o plano ultimate tem uma regularidade maior nesses aspecto. Isso pode ser devido a duração de chamadas nos ultimos meses do ano onde o plano surf se destaca"
   ]
  },
  {
   "cell_type": "markdown",
   "metadata": {
    "id": "2hWSPtrnuj8v"
   },
   "source": [
    "### Mensagens"
   ]
  },
  {
   "cell_type": "code",
   "execution_count": 38,
   "metadata": {},
   "outputs": [
    {
     "data": {
      "image/png": "[encoded data removed]",
      "text/plain": [
       "<Figure size 900x500 with 1 Axes>"
      ]
     },
     "metadata": {},
     "output_type": "display_data"
    }
   ],
   "source": [
    "#Compare o numero médio de mensagens a cada plano para cada mês. Crie um gráfico de barras para visualizar o resultado.\n",
    "\n",
    "pivot_avg_msg = consumption_total.pivot_table(index= \"month\" , columns= \"plan\", values= \"count_messages\", aggfunc= \"mean\")\n",
    "\n",
    "pivot_avg_msg.plot(kind= \"bar\", title= \"Number messages average\", xlabel= \"month\", ylabel=\"Average number of messages\",color=['skyblue','orange'], figsize= [9,5])\n",
    "plt.legend(loc='upper left', prop={'size':11})\n",
    "plt.show()"
   ]
  },
  {
   "cell_type": "markdown",
   "metadata": {},
   "source": [
    "Em média clientes do plano ultimate sempre mandam mais mensagens "
   ]
  },
  {
   "cell_type": "code",
   "execution_count": 39,
   "metadata": {
    "id": "9kPlAhOJuj8v"
   },
   "outputs": [
    {
     "data": {
      "image/png": "[encoded data removed]",
      "text/plain": [
       "<Figure size 640x480 with 1 Axes>"
      ]
     },
     "metadata": {},
     "output_type": "display_data"
    }
   ],
   "source": [
    "# Compare o número de mensagens que os usuários de cada plano costumam enviar a cada mês\n",
    "\n",
    "# somando as mensagens consumida por mês e por plano\n",
    "messages_per_month_surf = consumption_total_surf.groupby('month')['count_messages'].sum()\n",
    "messages_per_month_ultimate = consumption_total_ultimate.groupby('month')['count_messages'].sum()\n",
    "\n",
    "# Plotando o grafico\n",
    "plt.bar(messages_per_month_surf.index, messages_per_month_surf.values, color='skyblue')\n",
    "plt.xlabel('Mês')\n",
    "plt.ylabel('Numero de mensagens')\n",
    "plt.title('Mensagens por Mês')\n",
    "plt.xticks(messages_per_month_surf.index, ['Jan', 'Feb', 'Mar', 'Apr', 'May', 'Jun', 'Jul', 'Aug', 'Sep', 'Oct', 'Nov', 'Dec'])\n",
    "\n",
    "plt.bar(messages_per_month_ultimate.index, messages_per_month_ultimate.values, color='orange')\n",
    "plt.xlabel('Mês')\n",
    "plt.ylabel('Numero de mensagens')\n",
    "plt.title('Mensagens por Mês')\n",
    "plt.xticks(messages_per_month_ultimate.index, ['Jan', 'Feb', 'Mar', 'Apr', 'May', 'Jun', 'Jul', 'Aug', 'Sep', 'Oct', 'Nov', 'Dec'])\n",
    "plt.legend([\"surf\", \"ultimate\"])\n",
    "plt.show()\n"
   ]
  },
  {
   "cell_type": "markdown",
   "metadata": {},
   "source": [
    "Somando o numero de mensagens por plano e mês, aparentemente parece que nos dois primeiros meses clientes do plano ultimate mandam mais mensagens, porém a partir de março o cenário é o oposto, com clientes do plano surf se distanciando ainda mais do ultimate. O numero de mensagens do plano surf ficam quase dobro nos ultimos meses do ano chegando a 12 mil mensagens "
   ]
  },
  {
   "cell_type": "code",
   "execution_count": 40,
   "metadata": {
    "id": "fIVdRuT6uj8v"
   },
   "outputs": [
    {
     "name": "stdout",
     "output_type": "stream",
     "text": [
      "Média de mensagens plano surf: 31.16\n",
      "Variancia numero de mensagens plano surf: 1126.01\n",
      "Desvio padrão numero de mensagens plano surf: 33.56\n",
      "\n",
      "Média de mensagens plano ultimate: 37.55\n",
      "Variancia numero de mensagens plano ultimate: 1207.08\n",
      "Desvio padrão numero de mensagens plano ultimate: 34.74\n"
     ]
    }
   ],
   "source": [
    "# Calcule a média, variância e desvio padrão do numero de mensagens \n",
    "mean_msg_surf = round(consumption_total_surf[\"count_messages\"].mean(),2)\n",
    "variance_msg_surf = round(np.var(consumption_total_surf[\"count_messages\"]),2)\n",
    "stdv_msg_surf = round(np.std(consumption_total_surf[\"count_messages\"]),2)\n",
    "\n",
    "mean_msg_ultimate = round(consumption_total_ultimate[\"count_messages\"].mean(),2)\n",
    "variance_msg_ultimate = round(np.var(consumption_total_ultimate[\"count_messages\"]),2)\n",
    "stdv_msg_ultimate = round(np.std(consumption_total_ultimate[\"count_messages\"]),2)\n",
    "\n",
    "print(\"Média de mensagens plano surf:\", mean_msg_surf)\n",
    "print(\"Variancia numero de mensagens plano surf:\", variance_msg_surf)\n",
    "print(\"Desvio padrão numero de mensagens plano surf:\", stdv_msg_surf)\n",
    "print()\n",
    "\n",
    "print(\"Média de mensagens plano ultimate:\", mean_msg_ultimate)\n",
    "print(\"Variancia numero de mensagens plano ultimate:\", variance_msg_ultimate)\n",
    "print(\"Desvio padrão numero de mensagens plano ultimate:\", stdv_msg_ultimate)\n",
    "\n"
   ]
  },
  {
   "cell_type": "markdown",
   "metadata": {},
   "source": [
    "Números bem parecidos para os dois planos no consumo de mensagens, não há diferenças destacaveis em termo de variancia e desvio padrão"
   ]
  },
  {
   "cell_type": "code",
   "execution_count": 41,
   "metadata": {
    "id": "di6wucOLuj8v"
   },
   "outputs": [
    {
     "data": {
      "image/png": "[encoded data removed]",
      "text/plain": [
       "<Figure size 640x480 with 1 Axes>"
      ]
     },
     "metadata": {},
     "output_type": "display_data"
    }
   ],
   "source": [
    "# Faça um diagrama de caixa para visualizar a distribuição das mensagens \n",
    "\n",
    "fig, ax = plt.subplots()\n",
    "\n",
    "consumption_total_surf['count_messages'].plot(kind='box', ax=ax, color=dict(boxes='skyblue', whiskers='black', medians='black', caps='black'), patch_artist=True, positions=[1])\n",
    "consumption_total_ultimate['count_messages'].plot(kind='box', ax=ax, color=dict(boxes='orange', whiskers='black', medians='black', caps='black'), patch_artist=True, positions=[2])\n",
    "\n",
    "# Ajustando os ticks para o eixo x\n",
    "ax.set_xticks([1, 2])\n",
    "ax.set_xticklabels(['Surf', 'Ultimate'])\n",
    "\n",
    "plt.show()"
   ]
  },
  {
   "cell_type": "markdown",
   "metadata": {},
   "source": [
    "Mediana do plano surf um pouco menor que do que o ultimate, porém o plano surf tem um número muito considerável de outliers"
   ]
  },
  {
   "cell_type": "markdown",
   "metadata": {
    "id": "v6QELMtcuj8v"
   },
   "source": [
    "Sobre o consumo de mensagens, em média os dois planos consomen um volume parecido de mensagens por mês. Variancia e desvio padrão parecidos também. Mediana do plano surf um pouco menor que o ultimate. Destaque para o número de outliers no plano surf, consideravelmente maior que o plano ultimate. Talvez esses outliers venham do somátorio de mensagens por mês nos ultimos meses do ano onde o plano surf se destaca também no numero de mensagens."
   ]
  },
  {
   "cell_type": "markdown",
   "metadata": {
    "id": "nHUCwAnauj8w"
   },
   "source": [
    "### Internet"
   ]
  },
  {
   "cell_type": "code",
   "execution_count": 42,
   "metadata": {
    "id": "EEm27RaRuj8w"
   },
   "outputs": [
    {
     "data": {
      "image/png": "[encoded data removed]",
      "text/plain": [
       "<Figure size 900x500 with 1 Axes>"
      ]
     },
     "metadata": {},
     "output_type": "display_data"
    }
   ],
   "source": [
    "#Compare o numero médio de trafego na internet cada plano para cada mês. Crie um gráfico de barras para visualizar o resultado.\n",
    "#criando pivot table \n",
    "\n",
    "pivot_avg_net = consumption_total.pivot_table(index= \"month\" , columns= \"plan\", values= \"gb_used\", aggfunc= \"mean\")\n",
    "\n",
    "pivot_avg_msg.plot(kind= \"bar\", title= \"Internet consumed average\", xlabel= \"month\", ylabel=\"Average of gb used\",color=['skyblue','orange'], figsize= [9,5])\n",
    "plt.legend(loc='upper left', prop={'size':11})\n",
    "plt.show()"
   ]
  },
  {
   "cell_type": "markdown",
   "metadata": {},
   "source": [
    "Em média plano ultimate consome mais internet por mês que o plano surf durante todo o ano"
   ]
  },
  {
   "cell_type": "code",
   "execution_count": 43,
   "metadata": {
    "id": "Detb0wIZuj8w"
   },
   "outputs": [
    {
     "data": {
      "image/png": "[encoded data removed]",
      "text/plain": [
       "<Figure size 640x480 with 1 Axes>"
      ]
     },
     "metadata": {},
     "output_type": "display_data"
    }
   ],
   "source": [
    "# Compare o número de GB que os usuários de cada plano costumam usar a cada mês\n",
    "\n",
    "# somando a internet consumida por mês e por plano\n",
    "internet_per_month_surf = consumption_total_surf.groupby('month')['gb_used'].sum()\n",
    "internet_per_month_ultimate = consumption_total_ultimate.groupby('month')['gb_used'].sum()\n",
    "\n",
    "# Plotando o grafico\n",
    "plt.bar(internet_per_month_surf.index, internet_per_month_surf.values, color='skyblue')\n",
    "plt.xlabel('Mês')\n",
    "plt.ylabel('GB_used')\n",
    "plt.title('Internet por mês')\n",
    "plt.xticks(internet_per_month_surf.index, ['Jan', 'Feb', 'Mar', 'Apr', 'May', 'Jun', 'Jul', 'Aug', 'Sep', 'Oct', 'Nov', 'Dec'])\n",
    "\n",
    "plt.bar(internet_per_month_ultimate.index, internet_per_month_ultimate.values, color='orange')\n",
    "plt.xlabel('Mês')\n",
    "plt.ylabel('GB_used')\n",
    "plt.title('Internet por mês')\n",
    "plt.xticks(internet_per_month_ultimate.index, ['Jan', 'Feb', 'Mar', 'Apr', 'May', 'Jun', 'Jul', 'Aug', 'Sep', 'Oct', 'Nov', 'Dec'])\n",
    "plt.legend([\"surf\", \"ultimate\"])\n",
    "plt.show()"
   ]
  },
  {
   "cell_type": "markdown",
   "metadata": {},
   "source": [
    "Conforme o gráfico ao longo do ano clientes do plano surf consomem mais internet que o plano ultimate"
   ]
  },
  {
   "cell_type": "code",
   "execution_count": 44,
   "metadata": {
    "id": "1zsw31_cuj8w"
   },
   "outputs": [
    {
     "name": "stdout",
     "output_type": "stream",
     "text": [
      "Média consumo de internet plano surf: 16.67\n",
      "Variancia consumo de internet plano surf: 61.54\n",
      "Desvio padrão consumo de internet plano surf: 7.85\n",
      "\n",
      "Média consumo de internet plano ultimate: 17.31\n",
      "Variancia consumo de internet plano ultimate: 58.75\n",
      "Desvio padrão consumo de internet plano ultimate: 7.66\n"
     ]
    }
   ],
   "source": [
    "# Calcule a média, variância e desvio padrão do uso de internet \n",
    "\n",
    "mean_net_surf = round(consumption_total_surf[\"gb_used\"].mean(),2)\n",
    "variance_net_surf = round(np.var(consumption_total_surf[\"gb_used\"]),2)\n",
    "stdv_net_surf = round(np.std(consumption_total_surf[\"gb_used\"]),2)\n",
    "\n",
    "mean_net_ultimate = round(consumption_total_ultimate[\"gb_used\"].mean(),2)\n",
    "variance_net_ultimate = round(np.var(consumption_total_ultimate[\"gb_used\"]),2)\n",
    "stdv_net_ultimate = round(np.std(consumption_total_ultimate[\"gb_used\"]),2)\n",
    "\n",
    "print(\"Média consumo de internet plano surf:\", mean_net_surf)\n",
    "print(\"Variancia consumo de internet plano surf:\", variance_net_surf)\n",
    "print(\"Desvio padrão consumo de internet plano surf:\", stdv_net_surf)\n",
    "print()\n",
    "\n",
    "print(\"Média consumo de internet plano ultimate:\", mean_net_ultimate)\n",
    "print(\"Variancia consumo de internet plano ultimate:\", variance_net_ultimate)\n",
    "print(\"Desvio padrão consumo de internet plano ultimate:\", stdv_net_ultimate)"
   ]
  },
  {
   "cell_type": "markdown",
   "metadata": {},
   "source": [
    "Média total do ultimate 1  gb maior somente, variancia e desvio padrão bem proximos "
   ]
  },
  {
   "cell_type": "code",
   "execution_count": 45,
   "metadata": {},
   "outputs": [
    {
     "data": {
      "image/png": "[encoded data removed]",
      "text/plain": [
       "<Figure size 640x480 with 1 Axes>"
      ]
     },
     "metadata": {},
     "output_type": "display_data"
    }
   ],
   "source": [
    "# Faça um diagrama de caixa para visualizar a distribuição do uso de internet \n",
    "\n",
    "fig, ax = plt.subplots()\n",
    "\n",
    "consumption_total_surf['gb_used'].plot(kind='box', ax=ax, color=dict(boxes='skyblue', whiskers='black', medians='black', caps='black'), patch_artist=True, positions=[1])\n",
    "consumption_total_ultimate['gb_used'].plot(kind='box', ax=ax, color=dict(boxes='orange', whiskers='black', medians='black', caps='black'), patch_artist=True, positions=[2])\n",
    "\n",
    "# Ajustando os ticks para o eixo x\n",
    "ax.set_xticks([1, 2])\n",
    "ax.set_xticklabels(['Surf', 'Ultimate'])\n",
    "\n",
    "plt.show()"
   ]
  },
  {
   "cell_type": "markdown",
   "metadata": {},
   "source": [
    "Medianas dos dois planos parecidas, os dois planos tem bastante outliers, porém plano ultimate tem outliers para os dois lados, baixo e alto consumo. Já o surf outliers somente para alto consumo"
   ]
  },
  {
   "cell_type": "markdown",
   "metadata": {
    "id": "GsHkFpGmuj8w"
   },
   "source": [
    "Formule conclusões sobre como os usuários tendem a consumir o tráfego da internet. O comportamento é diferente dependendo do plano?\n",
    "\n",
    "Em média plano ultimate consome mais internet que o plano surf, no consumo de internet o plano ultimate não tem tanta regularidade como nos outros quesitos. Há outliers tanto para baixo como para alto consumo. Destancando-se mais para alto consumo. Variancia e desvio padrão dos dois planos parecidos "
   ]
  },
  {
   "cell_type": "markdown",
   "metadata": {
    "id": "g23qXaYNuj8x"
   },
   "source": [
    "## Receita"
   ]
  },
  {
   "cell_type": "code",
   "execution_count": 46,
   "metadata": {
    "id": "CGuBwYRyuj8y"
   },
   "outputs": [
    {
     "data": {
      "image/png": "[encoded data removed]",
      "text/plain": [
       "<Figure size 900x500 with 1 Axes>"
      ]
     },
     "metadata": {},
     "output_type": "display_data"
    }
   ],
   "source": [
    "#Compare a média de receita cada plano para cada mês. Crie um gráfico de barras para visualizar o resultado.\n",
    "#criando pivot table \n",
    "\n",
    "pivot_avg_bill = consumption_total.pivot_table(index= \"date\" , columns= \"plan\", values= \"monthly_bill\", aggfunc= \"mean\")\n",
    "\n",
    "pivot_avg_msg.plot(kind= \"bar\", title= \"Bill average\", xlabel= \"month-year\", ylabel=\"Bill value\", color=['skyblue','orange'], figsize= [9,5])\n",
    "plt.legend(loc='upper left', prop={'size':11})\n",
    "plt.show()"
   ]
  },
  {
   "cell_type": "markdown",
   "metadata": {},
   "source": [
    "Média mensal de receita do plano ultimate um pouco maior que o plano surf "
   ]
  },
  {
   "cell_type": "code",
   "execution_count": 47,
   "metadata": {
    "id": "qJSyfvUguj8y"
   },
   "outputs": [
    {
     "data": {
      "image/png": "[encoded data removed]",
      "text/plain": [
       "<Figure size 640x480 with 1 Axes>"
      ]
     },
     "metadata": {},
     "output_type": "display_data"
    }
   ],
   "source": [
    "# Compare a receita que os usuários de cada plano costumam pagar a cada mês\n",
    "\n",
    "# somando o valor da conta por mês e por plano\n",
    "bill_per_month_surf = consumption_total_surf.groupby('month')[\"monthly_bill\"].sum()\n",
    "bill_per_month_ultimate = consumption_total_ultimate.groupby('month')[\"monthly_bill\"].sum()\n",
    "\n",
    "# Plotando o grafico\n",
    "plt.bar(bill_per_month_surf.index, bill_per_month_surf.values, color='skyblue')\n",
    "plt.xlabel('Mês')\n",
    "plt.ylabel('Bill value')\n",
    "plt.title('Valor de receita por mês')\n",
    "plt.xticks(bill_per_month_surf.index, ['Jan', 'Feb', 'Mar', 'Apr', 'May', 'Jun', 'Jul', 'Aug', 'Sep', 'Oct', 'Nov', 'Dec'])\n",
    "\n",
    "plt.bar(bill_per_month_ultimate.index, bill_per_month_ultimate.values, color='orange')\n",
    "plt.xlabel('Mês')\n",
    "plt.ylabel('Bill value')\n",
    "plt.title('Valor de receita por mês')\n",
    "plt.xticks(bill_per_month_ultimate.index, ['Jan', 'Feb', 'Mar', 'Apr', 'May', 'Jun', 'Jul', 'Aug', 'Sep', 'Oct', 'Nov', 'Dec'])\n",
    "plt.legend([\"surf\", \"ultimate\"])\n",
    "plt.show()"
   ]
  },
  {
   "cell_type": "markdown",
   "metadata": {},
   "source": [
    "Receita do plano surf maior que a receita do plano ultimate ao longo do ano, pode ser que os outliers tenha alguma influência nesse resultado"
   ]
  },
  {
   "cell_type": "code",
   "execution_count": 48,
   "metadata": {
    "id": "KUSxMW71uj8z"
   },
   "outputs": [
    {
     "name": "stdout",
     "output_type": "stream",
     "text": [
      "Média receita plano surf: 60.71\n",
      "Variancia receita plano surf: 3065.88\n",
      "Desvio padrão receita plano surf: 55.37\n",
      "\n",
      "Média receita plano ultimate: 72.31\n",
      "Variancia receita plano ultimate: 129.67\n",
      "Desvio padrão receita plano ultimate: 11.39\n"
     ]
    }
   ],
   "source": [
    "# Calcule a média, variância e desvio padrão da receita\n",
    "\n",
    "mean_bill_surf = round(consumption_total_surf[\"monthly_bill\"].mean(),2)\n",
    "variance_bill_surf = round(np.var(consumption_total_surf[\"monthly_bill\"]),2)\n",
    "stdv_bill_surf = round(np.std(consumption_total_surf[\"monthly_bill\"]),2)\n",
    "\n",
    "mean_bill_ultimate = round(consumption_total_ultimate[\"monthly_bill\"].mean(),2)\n",
    "variance_bill_ultimate = round(np.var(consumption_total_ultimate[\"monthly_bill\"]),2)\n",
    "stdv_bill_ultimate = round(np.std(consumption_total_ultimate[\"monthly_bill\"]),2)\n",
    "\n",
    "print(\"Média receita plano surf:\", mean_bill_surf)\n",
    "print(\"Variancia receita plano surf:\", variance_bill_surf)\n",
    "print(\"Desvio padrão receita plano surf:\", stdv_bill_surf)\n",
    "print()\n",
    "\n",
    "print(\"Média receita plano ultimate:\", mean_bill_ultimate)\n",
    "print(\"Variancia receita plano ultimate:\", variance_bill_ultimate)\n",
    "print(\"Desvio padrão receita plano ultimate:\", stdv_bill_ultimate)"
   ]
  },
  {
   "cell_type": "markdown",
   "metadata": {},
   "source": [
    "Média de receita anual do plano ultimate um pouco maior, 10 a mais. Porém variancia e desvio padrão do plano surf muito maior, o que mais uma vez indica a irregularidade do plano surf com uma variação destacavel ao longo do ano."
   ]
  },
  {
   "cell_type": "code",
   "execution_count": 49,
   "metadata": {},
   "outputs": [
    {
     "data": {
      "image/png": "[encoded data removed]",
      "text/plain": [
       "<Figure size 640x480 with 1 Axes>"
      ]
     },
     "metadata": {},
     "output_type": "display_data"
    }
   ],
   "source": [
    "# Faça um diagrama de caixa para visualizar a distribuição da receita\n",
    "\n",
    "fig, ax = plt.subplots()\n",
    "\n",
    "consumption_total_surf[\"monthly_bill\"].plot(kind='box', ax=ax, color=dict(boxes='skyblue', whiskers='black', medians='black', caps='black'), patch_artist=True, positions=[1])\n",
    "consumption_total_ultimate[\"monthly_bill\"].plot(kind='box', ax=ax, color=dict(boxes='orange', whiskers='black', medians='black', caps='black'), patch_artist=True, positions=[2])\n",
    "\n",
    "# Ajustando os ticks para o eixo x\n",
    "ax.set_xticks([1, 2])\n",
    "ax.set_xticklabels(['Surf', 'Ultimate'])\n",
    "\n",
    "plt.show()"
   ]
  },
  {
   "cell_type": "markdown",
   "metadata": {},
   "source": [
    "Mediana do ultimate um pouco maior, os dois planos com outliers para receita alta, porém o plano surf tem tanto outliers extremos que faz com o que o boxplot do plano ultimate fique quase invisivel quando colocado no mesmo gráfico lado a lado."
   ]
  },
  {
   "cell_type": "markdown",
   "metadata": {
    "id": "6X34EwHpuj8z"
   },
   "source": [
    "Média mensal de receita do plano ultimate um pouco maior, na média anual ultimate também é superior em 10 dólares, mediana do ultimate um pouco maior porém os dois planos tem outliers com destaque para outliers extremos do plano surf para uma receita alta, exemplos de contas de 500 a 600 doláres mês no plano surf. Plano surf com pouquissima regularidade com variancia e desvio padrão bem alto também  "
   ]
  },
  {
   "cell_type": "markdown",
   "metadata": {
    "id": "xJ6Mu-KAuj8z"
   },
   "source": [
    "## Teste hipóteses estatísticas"
   ]
  },
  {
   "cell_type": "markdown",
   "metadata": {},
   "source": [
    "Testando a hipótese de que a receita média dos usuários dos planos Ultimate e Surf são diferentes"
   ]
  },
  {
   "cell_type": "code",
   "execution_count": 50,
   "metadata": {
    "id": "LyGrPhpUuj80"
   },
   "outputs": [
    {
     "name": "stdout",
     "output_type": "stream",
     "text": [
      "p-value:  3.1703905481135738e-15\n",
      "Rejeitamos a hipótese nula\n"
     ]
    }
   ],
   "source": [
    "# Hipotese nula: a receita média dos dois planos são iguais \n",
    "# Hipotese alternativa: a receita média dos dois planos são diferentes \n",
    "\n",
    "alpha = .05\n",
    "\n",
    "results = st.ttest_ind(consumption_total_surf[\"monthly_bill\"], consumption_total_ultimate[\"monthly_bill\"], equal_var=False) \n",
    "\n",
    "print(\"p-value: \", results.pvalue)\n",
    "\n",
    "if (results.pvalue < alpha): #comparando o valor-p com alpha \n",
    "    print(\"Rejeitamos a hipótese nula\")\n",
    "else:\n",
    "    print(\"Não podemos rejeitar a hipótese nula\")\n",
    "      \n"
   ]
  },
  {
   "cell_type": "markdown",
   "metadata": {},
   "source": [
    "Hipótese nula rejeitada\n",
    "Com um valor p menor do que 0.05 há evidências significativas de que há uma diferença estatistica entre as médias da receita dos dois planos"
   ]
  },
  {
   "cell_type": "markdown",
   "metadata": {
    "id": "Cz6rwE56uj80"
   },
   "source": [
    "Testando a hipótese de que a receita média dos usuários da área de NY-NJ difere dos usuários das demais regiões"
   ]
  },
  {
   "cell_type": "code",
   "execution_count": 51,
   "metadata": {
    "id": "98t8iiJyuj80"
   },
   "outputs": [
    {
     "name": "stdout",
     "output_type": "stream",
     "text": [
      "p-value:  0.0335256158853001\n",
      "Rejeitamos a hipótese nula\n"
     ]
    }
   ],
   "source": [
    "# Hipotese nula: a receita média dos usuários da área de NY-NJ é igual a receita média das demais regioes  \n",
    "# Hipotese alternativa: a receita média dos usuários da área de NY-NJ difere da receita média das demais regioes  \n",
    "\n",
    "#filtrando onde a coluna city contém a string \"NY-NJ\"\n",
    "consumption_total_ny_nj = consumption_total[consumption_total[\"city\"].str.contains(\"NY-NJ\", case=False)]\n",
    "consumption_total_other_regions = consumption_total[~consumption_total[\"city\"].str.contains(\"NY-NJ\", case=False)] \n",
    "\n",
    "#ttest para testar se a média da receita difere ou nao \n",
    "alpha = .05\n",
    "\n",
    "results = st.ttest_ind(consumption_total_ny_nj[\"monthly_bill\"], consumption_total_other_regions[\"monthly_bill\"], equal_var=False) \n",
    "\n",
    "print(\"p-value: \", results.pvalue)\n",
    "\n",
    "if (results.pvalue < alpha): #comparando o valor-p com alpha \n",
    "    print(\"Rejeitamos a hipótese nula\")\n",
    "else:\n",
    "    print(\"Não podemos rejeitar a hipótese nula\")\n"
   ]
  },
  {
   "cell_type": "markdown",
   "metadata": {},
   "source": [
    "Hipótese nula rejeitada\n",
    "Com um valor p menor do que 0.05 há evidências significativas de que há uma diferença estatistica entre as médias da receita. Neste caso a receita média dos usuários da área de NY-NJ difere da receita média das demais regioes "
   ]
  },
  {
   "cell_type": "markdown",
   "metadata": {
    "id": "M8WycwWFuj81"
   },
   "source": [
    "## Conclusão geral"
   ]
  },
  {
   "cell_type": "markdown",
   "metadata": {},
   "source": [
    "A análise sugere que o comportamento dos usuários difere por plano e talvez por região (exemplo: NY_NJ), mas não temos dados suficientes para dizer detalhadamente como. Há outliers nos dois planos em diferentes quesitos com o plano surf tendo uma irregularidade maior tanto no consumo de serviços, como na receita. O que talvez os dados também possam nos indicar é que:\n",
    "\n",
    "Consumo de chamadas: \n",
    "No quesito chamadas o plano no surf é ligeiramente diferente que o plano ultimate. A duração média mensal de chamadas é parecidas porém há outliers no plano surf. O plano ultimate parece ter uma regularidade maior. \n",
    "\n",
    "Consumo de mensagens:\n",
    "Conclusão parecida com chamadasm, mas o número de outliers no plano surf aqui é ainda maior, talvez esses outliers venham do somátorio de mensagens por mês nos ultimos meses do ano onde o plano surf se destaca também no numero de mensagens.\n",
    "\n",
    "Consumo de internet:\n",
    "Em média mensal e anual plano ultimate consome mais internet que o plano surf, no consumo de internet o plano ultimate não tem tanta regularidade como nos outros consumos. Há outliers tanto para consumo baixo como para consumo alto. Porém há muito mais para alto consumo. \n",
    "\n",
    "Receita: \n",
    "Média mensal de receita do plano ultimate um pouco maior, na média anual ultimate também é superior em 10 dólares, mediana do ultimate um pouco maior, porém os dois planos tem outliers com destaque para outliers extremos do plano surf de receita alta, exemplos de contas de 500 a 600 doláres por mês no plano surf. Plano surf com pouquissima regularidade, com variancia e desvio padrão bem altos"
   ]
  }
 ],
 "metadata": {
  "ExecuteTimeLog": [
   {
    "duration": 828,
    "start_time": "2021-11-16T09:21:11.304Z"
   },
   {
    "duration": 893,
    "start_time": "2021-11-16T09:21:17.728Z"
   },
   {
    "duration": 1150,
    "start_time": "2021-11-16T09:21:29.568Z"
   },
   {
    "duration": 3,
    "start_time": "2021-11-16T09:24:14.495Z"
   },
   {
    "duration": 120,
    "start_time": "2021-11-16T09:24:46.630Z"
   },
   {
    "duration": 3,
    "start_time": "2021-11-16T09:28:27.882Z"
   },
   {
    "duration": 4,
    "start_time": "2021-11-16T09:29:54.281Z"
   },
   {
    "duration": 3,
    "start_time": "2021-11-16T09:30:45.936Z"
   },
   {
    "duration": 4,
    "start_time": "2021-11-16T09:31:06.300Z"
   },
   {
    "duration": 113,
    "start_time": "2021-11-16T09:31:37.208Z"
   },
   {
    "duration": 143,
    "start_time": "2021-11-16T09:31:48.656Z"
   },
   {
    "duration": 98,
    "start_time": "2021-11-16T09:31:55.678Z"
   },
   {
    "duration": 3,
    "start_time": "2021-11-16T09:32:08.535Z"
   },
   {
    "duration": 111,
    "start_time": "2021-11-16T09:32:10.120Z"
   },
   {
    "duration": 3,
    "start_time": "2021-11-16T09:32:15.732Z"
   },
   {
    "duration": 4,
    "start_time": "2021-11-16T09:32:29.423Z"
   },
   {
    "duration": 3,
    "start_time": "2021-11-16T10:03:03.074Z"
   },
   {
    "duration": 3,
    "start_time": "2021-11-16T10:10:01.288Z"
   },
   {
    "duration": 3,
    "start_time": "2021-11-16T10:10:46.923Z"
   },
   {
    "duration": 121,
    "start_time": "2021-11-16T10:37:46.494Z"
   },
   {
    "duration": 125,
    "start_time": "2021-11-16T10:38:20.632Z"
   },
   {
    "duration": 112,
    "start_time": "2021-11-16T10:46:53.001Z"
   },
   {
    "duration": 110,
    "start_time": "2021-11-16T10:48:25.775Z"
   },
   {
    "duration": 3,
    "start_time": "2021-11-16T10:50:18.720Z"
   },
   {
    "duration": 4,
    "start_time": "2021-11-16T10:50:37.649Z"
   },
   {
    "duration": 2,
    "start_time": "2021-11-16T10:50:51.884Z"
   },
   {
    "duration": 3,
    "start_time": "2021-11-16T10:51:56.237Z"
   },
   {
    "duration": 101,
    "start_time": "2021-11-16T10:53:13.791Z"
   },
   {
    "duration": 3,
    "start_time": "2021-11-16T10:55:59.186Z"
   },
   {
    "duration": 3,
    "start_time": "2021-11-16T10:56:10.751Z"
   },
   {
    "duration": 3,
    "start_time": "2021-11-16T10:56:49.038Z"
   },
   {
    "duration": 3,
    "start_time": "2021-11-16T10:56:49.174Z"
   },
   {
    "duration": 4,
    "start_time": "2021-11-16T10:56:49.414Z"
   },
   {
    "duration": 3,
    "start_time": "2021-11-16T10:56:49.680Z"
   },
   {
    "duration": 3,
    "start_time": "2021-11-16T10:56:50.370Z"
   },
   {
    "duration": 114,
    "start_time": "2021-11-16T10:59:34.518Z"
   },
   {
    "duration": 3,
    "start_time": "2021-11-16T11:01:41.201Z"
   },
   {
    "duration": 116,
    "start_time": "2021-11-16T11:01:48.754Z"
   },
   {
    "duration": 3,
    "start_time": "2021-11-16T11:02:16.685Z"
   },
   {
    "duration": 3,
    "start_time": "2021-11-16T11:02:19.479Z"
   },
   {
    "duration": 3,
    "start_time": "2021-11-16T11:02:47.067Z"
   },
   {
    "duration": 3,
    "start_time": "2021-11-16T11:02:49.353Z"
   },
   {
    "duration": 3,
    "start_time": "2021-11-16T11:03:07.835Z"
   },
   {
    "duration": 3,
    "start_time": "2021-11-16T11:03:07.953Z"
   },
   {
    "duration": 112,
    "start_time": "2021-11-16T11:07:52.072Z"
   },
   {
    "duration": 187,
    "start_time": "2021-11-16T11:09:23.468Z"
   },
   {
    "duration": 4,
    "start_time": "2021-11-16T11:10:01.455Z"
   },
   {
    "duration": 3,
    "start_time": "2021-11-16T11:10:05.069Z"
   },
   {
    "duration": 4,
    "start_time": "2021-11-16T11:10:13.376Z"
   },
   {
    "duration": 3,
    "start_time": "2021-11-16T11:10:14.434Z"
   },
   {
    "duration": 3,
    "start_time": "2021-11-16T11:10:22.853Z"
   },
   {
    "duration": 4,
    "start_time": "2021-11-16T11:27:29.279Z"
   },
   {
    "duration": 4,
    "start_time": "2021-11-16T11:29:08.919Z"
   },
   {
    "duration": 118,
    "start_time": "2021-11-16T11:29:46.703Z"
   },
   {
    "duration": 437,
    "start_time": "2021-11-16T11:36:02.181Z"
   },
   {
    "duration": 157,
    "start_time": "2021-11-16T11:36:14.388Z"
   },
   {
    "duration": 207,
    "start_time": "2021-11-16T11:47:15.898Z"
   },
   {
    "duration": 3,
    "start_time": "2021-11-16T11:53:52.092Z"
   },
   {
    "duration": 3,
    "start_time": "2021-11-16T11:53:52.236Z"
   },
   {
    "duration": 3,
    "start_time": "2021-11-16T11:59:12.005Z"
   },
   {
    "duration": 112,
    "start_time": "2021-11-16T12:00:33.446Z"
   },
   {
    "duration": 3,
    "start_time": "2021-11-16T12:02:14.453Z"
   },
   {
    "duration": 3,
    "start_time": "2021-11-16T12:02:39.512Z"
   },
   {
    "duration": 106,
    "start_time": "2021-11-16T12:03:03.460Z"
   },
   {
    "duration": 3,
    "start_time": "2021-11-17T20:37:21.139Z"
   },
   {
    "duration": 3,
    "start_time": "2021-11-17T20:37:22.229Z"
   },
   {
    "duration": 3,
    "start_time": "2021-11-17T20:38:38.806Z"
   },
   {
    "duration": 3,
    "start_time": "2021-11-17T20:38:41.958Z"
   },
   {
    "duration": 3,
    "start_time": "2021-11-17T20:43:46.551Z"
   },
   {
    "duration": 4,
    "start_time": "2021-11-17T20:58:21.835Z"
   },
   {
    "duration": 3,
    "start_time": "2021-11-17T20:59:21.872Z"
   },
   {
    "duration": 4,
    "start_time": "2021-11-17T20:59:45.352Z"
   },
   {
    "duration": 4,
    "start_time": "2021-11-17T20:59:49.646Z"
   },
   {
    "duration": 159,
    "start_time": "2021-11-17T21:02:26.949Z"
   },
   {
    "duration": 3,
    "start_time": "2021-11-17T21:03:53.461Z"
   },
   {
    "duration": 3,
    "start_time": "2021-11-17T21:03:53.694Z"
   },
   {
    "duration": 3,
    "start_time": "2021-11-17T21:05:28.145Z"
   },
   {
    "duration": 116,
    "start_time": "2021-11-17T21:05:57.787Z"
   },
   {
    "duration": 3,
    "start_time": "2021-11-17T21:06:37.993Z"
   },
   {
    "duration": 3,
    "start_time": "2021-11-17T21:06:38.261Z"
   },
   {
    "duration": 3,
    "start_time": "2021-11-17T21:11:54.358Z"
   },
   {
    "duration": 3,
    "start_time": "2021-11-17T21:12:43.846Z"
   },
   {
    "duration": 4,
    "start_time": "2021-11-17T21:13:08.773Z"
   },
   {
    "duration": 3,
    "start_time": "2021-11-17T21:14:44.441Z"
   },
   {
    "duration": 3,
    "start_time": "2021-11-17T21:15:42.059Z"
   },
   {
    "duration": 4,
    "start_time": "2021-11-17T21:15:51.995Z"
   },
   {
    "duration": 3,
    "start_time": "2021-11-17T21:15:53.923Z"
   },
   {
    "duration": 3,
    "start_time": "2021-11-17T21:15:55.282Z"
   },
   {
    "duration": 3,
    "start_time": "2021-11-17T21:16:28.492Z"
   },
   {
    "duration": 3,
    "start_time": "2021-11-17T21:16:32.603Z"
   },
   {
    "duration": 3,
    "start_time": "2021-11-17T21:17:06.941Z"
   },
   {
    "duration": 98,
    "start_time": "2021-11-17T21:18:05.733Z"
   },
   {
    "duration": 4,
    "start_time": "2021-11-17T21:21:35.255Z"
   },
   {
    "duration": 3,
    "start_time": "2021-11-17T21:21:37.804Z"
   },
   {
    "duration": 4,
    "start_time": "2021-11-17T21:23:06.071Z"
   },
   {
    "duration": 3,
    "start_time": "2021-11-17T21:23:24.799Z"
   },
   {
    "duration": 3,
    "start_time": "2021-11-17T21:23:32.591Z"
   },
   {
    "duration": 98,
    "start_time": "2021-11-17T21:28:31.559Z"
   },
   {
    "duration": 3,
    "start_time": "2021-11-17T21:28:45.448Z"
   },
   {
    "duration": 3,
    "start_time": "2021-11-17T21:29:17.303Z"
   },
   {
    "duration": 3,
    "start_time": "2021-11-17T21:29:29.617Z"
   },
   {
    "duration": 3,
    "start_time": "2021-11-17T21:29:32.681Z"
   },
   {
    "duration": 3,
    "start_time": "2021-11-17T21:36:11.474Z"
   },
   {
    "duration": 3,
    "start_time": "2021-11-17T21:36:14.791Z"
   },
   {
    "duration": 3,
    "start_time": "2021-11-17T21:36:53.943Z"
   },
   {
    "duration": 3,
    "start_time": "2021-11-17T21:36:56.165Z"
   },
   {
    "duration": 4,
    "start_time": "2021-11-17T21:37:16.590Z"
   },
   {
    "duration": 3,
    "start_time": "2021-11-17T21:37:22.702Z"
   },
   {
    "duration": 4,
    "start_time": "2021-11-17T21:38:03.479Z"
   },
   {
    "duration": 3,
    "start_time": "2021-11-17T21:38:08.601Z"
   },
   {
    "duration": 3,
    "start_time": "2021-11-17T21:38:12.928Z"
   },
   {
    "duration": 3,
    "start_time": "2021-11-17T21:38:48.896Z"
   },
   {
    "duration": 2,
    "start_time": "2021-11-17T21:38:49.171Z"
   },
   {
    "duration": 4,
    "start_time": "2021-11-17T21:39:57.889Z"
   },
   {
    "duration": 3,
    "start_time": "2021-11-17T21:39:58.057Z"
   },
   {
    "duration": 3,
    "start_time": "2021-11-17T21:41:20.108Z"
   },
   {
    "duration": 3,
    "start_time": "2021-11-17T21:41:20.629Z"
   },
   {
    "duration": 3,
    "start_time": "2021-11-17T21:42:49.136Z"
   },
   {
    "duration": 3,
    "start_time": "2021-11-17T21:43:15.137Z"
   },
   {
    "duration": 4,
    "start_time": "2021-11-17T21:43:16.766Z"
   },
   {
    "duration": 4,
    "start_time": "2021-11-17T21:43:31.711Z"
   },
   {
    "duration": 3,
    "start_time": "2021-11-17T21:43:36.312Z"
   },
   {
    "duration": 4,
    "start_time": "2021-11-17T21:45:08.825Z"
   },
   {
    "duration": 4,
    "start_time": "2021-11-17T21:45:10.119Z"
   },
   {
    "duration": 4,
    "start_time": "2021-11-17T21:45:13.748Z"
   },
   {
    "duration": 3,
    "start_time": "2021-11-17T21:45:22.219Z"
   },
   {
    "duration": 3,
    "start_time": "2021-11-17T21:45:33.412Z"
   },
   {
    "duration": 2,
    "start_time": "2021-11-17T21:46:01.885Z"
   },
   {
    "duration": 3,
    "start_time": "2021-11-17T21:46:03.628Z"
   },
   {
    "duration": 107,
    "start_time": "2021-11-17T21:47:32.512Z"
   },
   {
    "duration": 103,
    "start_time": "2021-11-17T21:50:36.243Z"
   },
   {
    "duration": 3,
    "start_time": "2021-11-18T06:28:31.440Z"
   },
   {
    "duration": 3,
    "start_time": "2021-11-18T06:29:00.168Z"
   },
   {
    "duration": 3,
    "start_time": "2021-11-18T06:31:27.008Z"
   },
   {
    "duration": 2,
    "start_time": "2021-11-18T06:35:34.288Z"
   },
   {
    "duration": 2,
    "start_time": "2021-11-18T06:38:04.527Z"
   },
   {
    "duration": 3072,
    "start_time": "2024-11-06T17:37:21.683Z"
   },
   {
    "duration": 688,
    "start_time": "2024-11-06T17:37:24.761Z"
   },
   {
    "duration": 159,
    "start_time": "2024-11-06T17:37:40.453Z"
   },
   {
    "duration": 1127,
    "start_time": "2024-11-06T17:39:52.101Z"
   },
   {
    "duration": 1304,
    "start_time": "2024-11-06T17:40:29.269Z"
   }
  ],
  "colab": {
   "provenance": []
  },
  "kernelspec": {
   "display_name": "base",
   "language": "python",
   "name": "python3"
  },
  "language_info": {
   "codemirror_mode": {
    "name": "ipython",
    "version": 3
   },
   "file_extension": ".py",
   "mimetype": "text/x-python",
   "name": "python",
   "nbconvert_exporter": "python",
   "pygments_lexer": "ipython3",
   "version": "3.12.4"
  },
  "toc": {
   "base_numbering": 1,
   "nav_menu": {},
   "number_sections": true,
   "sideBar": true,
   "skip_h1_title": false,
   "title_cell": "Table of Contents",
   "title_sidebar": "Contents",
   "toc_cell": false,
   "toc_position": {},
   "toc_section_display": true,
   "toc_window_display": true
  }
 },
 "nbformat": 4,
 "nbformat_minor": 1
}
