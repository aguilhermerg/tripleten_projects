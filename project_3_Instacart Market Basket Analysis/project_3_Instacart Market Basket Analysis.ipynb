{
 "cells": [
  {
   "cell_type": "markdown",
   "id": "3Xg_RQfnafXz",
   "metadata": {
    "id": "3Xg_RQfnafXz"
   },
   "source": [
    "\n",
    "\n",
    "\n",
    "# Vamos encher o carrinho!"
   ]
  },
  {
   "cell_type": "markdown",
   "id": "mhIvmmkW414q",
   "metadata": {
    "id": "mhIvmmkW414q"
   },
   "source": [
    "# Introdução\n",
    "\n",
    "O Instacart é uma plataforma de entrega de supermercado onde os clientes podem fazer um pedido no supermercado e depois receber sua compra, semelhante ao funcionamento do Uber Eats e do iFood. O conjunto de dados que fornecemos foi modificado a partir do original. Reduzimos o tamanho dele para que seus cálculos sejam executados mais rapidamente e incluímos valores ausentes e duplicados. Também tivemos o cuidado de preservar as distribuições dos dados originais quando fizemos as alterações.\n",
    "\n",
    "Você precisa completar três etapas. Para cada uma delas, escreva uma breve introdução descrevendo como você pretende concluir a etapa e justifique suas decisões em parágrafos explicativos a medida que você avança na solução. Escreva também uma conclusão para resumir suas conclusões e escolhas.\n",
    "\n"
   ]
  },
  {
   "cell_type": "markdown",
   "id": "3MbyzpOQZ5Or",
   "metadata": {
    "id": "3MbyzpOQZ5Or"
   },
   "source": [
    "## Dicionário de dados\n",
    "\n",
    "Há cinco tabelas no conjunto de dados, e você vai precisar usar todas elas para pré-processar seus dados e fazer AED. Abaixo está um dicionário que lista as colunas de cada tabela e descreve os dados contidos nelas.\n",
    "\n",
    "- `instacart_orders.csv`: cada linha corresponde a um pedido no aplicativo da Instacart\n",
    "    - `'order_id'`: é o número que identifica cada pedido de forma exclusiva\n",
    "    - `'user_id'`: é o número de identificação exclusivo da conta de cada cliente\n",
    "    - `'order_number'`: é o número de vezes que o cliente fez um pedido\n",
    "    - `'order_dow'`: é o dia da semana em que o pedido foi feito (0 é domingo)\n",
    "    - `'order_hour_of_day'`: é a hora do dia em que o pedido foi feito\n",
    "    - `'days_since_prior_order'`: é o número de dias desde que o cliente fez seu pedido anterior\n",
    "\n",
    "\n",
    "\n",
    "\n",
    "- `products.csv`: cada linha corresponde a um produto exclusivo que os clientes podem comprar\n",
    "    - `'product_id'`: é o número de identificação unívoco de cada produto\n",
    "    - `'product_name'`: é o nome do produto\n",
    "    - `'aisle_id'`: é o número de identificação exclusivo de cada categoria de corredor do supermercado\n",
    "    - `'department_id'`: é o número de identificação exclusivo de cada categoria de departamento do supermercado\n",
    "\n",
    "\n",
    "\n",
    "\n",
    "-\t`order_products.csv`: cada linha corresponde a um item incluído em um pedido\n",
    "    -\t`'order_id'`: é o número que identifica cada pedido de forma exclusiva\n",
    "    -\t`'product_id'`: é o número de identificação exclusivo de cada produto\n",
    "    -\t`'add_to_cart_order'`: é a ordem sequencial em que cada item foi colocado no carrinho\n",
    "    -\t`'reordered'`: 0 se o cliente nunca comprou o produto antes, 1 se já o comprou\n",
    "\n",
    "\n",
    "\n",
    "\n",
    "-\t`aisles.csv`\n",
    "    -\t`'aisle_id'`: é o número de identificação exclusivo de cada categoria de corredor do supermercado\n",
    "    -\t`'aisle'`: é o nome do corredor\n",
    "\n",
    "\n",
    "\n",
    "-\t`departments.csv`\n",
    "    -\t`'department_id'`: é o número de identificação exclusivo de cada categoria de departamento do supermercado\n",
    "    -\t`'department'`: é o nome do departamento\n"
   ]
  },
  {
   "cell_type": "markdown",
   "id": "n3Ha_cNSZ8lK",
   "metadata": {
    "id": "n3Ha_cNSZ8lK"
   },
   "source": [
    "# Etapa 1. Visão geral dos dados\n",
    "\n",
    "Leia os arquivos de dados (/datasets/instacart_orders.csv, /datasets/products.csv, /datasets/aisles.csv, /datasets/departments.csv e /datasets/order_products.csv) com `pd.read_csv()` usando os parâmetros apropriados para fazer isso corretamente. Verifique as informações para cada DataFrame criado.\n"
   ]
  },
  {
   "cell_type": "markdown",
   "id": "OmlQPLlyaAfR",
   "metadata": {
    "id": "OmlQPLlyaAfR"
   },
   "source": [
    "## Plano de solução\n",
    "\n",
    "Escreva aqui seu plano para a Etapa 2. Visão geral dos dados\n",
    "Visão geral dos dados: Os arquivos tem formatação fora do padrão, o separador de CSV é \";\" e não \",\". Foi necessário usar o argumento sep na read_csv(). \n",
    "\n",
    "Existem colunas com valores ausentes, essas sao as colunas:\n",
    "\n",
    "orders.csv (days_since_prior_order) - é o número de dias desde que o cliente fez seu pedido anterior\n",
    "\n",
    "products.csv (product_name) - é o nome do produto\n",
    "\n",
    "order_products.csv (add_to_cart_order) - é a ordem sequencial em que cada item foi colocado no carrinho\n",
    "\n",
    "\n",
    "formato de algumas colunas estão incorretos, colunas categoricas estão com formatos numericos, lista de colunas com formato incorreto:\n",
    "\n",
    "Orders: \n",
    " \n",
    " 0   order_id                int64\n",
    " 1   user_id                 int64  \n",
    " 3   order_dow               int64 (to str)    \n",
    " 5   days_since_prior_order  float64\n",
    "\n",
    "Products:\n",
    " \n",
    " 0   product_id     int64 \n",
    " 2   aisle_id       int64 \n",
    " 3   department_id  int64 \n",
    " \n",
    "Aisles:\n",
    "\n",
    " 0   aisle_id  int64 \n",
    "\n",
    "Department:\n",
    "\n",
    " 0   department_id  int64 \n",
    "\n",
    "Order_products:\n",
    " \n",
    " 0   order_id           int64  \n",
    " 1   product_id         int64  \n",
    " 2   add_to_cart_order  float64\n"
   ]
  },
  {
   "cell_type": "code",
   "execution_count": 1,
   "id": "fbf1adab",
   "metadata": {
    "id": "fbf1adab"
   },
   "outputs": [],
   "source": [
    "# Importe as bibliotecas\n",
    "import pandas as pd \n",
    "import numpy as np \n",
    "from matplotlib import pyplot as plt"
   ]
  },
  {
   "cell_type": "code",
   "execution_count": 2,
   "id": "ad36396d",
   "metadata": {
    "id": "ad36396d"
   },
   "outputs": [],
   "source": [
    "# leia os conjuntos de dados em DataFrames\n",
    "df_orders = pd.read_csv(\"/Users/andreguilhermerodriguesmac/Desktop/Projeto/instacart_orders.csv\", sep= \";\")\n",
    "df_products = pd.read_csv(\"/Users/andreguilhermerodriguesmac/Desktop/Projeto/products.csv\", sep= \";\")\n",
    "df_aisles = pd.read_csv(\"/Users/andreguilhermerodriguesmac/Desktop/Projeto/aisles.csv\", sep= \";\")\n",
    "df_departments = pd.read_csv(\"/Users/andreguilhermerodriguesmac/Desktop/Projeto/departments.csv\", sep= \";\")\n",
    "df_orders_products = pd.read_csv(\"/Users/andreguilhermerodriguesmac/Desktop/Projeto/order_products.csv\", sep= \";\")"
   ]
  },
  {
   "cell_type": "code",
   "execution_count": 3,
   "id": "ad6a1efa",
   "metadata": {
    "id": "ad6a1efa"
   },
   "outputs": [
    {
     "name": "stdout",
     "output_type": "stream",
     "text": [
      "<class 'pandas.core.frame.DataFrame'>\n",
      "RangeIndex: 478967 entries, 0 to 478966\n",
      "Data columns (total 6 columns):\n",
      " #   Column                  Non-Null Count   Dtype  \n",
      "---  ------                  --------------   -----  \n",
      " 0   order_id                478967 non-null  int64  \n",
      " 1   user_id                 478967 non-null  int64  \n",
      " 2   order_number            478967 non-null  int64  \n",
      " 3   order_dow               478967 non-null  int64  \n",
      " 4   order_hour_of_day       478967 non-null  int64  \n",
      " 5   days_since_prior_order  450148 non-null  float64\n",
      "dtypes: float64(1), int64(5)\n",
      "memory usage: 21.9 MB\n",
      "\n",
      "   order_id  user_id  order_number  order_dow  order_hour_of_day  \\\n",
      "0   1515936   183418            11          6                 13   \n",
      "1   1690866   163593             5          5                 12   \n",
      "2   1454967    39980             4          5                 19   \n",
      "3   1768857    82516            56          0                 20   \n",
      "4   3007858   196724             2          4                 12   \n",
      "\n",
      "   days_since_prior_order  \n",
      "0                    30.0  \n",
      "1                     9.0  \n",
      "2                     2.0  \n",
      "3                    10.0  \n",
      "4                    17.0  \n"
     ]
    }
   ],
   "source": [
    "# imprima as informações sobre o DataFrame\n",
    "df_orders.info()\n",
    "print()\n",
    "print (df_orders.head())"
   ]
  },
  {
   "cell_type": "code",
   "execution_count": 4,
   "id": "5130e05e",
   "metadata": {
    "id": "5130e05e"
   },
   "outputs": [
    {
     "name": "stdout",
     "output_type": "stream",
     "text": [
      "<class 'pandas.core.frame.DataFrame'>\n",
      "RangeIndex: 49694 entries, 0 to 49693\n",
      "Data columns (total 4 columns):\n",
      " #   Column         Non-Null Count  Dtype \n",
      "---  ------         --------------  ----- \n",
      " 0   product_id     49694 non-null  int64 \n",
      " 1   product_name   48436 non-null  object\n",
      " 2   aisle_id       49694 non-null  int64 \n",
      " 3   department_id  49694 non-null  int64 \n",
      "dtypes: int64(3), object(1)\n",
      "memory usage: 1.5+ MB\n",
      "\n",
      "   product_id                                       product_name  aisle_id  \\\n",
      "0           1                         Chocolate Sandwich Cookies        61   \n",
      "1           2                                   All-Seasons Salt       104   \n",
      "2           3               Robust Golden Unsweetened Oolong Tea        94   \n",
      "3           4  Smart Ones Classic Favorites Mini Rigatoni Wit...        38   \n",
      "4           5                          Green Chile Anytime Sauce         5   \n",
      "\n",
      "   department_id  \n",
      "0             19  \n",
      "1             13  \n",
      "2              7  \n",
      "3              1  \n",
      "4             13  \n"
     ]
    }
   ],
   "source": [
    "# imprima as informações sobre o DataFrame\n",
    "df_products.info()\n",
    "print()\n",
    "print(df_products.head())"
   ]
  },
  {
   "cell_type": "code",
   "execution_count": 5,
   "id": "d8370c05",
   "metadata": {
    "id": "d8370c05"
   },
   "outputs": [
    {
     "name": "stdout",
     "output_type": "stream",
     "text": [
      "<class 'pandas.core.frame.DataFrame'>\n",
      "RangeIndex: 134 entries, 0 to 133\n",
      "Data columns (total 2 columns):\n",
      " #   Column    Non-Null Count  Dtype \n",
      "---  ------    --------------  ----- \n",
      " 0   aisle_id  134 non-null    int64 \n",
      " 1   aisle     134 non-null    object\n",
      "dtypes: int64(1), object(1)\n",
      "memory usage: 2.2+ KB\n",
      "\n",
      "   aisle_id                       aisle\n",
      "0         1       prepared soups salads\n",
      "1         2           specialty cheeses\n",
      "2         3         energy granola bars\n",
      "3         4               instant foods\n",
      "4         5  marinades meat preparation\n"
     ]
    }
   ],
   "source": [
    "# imprima as informações sobre o DataFrame\n",
    "df_aisles.info()\n",
    "print()\n",
    "print(df_aisles.head())"
   ]
  },
  {
   "cell_type": "code",
   "execution_count": 6,
   "id": "59e2090f",
   "metadata": {
    "id": "59e2090f"
   },
   "outputs": [
    {
     "name": "stdout",
     "output_type": "stream",
     "text": [
      "<class 'pandas.core.frame.DataFrame'>\n",
      "RangeIndex: 21 entries, 0 to 20\n",
      "Data columns (total 2 columns):\n",
      " #   Column         Non-Null Count  Dtype \n",
      "---  ------         --------------  ----- \n",
      " 0   department_id  21 non-null     int64 \n",
      " 1   department     21 non-null     object\n",
      "dtypes: int64(1), object(1)\n",
      "memory usage: 468.0+ bytes\n",
      "\n",
      "   department_id department\n",
      "0              1     frozen\n",
      "1              2      other\n",
      "2              3     bakery\n",
      "3              4    produce\n",
      "4              5    alcohol\n"
     ]
    }
   ],
   "source": [
    "# imprima as informações sobre o DataFrame\n",
    "df_departments.info()\n",
    "print()\n",
    "print (df_departments.head())"
   ]
  },
  {
   "cell_type": "code",
   "execution_count": 7,
   "id": "6fc81694",
   "metadata": {
    "id": "6fc81694"
   },
   "outputs": [
    {
     "name": "stdout",
     "output_type": "stream",
     "text": [
      "<class 'pandas.core.frame.DataFrame'>\n",
      "RangeIndex: 4545007 entries, 0 to 4545006\n",
      "Data columns (total 4 columns):\n",
      " #   Column             Non-Null Count    Dtype  \n",
      "---  ------             --------------    -----  \n",
      " 0   order_id           4545007 non-null  int64  \n",
      " 1   product_id         4545007 non-null  int64  \n",
      " 2   add_to_cart_order  4544171 non-null  float64\n",
      " 3   reordered          4545007 non-null  int64  \n",
      "dtypes: float64(1), int64(3)\n",
      "memory usage: 138.7 MB\n",
      "\n",
      "   order_id  product_id  add_to_cart_order  reordered\n",
      "0   2141543       11440               17.0          0\n",
      "1    567889        1560                1.0          1\n",
      "2   2261212       26683                1.0          1\n",
      "3    491251        8670               35.0          1\n",
      "4   2571142        1940                5.0          1\n"
     ]
    }
   ],
   "source": [
    "# imprima as informações sobre o DataFrame\n",
    "df_orders_products.info(show_counts=True) \n",
    "#usei show_counts pois o data frame é muito grande e nao aparecia o numero de non_null\n",
    "print()\n",
    "print (df_orders_products.head())"
   ]
  },
  {
   "cell_type": "markdown",
   "id": "t75BD19oaR5f",
   "metadata": {
    "id": "t75BD19oaR5f"
   },
   "source": [
    "## Conclusões\n",
    "\n",
    "Escreva aqui suas conclusões intermediárias da Etapa 1. \n",
    "\n",
    "Visão geral dos dados\n",
    "Necessário corrigir formato dos dados de algumas colunas, e verificar causa de valores ausentes, dependendo da causa da ausência corrigir ou deletar essas linhas. A principio o nome das colunas estão corretos seguindo o formato snake case. Será necessário verificar se há valores ausentes em uma analise mais profunda.  "
   ]
  },
  {
   "cell_type": "markdown",
   "id": "8RJHqxVmaVsF",
   "metadata": {
    "id": "8RJHqxVmaVsF"
   },
   "source": [
    "# Etapa 2. Preparação de dados\n",
    "\n",
    "Faça o pré-processamento dos dados da seguinte maneira:\n",
    "\n",
    "-\tVerifique e corrija os tipos de dados (por exemplo, certifique-se de que as colunas de ID sejam números inteiros)\n",
    "-\tIdentifique e preencha valores ausentes\n",
    "-\tIdentifique e remova valores duplicados\n",
    "\n",
    "Certifique-se de explicar que tipos de valores ausentes e duplicados você encontrou, como você os preencheu ou removeu, por que escolheu esses métodos e por que você acha que esses valores ausentes e duplicados estavam presentes no conjunto de dados."
   ]
  },
  {
   "cell_type": "markdown",
   "id": "p6poABZQaZYb",
   "metadata": {
    "id": "p6poABZQaZYb"
   },
   "source": [
    "## Plano de solução\n",
    "\n",
    "Escreva aqui seu plano para a Etapa 2. Preparação de dados\n",
    "\n",
    "Primeiro corrigir o formato dos dados das seguintes colunas:\n",
    "Orders: \n",
    " \n",
    " 0   order_id                int64\n",
    " 1   user_id                 int64   \n",
    " 3   order_dow               int64  (to str)   \n",
    " 5   days_since_prior_order  float64 \n",
    "\n",
    "Products:\n",
    " \n",
    " 0   product_id     int64 \n",
    " 2   aisle_id       int64 \n",
    " 3   department_id  int64 \n",
    " \n",
    "Aisles:\n",
    "\n",
    " 0   aisle_id  int64 \n",
    "\n",
    "Department:\n",
    "\n",
    " 0   department_id  int64 \n",
    "\n",
    "Order_products:\n",
    " \n",
    " 0   order_id           int64  \n",
    " 1   product_id         int64  \n",
    " 2   add_to_cart_order  float64 \n",
    "\n",
    "Depois analisar e corrigir duplicadose depois ausentes "
   ]
  },
  {
   "cell_type": "markdown",
   "id": "865c6dc8",
   "metadata": {},
   "source": [
    "# 4.1 Corrigindo formato de dados das colunas"
   ]
  },
  {
   "cell_type": "code",
   "execution_count": 8,
   "id": "a0665c05",
   "metadata": {},
   "outputs": [
    {
     "data": {
      "text/plain": [
       "order_id                    int64\n",
       "user_id                     int64\n",
       "order_number                int64\n",
       "order_dow                   int64\n",
       "order_hour_of_day           int64\n",
       "days_since_prior_order    float64\n",
       "dtype: object"
      ]
     },
     "execution_count": 8,
     "metadata": {},
     "output_type": "execute_result"
    }
   ],
   "source": [
    "df_orders [[\"order_id\", \"user_id\"]] = df_orders[[\"order_id\", \"user_id\"]].astype(\"int\")\n",
    "df_orders.dtypes"
   ]
  },
  {
   "cell_type": "code",
   "execution_count": 9,
   "id": "5cfb6151",
   "metadata": {
    "scrolled": true
   },
   "outputs": [
    {
     "data": {
      "text/plain": [
       "product_id        int64\n",
       "product_name     object\n",
       "aisle_id          int64\n",
       "department_id     int64\n",
       "dtype: object"
      ]
     },
     "execution_count": 9,
     "metadata": {},
     "output_type": "execute_result"
    }
   ],
   "source": [
    "df_products[[\"product_id\", \"aisle_id\", \"department_id\"]] = df_products[[\"product_id\", \"aisle_id\", \"department_id\"]].astype(\"int\")\n",
    "df_products.dtypes"
   ]
  },
  {
   "cell_type": "code",
   "execution_count": 10,
   "id": "18dfb433",
   "metadata": {},
   "outputs": [
    {
     "data": {
      "text/plain": [
       "aisle_id     int64\n",
       "aisle       object\n",
       "dtype: object"
      ]
     },
     "execution_count": 10,
     "metadata": {},
     "output_type": "execute_result"
    }
   ],
   "source": [
    "df_aisles [\"aisle_id\"] = df_aisles [\"aisle_id\"].astype(\"int\")\n",
    "df_aisles.dtypes"
   ]
  },
  {
   "cell_type": "code",
   "execution_count": 11,
   "id": "cd487fdf",
   "metadata": {},
   "outputs": [
    {
     "data": {
      "text/plain": [
       "department_id     int64\n",
       "department       object\n",
       "dtype: object"
      ]
     },
     "execution_count": 11,
     "metadata": {},
     "output_type": "execute_result"
    }
   ],
   "source": [
    "df_departments [\"department_id\"] = df_departments[\"department_id\"].astype(\"int\")\n",
    "df_departments.dtypes"
   ]
  },
  {
   "cell_type": "code",
   "execution_count": 12,
   "id": "55f16d80",
   "metadata": {},
   "outputs": [
    {
     "data": {
      "text/plain": [
       "order_id               int64\n",
       "product_id             int64\n",
       "add_to_cart_order    float64\n",
       "reordered              int64\n",
       "dtype: object"
      ]
     },
     "execution_count": 12,
     "metadata": {},
     "output_type": "execute_result"
    }
   ],
   "source": [
    "df_orders_products[[\"order_id\", \"product_id\"]] = df_orders_products[[\"order_id\", \"product_id\"]].astype(\"int\")\n",
    "df_orders_products.dtypes"
   ]
  },
  {
   "cell_type": "markdown",
   "id": "07357848-dc64-4156-9cc3-01ff4365226d",
   "metadata": {
    "id": "07357848-dc64-4156-9cc3-01ff4365226d"
   },
   "source": [
    "## Encontre e remova valores duplicados (e descreva por que você está fazendo suas escolhas)"
   ]
  },
  {
   "cell_type": "markdown",
   "id": "f179f0a9",
   "metadata": {
    "id": "f179f0a9"
   },
   "source": [
    "### DataFrame `instacart_orders`"
   ]
  },
  {
   "cell_type": "code",
   "execution_count": 13,
   "id": "b99297a5-405a-463d-8535-9adc3da4ad74",
   "metadata": {
    "id": "b99297a5-405a-463d-8535-9adc3da4ad74"
   },
   "outputs": [
    {
     "name": "stdout",
     "output_type": "stream",
     "text": [
      "soma de duplicados df total:  15\n",
      "soma de duplicados somente coluna order_id:  15\n",
      "lista com todos os orderID duplicados:\n",
      "145574     794638\n",
      "223105    2160484\n",
      "230807    1918001\n",
      "266232    1782114\n",
      "273805    1112182\n",
      "284038    2845099\n",
      "311713    1021560\n",
      "321100     408114\n",
      "323900    1919531\n",
      "345917    2232988\n",
      "371905     391768\n",
      "394347     467134\n",
      "411408    1286742\n",
      "415163    2282673\n",
      "441599    2125197\n",
      "Name: order_id, dtype: int64\n"
     ]
    }
   ],
   "source": [
    "# Verificar se há pedidos duplicados\n",
    "print(\"soma de duplicados df total: \", df_orders.duplicated().sum())\n",
    "print (\"soma de duplicados somente coluna order_id: \", df_orders[\"order_id\"].duplicated().sum())\n",
    "\n",
    "orders_id_duplicated = df_orders[df_orders[\"order_id\"].duplicated()][\"order_id\"]\n",
    "print(\"lista com todos os orderID duplicados:\")\n",
    "print(orders_id_duplicated)"
   ]
  },
  {
   "cell_type": "markdown",
   "id": "PEkwUX_gvt5A",
   "metadata": {
    "id": "PEkwUX_gvt5A"
   },
   "source": [
    "Há linhas duplicadas? Se sim, o que elas têm em comum?\n",
    "Há 15 linhas duplicadas, todas as outras colunas sao colunas que podem ter duplicados exceto order_id, imprimindo essas linhas com order id duplicados foi achado um padrão, todas as ordens foram feitas na quarta-feira as 2 da manhã. Criei um objeto series somente com os orders IDs duplicados. Criei um data frame filtrando segundo o padrão mencionado anteriormente ordenando por order ID e foi concluido que toda a linha é duplicada, provavelmente deve ser um bug no sistema que ocorre para ordens feitas as quarta feiras 2am"
   ]
  },
  {
   "cell_type": "code",
   "execution_count": 14,
   "id": "0d44de5d",
   "metadata": {
    "id": "0d44de5d"
   },
   "outputs": [
    {
     "name": "stdout",
     "output_type": "stream",
     "text": [
      "        order_id  user_id  order_number  order_dow  order_hour_of_day  \\\n",
      "354993    391768    57671            19          3                  2   \n",
      "371905    391768    57671            19          3                  2   \n",
      "119251    408114    68324             4          3                  2   \n",
      "321100    408114    68324             4          3                  2   \n",
      "394347    467134    63189            21          3                  2   \n",
      "250626    467134    63189            21          3                  2   \n",
      "145574    794638    50898            24          3                  2   \n",
      "99462     794638    50898            24          3                  2   \n",
      "242618   1021560    53767             3          3                  2   \n",
      "311713   1021560    53767             3          3                  2   \n",
      "273805   1112182   202304            84          3                  2   \n",
      "164581   1112182   202304            84          3                  2   \n",
      "314427   1286742   183220            48          3                  2   \n",
      "411408   1286742   183220            48          3                  2   \n",
      "200059   1782114   106752             1          3                  2   \n",
      "266232   1782114   106752             1          3                  2   \n",
      "230807   1918001   188546            14          3                  2   \n",
      "30371    1918001   188546            14          3                  2   \n",
      "323900   1919531   191501            32          3                  2   \n",
      "257934   1919531   191501            32          3                  2   \n",
      "204042   2125197    14050            48          3                  2   \n",
      "441599   2125197    14050            48          3                  2   \n",
      "223105   2160484   107525            16          3                  2   \n",
      "215294   2160484   107525            16          3                  2   \n",
      "324868   2232988    82565             1          3                  2   \n",
      "345917   2232988    82565             1          3                  2   \n",
      "415163   2282673    86751            49          3                  2   \n",
      "259636   2282673    86751            49          3                  2   \n",
      "142258   2845099    31189            11          3                  2   \n",
      "284038   2845099    31189            11          3                  2   \n",
      "\n",
      "        days_since_prior_order  \n",
      "354993                    10.0  \n",
      "371905                    10.0  \n",
      "119251                    18.0  \n",
      "321100                    18.0  \n",
      "394347                     2.0  \n",
      "250626                     2.0  \n",
      "145574                     2.0  \n",
      "99462                      2.0  \n",
      "242618                     9.0  \n",
      "311713                     9.0  \n",
      "273805                     6.0  \n",
      "164581                     6.0  \n",
      "314427                     4.0  \n",
      "411408                     4.0  \n",
      "200059                     NaN  \n",
      "266232                     NaN  \n",
      "230807                    16.0  \n",
      "30371                     16.0  \n",
      "323900                     7.0  \n",
      "257934                     7.0  \n",
      "204042                     3.0  \n",
      "441599                     3.0  \n",
      "223105                    30.0  \n",
      "215294                    30.0  \n",
      "324868                     NaN  \n",
      "345917                     NaN  \n",
      "415163                     2.0  \n",
      "259636                     2.0  \n",
      "142258                     7.0  \n",
      "284038                     7.0  \n"
     ]
    }
   ],
   "source": [
    "# Com base nas suas conclusões,\n",
    "\n",
    "# verifique todos os pedidos feitos às 2h da manhã nas quartas-feiras\n",
    "df_2am_wed = df_orders.query('order_dow == 3 and order_hour_of_day == 2 and order_id in @orders_id_duplicated')\n",
    "\n",
    "print(df_2am_wed.sort_values(by= \"order_id\"))"
   ]
  },
  {
   "cell_type": "markdown",
   "id": "vu2OWyoqwOx5",
   "metadata": {
    "id": "vu2OWyoqwOx5"
   },
   "source": [
    "O que esse resultado quer dizer?\n",
    "\n",
    "Que todos os pedidos duplicados foram feitos na quarta feira as 2am, teria que verificar a causa técnica desse problema. A principio decidi por deletar as linhas duplicadas "
   ]
  },
  {
   "cell_type": "code",
   "execution_count": 15,
   "id": "480563c7",
   "metadata": {
    "id": "480563c7"
   },
   "outputs": [],
   "source": [
    "# Remova pedidos duplicados\n",
    "df_orders = df_orders.drop_duplicates(subset = \"order_id\").reset_index(drop=True)"
   ]
  },
  {
   "cell_type": "code",
   "execution_count": 16,
   "id": "0b2396a2",
   "metadata": {
    "id": "0b2396a2"
   },
   "outputs": [
    {
     "name": "stdout",
     "output_type": "stream",
     "text": [
      "Empty DataFrame\n",
      "Columns: [order_id, user_id, order_number, order_dow, order_hour_of_day, days_since_prior_order]\n",
      "Index: []\n",
      "0\n"
     ]
    }
   ],
   "source": [
    "# Verifique as linhas duplicadas mais uma vez\n",
    "print(df_orders[df_orders[\"order_id\"].duplicated()])\n",
    "print(df_orders.duplicated().sum())"
   ]
  },
  {
   "cell_type": "code",
   "execution_count": 17,
   "id": "f6113ef1",
   "metadata": {
    "id": "f6113ef1"
   },
   "outputs": [
    {
     "name": "stdout",
     "output_type": "stream",
     "text": [
      "30371     1918001\n",
      "99462      794638\n",
      "119251     408114\n",
      "142258    2845099\n",
      "164580    1112182\n",
      "200058    1782114\n",
      "204041    2125197\n",
      "215293    2160484\n",
      "242615    1021560\n",
      "250623     467134\n",
      "257931    1919531\n",
      "259633    2282673\n",
      "314420    1286742\n",
      "324859    2232988\n",
      "354983     391768\n",
      "Name: order_id, dtype: int64\n"
     ]
    }
   ],
   "source": [
    "# Verifique novamente apenas os IDs de pedidos duplicados\n",
    "print(df_orders.query('order_id in @orders_id_duplicated')[\"order_id\"])"
   ]
  },
  {
   "cell_type": "markdown",
   "id": "5e8905ae",
   "metadata": {
    "id": "5e8905ae"
   },
   "source": [
    "\n",
    "\n",
    "Descreva brevemente suas conclusões e o que você fez com elas:\n",
    "\n",
    "Verifiquei as linhas que continham os orders ID duplicados e constatei que toda a linha em todas as colunas estam duplicadas e que todos os pedidos foram feitos as quarta feiras as 2am. Deletei as linhas com drop_duplicates"
   ]
  },
  {
   "cell_type": "markdown",
   "id": "45e6bc46",
   "metadata": {
    "id": "45e6bc46"
   },
   "source": [
    "### DataFrame `products`"
   ]
  },
  {
   "cell_type": "code",
   "execution_count": 18,
   "id": "5f526b5b-8175-46fa-a0fd-441767d50e64",
   "metadata": {
    "id": "5f526b5b-8175-46fa-a0fd-441767d50e64"
   },
   "outputs": [
    {
     "name": "stdout",
     "output_type": "stream",
     "text": [
      "   product_id                                       product_name  aisle_id  \\\n",
      "0           1                         Chocolate Sandwich Cookies        61   \n",
      "1           2                                   All-Seasons Salt       104   \n",
      "2           3               Robust Golden Unsweetened Oolong Tea        94   \n",
      "3           4  Smart Ones Classic Favorites Mini Rigatoni Wit...        38   \n",
      "4           5                          Green Chile Anytime Sauce         5   \n",
      "\n",
      "   department_id  \n",
      "0             19  \n",
      "1             13  \n",
      "2              7  \n",
      "3              1  \n",
      "4             13  \n",
      "0\n"
     ]
    }
   ],
   "source": [
    "# Verifique se há linhas completamente duplicadas\n",
    "print(df_products.head())\n",
    "print(df_products.duplicated().sum())"
   ]
  },
  {
   "cell_type": "code",
   "execution_count": 19,
   "id": "88daa4f4",
   "metadata": {
    "id": "88daa4f4"
   },
   "outputs": [
    {
     "name": "stdout",
     "output_type": "stream",
     "text": [
      "0\n"
     ]
    }
   ],
   "source": [
    "# Verifique apenas IDs dos produtos duplicados\n",
    "print(df_products[\"product_id\"].duplicated().sum())"
   ]
  },
  {
   "cell_type": "code",
   "execution_count": 20,
   "id": "c773f0bf",
   "metadata": {
    "id": "c773f0bf"
   },
   "outputs": [
    {
     "name": "stdout",
     "output_type": "stream",
     "text": [
      "product_name\n",
      "NaN                                           1258\n",
      "green tea with ginseng and honey                 3\n",
      "cookies 'n cream ice cream                       2\n",
      "burrito- steak & cheese                          2\n",
      "spreadable butter with canola oil                2\n",
      "                                              ... \n",
      "vodka- triple distilled- twist of vanilla        1\n",
      "en croute roast hazelnut cranberry               1\n",
      "artisan baguette                                 1\n",
      "smartblend healthy metabolism dry cat food       1\n",
      "cut russet potatoes steam n' mash                1\n",
      "Name: count, Length: 48333, dtype: int64\n",
      "       product_id                               product_name  aisle_id  \\\n",
      "23339       23340  18-in-1 hemp peppermint pure-castile soap        25   \n",
      "31844       31845  18-in-1 hemp peppermint pure-castile soap        25   \n",
      "19941       19942            aged balsamic vinegar of modena        19   \n",
      "13152       13153            aged balsamic vinegar of modena        19   \n",
      "24830       24831         albacore solid white tuna in water        95   \n",
      "...           ...                                        ...       ...   \n",
      "49552       49553                                        NaN       100   \n",
      "49574       49575                                        NaN       100   \n",
      "49640       49641                                        NaN       100   \n",
      "49663       49664                                        NaN       100   \n",
      "49668       49669                                        NaN       100   \n",
      "\n",
      "       department_id  \n",
      "23339             11  \n",
      "31844             11  \n",
      "19941             13  \n",
      "13152             13  \n",
      "24830             15  \n",
      "...              ...  \n",
      "49552             21  \n",
      "49574             21  \n",
      "49640             21  \n",
      "49663             21  \n",
      "49668             21  \n",
      "\n",
      "[1465 rows x 4 columns]\n"
     ]
    }
   ],
   "source": [
    "# Verifique apenas nomes de produtos duplicados (converta os nomes para minúsculas para uma comparação melhor)\n",
    "\n",
    "df_products[\"product_name\"] = df_products[\"product_name\"].str.lower()\n",
    "\n",
    "print(df_products[\"product_name\"].value_counts(dropna=False))\n",
    "\n",
    "product_name_duplicated = df_products[df_products[\"product_name\"].duplicated()][\"product_name\"]\n",
    "print(df_products.query(\"product_name in @product_name_duplicated\").sort_values(by =\"product_name\"))"
   ]
  },
  {
   "cell_type": "code",
   "execution_count": 21,
   "id": "01efd02e",
   "metadata": {
    "id": "01efd02e"
   },
   "outputs": [
    {
     "name": "stdout",
     "output_type": "stream",
     "text": [
      "       product_id                               product_name  aisle_id  \\\n",
      "23339       23340  18-in-1 hemp peppermint pure-castile soap        25   \n",
      "31844       31845  18-in-1 hemp peppermint pure-castile soap        25   \n",
      "19941       19942            aged balsamic vinegar of modena        19   \n",
      "13152       13153            aged balsamic vinegar of modena        19   \n",
      "24830       24831         albacore solid white tuna in water        95   \n",
      "...           ...                                        ...       ...   \n",
      "46873       46874                         vitamin d3 5000 iu        47   \n",
      "21366       21367              wild sardines in spring water        95   \n",
      "40093       40094              wild sardines in spring water        95   \n",
      "1826         1827           yams cut sweet potatoes in syrup        81   \n",
      "38260       38261           yams cut sweet potatoes in syrup        81   \n",
      "\n",
      "       department_id  \n",
      "23339             11  \n",
      "31844             11  \n",
      "19941             13  \n",
      "13152             13  \n",
      "24830             15  \n",
      "...              ...  \n",
      "46873             11  \n",
      "21366             15  \n",
      "40093             15  \n",
      "1826              15  \n",
      "38260             15  \n",
      "\n",
      "[207 rows x 4 columns]\n"
     ]
    }
   ],
   "source": [
    "# Verifique os nomes de produtos duplicados que não estão faltando\n",
    "df_products_filtered = df_products.query(\"product_name in @product_name_duplicated\")\n",
    "print(df_products_filtered[~df_products_filtered[\"product_name\"].isna()].sort_values(by=\"product_name\"))"
   ]
  },
  {
   "cell_type": "markdown",
   "id": "9da8d293",
   "metadata": {
    "id": "9da8d293"
   },
   "source": [
    "Descreva brevemente suas conclusões e o que você fez com elas.\n",
    "\n",
    "Numero consideravel de valores ausentes na coluna product name. Verificando a tabela de duplicados conclui que existem diferentes products IDs para os produtos aparentemente duplicados.  A principio decidi nao excluir as linhas duplicadas pois apesar de todas as outras colunas estarem iguais, a coluna product ID está diferente, como se trata de uma coluna de chave identificadora que pode está atrelada as outros data frames por exemplo \"orders\", achei perigoso simplesmente usar drop duplicates"
   ]
  },
  {
   "cell_type": "markdown",
   "id": "60f30db1",
   "metadata": {
    "id": "60f30db1"
   },
   "source": [
    "### DataFrame `departments`"
   ]
  },
  {
   "cell_type": "code",
   "execution_count": 22,
   "id": "fb410ad4-0fbf-4b80-bb09-23fdea79afe3",
   "metadata": {
    "id": "fb410ad4-0fbf-4b80-bb09-23fdea79afe3"
   },
   "outputs": [
    {
     "name": "stdout",
     "output_type": "stream",
     "text": [
      "0\n",
      "   department_id department\n",
      "0              1     frozen\n",
      "1              2      other\n",
      "2              3     bakery\n",
      "3              4    produce\n",
      "4              5    alcohol\n"
     ]
    }
   ],
   "source": [
    "# Verifique se há linhas completamente duplicadas\n",
    "print(df_departments.duplicated().sum())\n",
    "print(df_departments.head())"
   ]
  },
  {
   "cell_type": "code",
   "execution_count": 23,
   "id": "332b12bb",
   "metadata": {
    "id": "332b12bb"
   },
   "outputs": [
    {
     "name": "stdout",
     "output_type": "stream",
     "text": [
      "0\n",
      "department\n",
      "frozen             1\n",
      "other              1\n",
      "bakery             1\n",
      "produce            1\n",
      "alcohol            1\n",
      "international      1\n",
      "beverages          1\n",
      "pets               1\n",
      "dry goods pasta    1\n",
      "bulk               1\n",
      "personal care      1\n",
      "meat seafood       1\n",
      "pantry             1\n",
      "breakfast          1\n",
      "canned goods       1\n",
      "dairy eggs         1\n",
      "household          1\n",
      "babies             1\n",
      "snacks             1\n",
      "deli               1\n",
      "missing            1\n",
      "Name: count, dtype: int64\n"
     ]
    }
   ],
   "source": [
    "# Verifique apenas se há IDs dos produtos duplicados\n",
    "print(df_departments[\"department_id\"].duplicated().sum())\n",
    "print(df_departments[\"department\"].value_counts())"
   ]
  },
  {
   "cell_type": "markdown",
   "id": "bd30d78e",
   "metadata": {
    "id": "bd30d78e"
   },
   "source": [
    "Descreva brevemente suas conclusões e o que você fez com elas.\n",
    "\n",
    "Neste data frame não há duplicados a ser tratados"
   ]
  },
  {
   "cell_type": "markdown",
   "id": "889349c1",
   "metadata": {
    "id": "889349c1"
   },
   "source": [
    "### DataFrame `aisles`"
   ]
  },
  {
   "cell_type": "code",
   "execution_count": 24,
   "id": "9da89fb9-4679-40f5-ad0d-c34df753a3f8",
   "metadata": {
    "id": "9da89fb9-4679-40f5-ad0d-c34df753a3f8"
   },
   "outputs": [
    {
     "name": "stdout",
     "output_type": "stream",
     "text": [
      "0\n"
     ]
    }
   ],
   "source": [
    "# Verifique se há linhas completamente duplicadas\n",
    "print(df_aisles.duplicated().sum())"
   ]
  },
  {
   "cell_type": "code",
   "execution_count": 25,
   "id": "da7c2822",
   "metadata": {
    "id": "da7c2822"
   },
   "outputs": [
    {
     "name": "stdout",
     "output_type": "stream",
     "text": [
      "0\n"
     ]
    }
   ],
   "source": [
    "# Verifique apenas se há IDs dos produtos duplicados\n",
    "print(df_aisles[\"aisle_id\"].duplicated().sum())"
   ]
  },
  {
   "cell_type": "markdown",
   "id": "ac63826f",
   "metadata": {
    "id": "ac63826f"
   },
   "source": [
    "Descreva brevemente suas conclusões e o que você fez com elas.\n",
    "\n",
    "Não há duplicados no data frame aisles"
   ]
  },
  {
   "cell_type": "markdown",
   "id": "274cd06a",
   "metadata": {
    "id": "274cd06a"
   },
   "source": [
    "### DataFrame `order_products`"
   ]
  },
  {
   "cell_type": "code",
   "execution_count": 26,
   "id": "52326689-84a8-4b8f-a881-7c68780f62c9",
   "metadata": {
    "id": "52326689-84a8-4b8f-a881-7c68780f62c9"
   },
   "outputs": [
    {
     "name": "stdout",
     "output_type": "stream",
     "text": [
      "0\n",
      "   order_id  product_id  add_to_cart_order  reordered\n",
      "0   2141543       11440               17.0          0\n",
      "1    567889        1560                1.0          1\n",
      "2   2261212       26683                1.0          1\n",
      "3    491251        8670               35.0          1\n",
      "4   2571142        1940                5.0          1\n"
     ]
    }
   ],
   "source": [
    "# Verifique se há linhas completamente duplicadas\n",
    "print(df_orders_products.duplicated().sum())\n",
    "print(df_orders_products.head())"
   ]
  },
  {
   "cell_type": "code",
   "execution_count": 27,
   "id": "7b861391",
   "metadata": {
    "id": "7b861391"
   },
   "outputs": [
    {
     "name": "stdout",
     "output_type": "stream",
     "text": [
      "4094961\n",
      "4499434\n",
      "   order_id  product_id  add_to_cart_order  reordered\n",
      "0   2141543       11440               17.0          0\n",
      "1    567889        1560                1.0          1\n",
      "2   2261212       26683                1.0          1\n",
      "3    491251        8670               35.0          1\n",
      "4   2571142        1940                5.0          1\n"
     ]
    }
   ],
   "source": [
    "# Verifique mais uma vez se há outros casos complicados de duplicados\n",
    "print(df_orders_products[\"order_id\"].duplicated().sum())\n",
    "print(df_orders_products[\"product_id\"].duplicated().sum())\n",
    "print(df_orders_products.head())"
   ]
  },
  {
   "cell_type": "markdown",
   "id": "0b890492",
   "metadata": {
    "id": "0b890492"
   },
   "source": [
    "Descreva brevemente suas conclusões e o que você fez com elas.\n",
    "\n",
    "Aqui é dificil definir se há duplicados, por conta do problema de duplicados no data frame products onde algumas vezes um produto tem 2 products ID diferentes, pode ser que nesta data frame esteja ocorrendo o mesmo. Acredito que a solução seria pegar a lista de produtos duplicados, definir um product ID padrão e substituir todos os products IDs tanto na df products como na df orders_products"
   ]
  },
  {
   "cell_type": "markdown",
   "id": "1e46de76",
   "metadata": {
    "id": "1e46de76"
   },
   "source": [
    "## Encontre e remova valores ausentes\n",
    "\n",
    "\n",
    "Ao processarmos valores duplicados, observamos que também temos valores ausentes que precisamos investigar nas seguintes colunas:\n",
    "\n",
    "*\tA coluna `'product_name'` da tabela products.\n",
    "*\tA coluna `'days_since_prior_order'` da tabela orders.\n",
    "*\tA coluna `'add_to_cart_order'` da tabela order_products.\n"
   ]
  },
  {
   "cell_type": "markdown",
   "id": "c0aebd78",
   "metadata": {
    "id": "c0aebd78"
   },
   "source": [
    "### DataFrame `products`"
   ]
  },
  {
   "cell_type": "code",
   "execution_count": 28,
   "id": "fe4a8b0f",
   "metadata": {
    "id": "fe4a8b0f"
   },
   "outputs": [
    {
     "name": "stdout",
     "output_type": "stream",
     "text": [
      "       product_id product_name  aisle_id  department_id\n",
      "37             38          NaN       100             21\n",
      "71             72          NaN       100             21\n",
      "109           110          NaN       100             21\n",
      "296           297          NaN       100             21\n",
      "416           417          NaN       100             21\n",
      "...           ...          ...       ...            ...\n",
      "49552       49553          NaN       100             21\n",
      "49574       49575          NaN       100             21\n",
      "49640       49641          NaN       100             21\n",
      "49663       49664          NaN       100             21\n",
      "49668       49669          NaN       100             21\n",
      "\n",
      "[1258 rows x 4 columns]\n",
      "porcentagem de ausentes é: 2.53%\n"
     ]
    }
   ],
   "source": [
    "# Encontre valores ausentes na coluna 'product_name'\n",
    "print(df_products[df_products[\"product_name\"].isna()])\n",
    "missing_pct = (df_products[\"product_name\"].isna().sum() / len(df_products[\"product_name\"]) * 100)\n",
    "print(f'porcentagem de ausentes é: {missing_pct:.2f}%')"
   ]
  },
  {
   "cell_type": "markdown",
   "id": "-A6x1AbJhjkp",
   "metadata": {
    "id": "-A6x1AbJhjkp"
   },
   "source": [
    "Descreva brevemente suas conclusões.\n",
    "\n",
    "Todos as linhas com valores ausentes em product_name pertecem ao aisle_id 100 e department_id 21"
   ]
  },
  {
   "cell_type": "code",
   "execution_count": 29,
   "id": "e96167bc",
   "metadata": {
    "id": "e96167bc"
   },
   "outputs": [
    {
     "name": "stdout",
     "output_type": "stream",
     "text": [
      "[100]\n",
      "Empty DataFrame\n",
      "Columns: [product_id, product_name, aisle_id, department_id]\n",
      "Index: []\n"
     ]
    }
   ],
   "source": [
    "# Todos os nomes de produtos ausentes estão associados com o corredor de ID 100?\n",
    "print(df_products[df_products[\"product_name\"].isna()]['aisle_id'].unique())\n",
    "print(df_products[(df_products[\"product_name\"].isna()) & (df_products[\"aisle_id\"] != 100)])"
   ]
  },
  {
   "cell_type": "markdown",
   "id": "WRpIfXRphpSL",
   "metadata": {
    "id": "WRpIfXRphpSL"
   },
   "source": [
    "Descreva brevemente suas conclusões.\n",
    "\n",
    "De acordo com o filtro acima, todos os produtos ausentes estão associados com aisle_id 100"
   ]
  },
  {
   "cell_type": "code",
   "execution_count": 30,
   "id": "8fd0a541",
   "metadata": {
    "id": "8fd0a541"
   },
   "outputs": [
    {
     "name": "stdout",
     "output_type": "stream",
     "text": [
      "Empty DataFrame\n",
      "Columns: [product_id, product_name, aisle_id, department_id]\n",
      "Index: []\n"
     ]
    }
   ],
   "source": [
    "# Todos os nomes de produtos ausentes estão associados com o departamento de ID 21?\n",
    "print(df_products.query(\"product_name == 'NaN' and aisle_id != '21'\"))"
   ]
  },
  {
   "cell_type": "markdown",
   "id": "qDpdYn1Fht_I",
   "metadata": {
    "id": "qDpdYn1Fht_I"
   },
   "source": [
    "Descreva brevemente suas conclusões.\n",
    "\n",
    "De acordo com o filtro acima, todos os produtos ausentes estão associados com department id 21"
   ]
  },
  {
   "cell_type": "code",
   "execution_count": 31,
   "id": "325c3464",
   "metadata": {
    "id": "325c3464"
   },
   "outputs": [
    {
     "name": "stdout",
     "output_type": "stream",
     "text": [
      "    aisle_id    aisle\n",
      "99       100  missing\n",
      "\n",
      "    department_id department\n",
      "20             21    missing\n"
     ]
    }
   ],
   "source": [
    "# Use as tabelas department e aisle para verificar os dados do corredor com ID 100 e do departamento com ID 21.\n",
    "print(df_aisles[df_aisles[\"aisle_id\"] == 100])\n",
    "print()\n",
    "print(df_departments[df_departments[\"department_id\"] == 21])"
   ]
  },
  {
   "cell_type": "markdown",
   "id": "nqhSTUPhhvEJ",
   "metadata": {
    "id": "nqhSTUPhhvEJ"
   },
   "source": [
    "Descreva brevemente suas conclusões.\n",
    "Department id 21 e aisle id 100 contem o valor \"missing\" provavelmente esses ID já foram criados para produtos desconhecidos, perdidos ou algum tipo de valor ausente"
   ]
  },
  {
   "cell_type": "code",
   "execution_count": 32,
   "id": "6b295120",
   "metadata": {
    "id": "6b295120"
   },
   "outputs": [
    {
     "name": "stdout",
     "output_type": "stream",
     "text": [
      "Empty DataFrame\n",
      "Columns: [product_id, product_name, aisle_id, department_id]\n",
      "Index: []\n",
      "       product_id product_name  aisle_id  department_id\n",
      "37             38      Unknown       100             21\n",
      "71             72      Unknown       100             21\n",
      "109           110      Unknown       100             21\n",
      "296           297      Unknown       100             21\n",
      "416           417      Unknown       100             21\n",
      "...           ...          ...       ...            ...\n",
      "49552       49553      Unknown       100             21\n",
      "49574       49575      Unknown       100             21\n",
      "49640       49641      Unknown       100             21\n",
      "49663       49664      Unknown       100             21\n",
      "49668       49669      Unknown       100             21\n",
      "\n",
      "[1258 rows x 4 columns]\n"
     ]
    }
   ],
   "source": [
    "# Preencha nomes de produtos ausentes com 'Unknown'\n",
    "df_products[\"product_name\"] = df_products[\"product_name\"].fillna(\"Unknown\")\n",
    "print(df_products[df_products[\"product_name\"].isna()])\n",
    "print(df_products.query(\"product_name == 'Unknown'\"))"
   ]
  },
  {
   "cell_type": "markdown",
   "id": "fc70e5ad",
   "metadata": {
    "id": "fc70e5ad"
   },
   "source": [
    "Descreva brevemente suas conclusões e o que você fez com elas.\n",
    "Preenchi os valores ausentes categoricos com unknown pois todos perteciam a departamentos e corredos de missing values, a porcentagem de missing values também era baixa apenas 2,5% "
   ]
  },
  {
   "cell_type": "markdown",
   "id": "7eb45c86",
   "metadata": {
    "id": "7eb45c86"
   },
   "source": [
    "### DataFrame `orders`"
   ]
  },
  {
   "cell_type": "code",
   "execution_count": 33,
   "id": "93e41d96",
   "metadata": {
    "id": "93e41d96"
   },
   "outputs": [
    {
     "name": "stdout",
     "output_type": "stream",
     "text": [
      "28817\n",
      "     order_id  user_id  order_number  order_dow  order_hour_of_day  \\\n",
      "28     133707   182261             1          3                 10   \n",
      "96     787445    25685             1          6                 18   \n",
      "100    294410   111449             1          0                 19   \n",
      "103   2869915   123958             1          4                 16   \n",
      "104   2521921    42286             1          3                 18   \n",
      "\n",
      "     days_since_prior_order  \n",
      "28                      NaN  \n",
      "96                      NaN  \n",
      "100                     NaN  \n",
      "103                     NaN  \n",
      "104                     NaN  \n",
      "porcentagem de ausentes é: 6.02%\n"
     ]
    }
   ],
   "source": [
    "# Encontre os valores ausentes\n",
    "print(df_orders['days_since_prior_order'].isna().sum())\n",
    "print(df_orders[df_orders['days_since_prior_order'].isna()].head())\n",
    "missing_pct = (df_orders[\"days_since_prior_order\"].isna().sum() / len(df_orders[\"days_since_prior_order\"]) * 100)\n",
    "print(f'porcentagem de ausentes é: {missing_pct:.2f}%')"
   ]
  },
  {
   "cell_type": "code",
   "execution_count": 34,
   "id": "166e5a86",
   "metadata": {
    "id": "166e5a86"
   },
   "outputs": [
    {
     "name": "stdout",
     "output_type": "stream",
     "text": [
      "Empty DataFrame\n",
      "Columns: [order_id, user_id, order_number, order_dow, order_hour_of_day, days_since_prior_order]\n",
      "Index: []\n",
      "\n",
      "     order_id  user_id  order_number  order_dow  order_hour_of_day  \\\n",
      "28     133707   182261             1          3                 10   \n",
      "89     687909    50272             4          0                 16   \n",
      "96     787445    25685             1          6                 18   \n",
      "100    294410   111449             1          0                 19   \n",
      "103   2869915   123958             1          4                 16   \n",
      "\n",
      "     days_since_prior_order  \n",
      "28                        0  \n",
      "89                        0  \n",
      "96                        0  \n",
      "100                       0  \n",
      "103                       0  \n"
     ]
    }
   ],
   "source": [
    "# Há valores ausentes para os clientes que não estão fazendo o primeiro pedido?\n",
    "print(df_orders.query(\"days_since_prior_order == 'NaN' and order_number != 1\"))\n",
    "print()\n",
    "df_orders[\"days_since_prior_order\"] = df_orders[\"days_since_prior_order\"].fillna(\"0\")\n",
    "df_orders[\"days_since_prior_order\"] = df_orders[\"days_since_prior_order\"].astype(\"int\")\n",
    "print(df_orders.query(\"days_since_prior_order == 0\").head())"
   ]
  },
  {
   "cell_type": "markdown",
   "id": "4e23d089",
   "metadata": {
    "id": "4e23d089"
   },
   "source": [
    "Descreva brevemente suas conclusões e o que você fez com elas.\n",
    "\n",
    "Todos os valores ausentes na coluna days_since_prior_order acontecem para clientes que estão fazendo seu primeiro pedido no app (coluna order_number = 1), como não há dados anteriores o sistema preencheu a respectiva coluna com \"NaN\", nesse caso decidi alterar para o valor 0"
   ]
  },
  {
   "cell_type": "markdown",
   "id": "69dc9ca4",
   "metadata": {
    "id": "69dc9ca4"
   },
   "source": [
    "### DataFrame `order_products`"
   ]
  },
  {
   "cell_type": "code",
   "execution_count": 35,
   "id": "b8240253",
   "metadata": {
    "id": "b8240253"
   },
   "outputs": [
    {
     "name": "stdout",
     "output_type": "stream",
     "text": [
      "836\n",
      "       order_id  product_id  add_to_cart_order  reordered\n",
      "737     2449164        5068                NaN          0\n",
      "9926    1968313       43867                NaN          0\n",
      "14394   2926893       11688                NaN          0\n",
      "16418   1717990        4142                NaN          0\n",
      "30114   1959075       42828                NaN          1\n",
      "porcentagem de ausentes é: 0.02%\n"
     ]
    }
   ],
   "source": [
    "# Encontre os valores ausentes\n",
    "print(df_orders_products['add_to_cart_order'].isna().sum())\n",
    "print(df_orders_products[df_orders_products['add_to_cart_order'].isna()].head())\n",
    "missing_pct = (df_orders_products['add_to_cart_order'].isna().sum() / len(df_orders_products['add_to_cart_order']) * 100)\n",
    "print(f'porcentagem de ausentes é: {missing_pct:.2f}%')"
   ]
  },
  {
   "cell_type": "code",
   "execution_count": 36,
   "id": "9a78e5ee",
   "metadata": {
    "id": "9a78e5ee"
   },
   "outputs": [
    {
     "name": "stdout",
     "output_type": "stream",
     "text": [
      "Valor mínimo:  1.0\n",
      "Valor máximo:  64.0\n"
     ]
    }
   ],
   "source": [
    "# Quais são os valores mínimo e máximo dessa coluna?\n",
    "print(\"Valor mínimo: \", df_orders_products[\"add_to_cart_order\"].min())\n",
    "print(\"Valor máximo: \", df_orders_products[\"add_to_cart_order\"].max())"
   ]
  },
  {
   "cell_type": "markdown",
   "id": "-Z2Ja215jW78",
   "metadata": {
    "id": "-Z2Ja215jW78"
   },
   "source": [
    "Descreva brevemente suas conclusões.\n",
    "\n",
    "Porcentagem de valores ausentes muito baixa apenas 0.02%, como se trata de um valor ausente quantitativo sequencial e aparentemente não há outliears no valor minimo e maximo, possivelmente os valores ausentes podem ser preenchido com uma média da coluna ou um valor simbolico "
   ]
  },
  {
   "cell_type": "code",
   "execution_count": 37,
   "id": "ab9d0c2b",
   "metadata": {
    "id": "ab9d0c2b"
   },
   "outputs": [
    {
     "name": "stdout",
     "output_type": "stream",
     "text": [
      "737        2449164\n",
      "9926       1968313\n",
      "14394      2926893\n",
      "16418      1717990\n",
      "30114      1959075\n",
      "            ...   \n",
      "4505662    1800005\n",
      "4511400    1633337\n",
      "4517562     404157\n",
      "4534112    1673227\n",
      "4535739    1832957\n",
      "Name: order_id, Length: 836, dtype: int64\n"
     ]
    }
   ],
   "source": [
    "# Salve todos os IDs dos pedidos com pelo menos um valor ausente em 'add_to_cart_order'\n",
    "miss_cart_order_ids = df_orders_products[df_orders_products['add_to_cart_order'].isna()][\"order_id\"]\n",
    "print(miss_cart_order_ids)"
   ]
  },
  {
   "cell_type": "code",
   "execution_count": 38,
   "id": "54c31695",
   "metadata": {
    "id": "54c31695",
    "scrolled": true
   },
   "outputs": [
    {
     "name": "stdout",
     "output_type": "stream",
     "text": [
      "order_id\n",
      "9310        65\n",
      "747668      65\n",
      "888470      65\n",
      "2621907     65\n",
      "2652650     65\n",
      "          ... \n",
      "1959075     98\n",
      "171934     104\n",
      "2136777    108\n",
      "3308010    115\n",
      "61355      127\n",
      "Length: 70, dtype: int64\n"
     ]
    }
   ],
   "source": [
    "# Todos os pedidos com valores ausentes contêm mais de 64 produtos?\n",
    "# Agrupe os pedidos com dados ausentes por ID de pedido\n",
    "# Conte o número de 'product_id' em cada pedido e verifique o valor mínimo da contagem\n",
    "\n",
    "max_min_confirm = df_orders_products[df_orders_products['order_id'].isin(miss_cart_order_ids)].groupby('order_id').size().sort_values()\n",
    "\n",
    "print(max_min_confirm)"
   ]
  },
  {
   "cell_type": "markdown",
   "id": "p9V6pddtjglj",
   "metadata": {
    "id": "p9V6pddtjglj"
   },
   "source": [
    "Descreva brevemente suas conclusões.\n",
    "\n",
    "Foi confirmado que todos os \"orders_ID\" com valores ausentes em \"add_to_cart_order\" estao com o numero de produtos acima do valor maximo e minimo encontrados na mesma coluna anteriormente, ou seja sao outliers, talvez algum erro no sistema acontece quando se compra mais de 64 produtos deixando a coluna add_to_cart_order como ausente"
   ]
  },
  {
   "cell_type": "code",
   "execution_count": 39,
   "id": "7a987d08",
   "metadata": {
    "id": "7a987d08"
   },
   "outputs": [
    {
     "name": "stdout",
     "output_type": "stream",
     "text": [
      "         order_id  product_id  add_to_cart_order  reordered\n",
      "737       2449164        5068                999          0\n",
      "9926      1968313       43867                999          0\n",
      "14394     2926893       11688                999          0\n",
      "16418     1717990        4142                999          0\n",
      "30114     1959075       42828                999          1\n",
      "...           ...         ...                ...        ...\n",
      "4505662   1800005        7411                999          0\n",
      "4511400   1633337         260                999          0\n",
      "4517562    404157        9517                999          0\n",
      "4534112   1673227       17835                999          0\n",
      "4535739   1832957       17949                999          1\n",
      "\n",
      "[836 rows x 4 columns]\n"
     ]
    }
   ],
   "source": [
    "# Substitua valores ausentes na coluna 'add_to_cart_order' por 999 e converta a coluna para o tipo integer\n",
    "df_orders_products[\"add_to_cart_order\"] = df_orders_products[\"add_to_cart_order\"].fillna(999)\n",
    "df_orders_products[\"add_to_cart_order\"] = df_orders_products[\"add_to_cart_order\"].astype(\"int\")\n",
    "print(df_orders_products[df_orders_products[\"add_to_cart_order\"] == 999])"
   ]
  },
  {
   "cell_type": "markdown",
   "id": "fea4bcc7",
   "metadata": {
    "id": "fea4bcc7"
   },
   "source": [
    "Descreva brevemente suas conclusões e o que você fez com elas.\n",
    "\n",
    "Os dados ausentes foram substituidos por 999, considerando a porcentagem baixa de ausentes e confirmando que os ausentes estavam fora dos limites minimos e maximos das linhas sem valores ausentes"
   ]
  },
  {
   "cell_type": "markdown",
   "id": "RnplPFY1gSrb",
   "metadata": {
    "id": "RnplPFY1gSrb"
   },
   "source": [
    "## Conclusões\n",
    "\n",
    "Escreva aqui suas conclusões intermediárias da Etapa 2. Preparação de dados\n",
    "\n",
    "Todos os dados estão preparados para a etapa de analise, leitura dos arquivos CSV com separador correto, dados duplicados corrigidos de acordo com os tipos de dados e contexto. Todos os dados ausentes corrigidos sem alterar muito o data frame, a taxa de ausente eram pequenas comparadas com o tamanho da colunas. O unico problema que requer uma analise mais profunda e talvez uma conversa com quem forneceu os dados seria os casos de product ID diferentes para mesmo produto. Esse foi o unico caso nao corrigido pois no meu entendimento causaria um impacto muito grande."
   ]
  },
  {
   "cell_type": "markdown",
   "id": "UjrOIwTcz3ri",
   "metadata": {
    "id": "UjrOIwTcz3ri"
   },
   "source": [
    "# Etapa 3. Análise de dados\n",
    "\n",
    "Quando os dados estiverem processados ​​e prontos, execute a seguinte análise:"
   ]
  },
  {
   "cell_type": "markdown",
   "id": "turkish-kidney",
   "metadata": {
    "id": "turkish-kidney"
   },
   "source": [
    "# [A] Fácil (é necessário concluir tudo para passar)\n",
    "\n",
    "1.\tVerifique se os valores nas colunas `'order_hour_of_day'` e `'order_dow'` na tabela `orders` fazem sentido (ou seja, os valores da coluna  `'order_hour_of_day'` variam de 0 a 23 e os da `'order_dow'` variam de 0 a 6).\n",
    "2.\tCrie um gráfico que mostre quantas pessoas fazem pedidos a cada hora do dia.\n",
    "3.\tCrie um gráfico que mostre em que dia da semana as pessoas fazem compras.\n",
    "4.\tCrie um gráfico que mostre quanto tempo as pessoas esperam até fazer seu próximo pedido e comente sobre os valores mínimo e máximo.\n"
   ]
  },
  {
   "cell_type": "markdown",
   "id": "short-capability",
   "metadata": {
    "id": "short-capability"
   },
   "source": [
    "### [A1] Verifique se os valores fazem sentido"
   ]
  },
  {
   "cell_type": "code",
   "execution_count": 40,
   "id": "growing-fruit",
   "metadata": {
    "id": "growing-fruit"
   },
   "outputs": [
    {
     "name": "stdout",
     "output_type": "stream",
     "text": [
      "Horarios na coluna order_hour_of_day: [ 0  1  2  3  4  5  6  7  8  9 10 11 12 13 14 15 16 17 18 19 20 21 22 23]\n",
      "dias da semana na coluna order_dow: [0 1 2 3 4 5 6]\n",
      "<class 'numpy.ndarray'>\n"
     ]
    }
   ],
   "source": [
    "hours_of_day = df_orders[\"order_hour_of_day\"].unique()\n",
    "week_dow = df_orders[\"order_dow\"].unique()\n",
    "hours_of_day = np.sort(hours_of_day)\n",
    "week_dow = np.sort(week_dow)\n",
    "print(\"Horarios na coluna order_hour_of_day:\" ,hours_of_day)\n",
    "print(\"dias da semana na coluna order_dow:\", week_dow)\n",
    "print(type(hours_of_day))"
   ]
  },
  {
   "cell_type": "markdown",
   "id": "hmR2GNQ6lCsX",
   "metadata": {
    "id": "hmR2GNQ6lCsX"
   },
   "source": [
    "Escreva suas conclusões aqui:\n",
    "Valor minimo e maximo estao dentro do correto"
   ]
  },
  {
   "cell_type": "markdown",
   "id": "a6743a70",
   "metadata": {
    "id": "a6743a70"
   },
   "source": [
    "### [A2] Quantas pessoas fazem pedidos a cada hora do dia?"
   ]
  },
  {
   "cell_type": "code",
   "execution_count": 41,
   "id": "a36cca27",
   "metadata": {
    "id": "a36cca27"
   },
   "outputs": [
    {
     "data": {
      "image/png": "[encoded data removed]",
      "text/plain": [
       "<Figure size 640x480 with 1 Axes>"
      ]
     },
     "metadata": {},
     "output_type": "display_data"
    }
   ],
   "source": [
    "orders_grouped_by_hour = df_orders.groupby(by= \"order_hour_of_day\")[\"order_id\"].count()\n",
    "\n",
    "orders_grouped_by_hour.plot(x= \"order_hour_of_day\", title= \"Number of orders in a day\", kind = \"bar\", \n",
    "                           xlabel= \"Hours of day\",\n",
    "                           ylabel = \"Number of orders\")\n",
    "\n",
    "plt.show()\n",
    " "
   ]
  },
  {
   "cell_type": "markdown",
   "id": "11270eed",
   "metadata": {
    "id": "11270eed"
   },
   "source": [
    "Escreva suas conclusões aqui\n",
    "\n",
    "A maior quantidade de pedidos acontece entre as 9:00 até as 17:00"
   ]
  },
  {
   "cell_type": "markdown",
   "id": "documented-command",
   "metadata": {
    "id": "documented-command"
   },
   "source": [
    "### [A3] Em que dia da semana as pessoas compram produtos alimentícios?"
   ]
  },
  {
   "cell_type": "code",
   "execution_count": 42,
   "id": "chief-digit",
   "metadata": {
    "id": "chief-digit"
   },
   "outputs": [
    {
     "data": {
      "image/png": "[encoded data removed]",
      "text/plain": [
       "<Figure size 640x480 with 1 Axes>"
      ]
     },
     "metadata": {},
     "output_type": "display_data"
    }
   ],
   "source": [
    "food_department_ids = [1, 3, 5, 7, 9, 12, 13, 14, 15, 16, 19, 20]\n",
    "#merge df orders com order_products by \"order ID\"  \n",
    "dfs_merged = df_orders.merge(df_orders_products, on= \"order_id\")\n",
    "\n",
    "#depois merge novo df com df products by product ID, \n",
    "dfs_merged = dfs_merged.merge(df_products, on = \"product_id\")\n",
    "\n",
    "#funcao para criar coluna com dias da semana\n",
    "def day_of_week(day):\n",
    "    if day == 0:\n",
    "        return \"Sunday \"\n",
    "    if day == 1:\n",
    "        return \"Monday\"\n",
    "    if day == 2:\n",
    "        return \"Tuesday\"\n",
    "    if day == 3:\n",
    "        return \"Wednesday\" \n",
    "    if day == 4:\n",
    "        return \"Thursday\"\n",
    "    if day == 5: \n",
    "        return \"Friday\"\n",
    "    if day == 6:\n",
    "        return \"Saturday\"\n",
    "\n",
    "dfs_merged[\"week_days\"]= dfs_merged[\"order_dow\"].apply(day_of_week)\n",
    "\n",
    "#filtra df por department ids da lista food departments id\n",
    "dfs_merged_filtered = dfs_merged.query(\"department_id in @food_department_ids\")\n",
    "\n",
    "food_orders_by_day = dfs_merged_filtered.groupby(by =\"week_days\")[\"order_id\"].nunique().sort_values(ascending= False)\n",
    "food_orders_by_day.plot(x= \"week_days\", kind= \"bar\", title= \"Food orders by days of the week\", xlabel= \"Days of the week\", ylabel= \"Number of orders\")\n",
    "plt.show()\n"
   ]
  },
  {
   "cell_type": "markdown",
   "id": "dominant-lightning",
   "metadata": {
    "id": "dominant-lightning"
   },
   "source": [
    "Escreva suas conclusões aqui\n",
    "\n",
    "A maior concentração de pedidos ocorre no domingo e segunda-feira"
   ]
  },
  {
   "cell_type": "markdown",
   "id": "cutting-concert",
   "metadata": {
    "id": "cutting-concert"
   },
   "source": [
    "### [A4] Quanto tempo as pessoas esperam até fazer outro pedido?"
   ]
  },
  {
   "cell_type": "markdown",
   "id": "discrete-vertex",
   "metadata": {
    "id": "discrete-vertex"
   },
   "source": [
    "Escreva suas conclusões aqui\n",
    "\n",
    "Normalmente os clientes esperam até 7 dias para a proxima ordem, porém temos um numero alto de clientes que esperam 30 dias ou mais, esse é uma caso que precisaria de uma análise maior, pois se trata de um outlier, pode ser que seja um erro ou simplesmete sao pessoas que deixaram de ser clientes"
   ]
  },
  {
   "cell_type": "code",
   "execution_count": 43,
   "id": "gMOIimGd5VNb",
   "metadata": {
    "id": "gMOIimGd5VNb"
   },
   "outputs": [
    {
     "data": {
      "image/png": "[encoded data removed]",
      "text/plain": [
       "<Figure size 640x480 with 1 Axes>"
      ]
     },
     "metadata": {},
     "output_type": "display_data"
    }
   ],
   "source": [
    "orders_grouped_days_since = df_orders.groupby(\"days_since_prior_order\")[\"order_id\"].count()\n",
    "orders_grouped_days_since.plot(title = \"How many days customers wait until next order\",kind= \"bar\", x= \"days_since_prior_order\", xlabel= \"Number of days since prior order\", ylabel = \"Number of orders\")\n",
    "plt.show() "
   ]
  },
  {
   "cell_type": "markdown",
   "id": "tight-staff",
   "metadata": {
    "id": "tight-staff"
   },
   "source": [
    "# [B] Médio (é necessário concluir tudo para passar)\n",
    "\n",
    "1.\tHá alguma diferença nas distribuições de `'order_hour_of_day'` nas quartas e sábados? Construa gráficos de barras para ambos os dias no mesmo gráfico e descreva as diferenças que você notou.\n",
    "2.\tConstrua um gráfico de distribuição para o número de pedidos que os clientes fazem (ou seja, quantos clientes fizeram apenas 1 pedido, quantos fizeram apenas 2, quantos apenas 3, etc.)\n",
    "3.\tQuais são os 20 produtos comprados com mais frequência? Exiba os IDs e nomes.\n"
   ]
  },
  {
   "cell_type": "markdown",
   "id": "packed-classic",
   "metadata": {
    "id": "packed-classic"
   },
   "source": [
    "### [B1] Diferenças nas quartas e sábados em `'order_hour_of_day'`. Crie gráficos de barras para ambos os dias e descreva as diferenças."
   ]
  },
  {
   "cell_type": "code",
   "execution_count": 44,
   "id": "d89b8403",
   "metadata": {
    "id": "d89b8403"
   },
   "outputs": [
    {
     "data": {
      "image/png": "[encoded data removed]",
      "text/plain": [
       "<Figure size 640x480 with 1 Axes>"
      ]
     },
     "metadata": {},
     "output_type": "display_data"
    }
   ],
   "source": [
    "#Filtrar os dias quarta e sabado\n",
    "dfs_merged_filtered = dfs_merged.query(\"week_days == 'Wednesday' or week_days == 'Saturday'\") \n",
    "\n",
    "#tabela dinamica \n",
    "pivot_data = dfs_merged_filtered.pivot_table(index= \"order_hour_of_day\", \n",
    "                                             columns=\"week_days\",\n",
    "                                             values= \"order_id\",\n",
    "                                             aggfunc= \"nunique\")\n",
    "\n",
    "pivot_data.plot(title= \"Number of orders on Wednesday and Saturday\", kind = \"bar\", xlabel= \"Hours\", ylabel = \"Number of orders\")\n",
    "\n",
    "plt.legend([\"Saturday\", \"Wednesday\"])               \n",
    "plt.show()"
   ]
  },
  {
   "cell_type": "markdown",
   "id": "charitable-congo",
   "metadata": {
    "id": "charitable-congo"
   },
   "source": [
    "Escreva suas conclusões aqui:\n",
    "\n",
    "O numero de pedidos são iguais fora do horário de pico, porém no horário do almoço há um aumento no numero de ordens aos sabados"
   ]
  },
  {
   "cell_type": "markdown",
   "id": "e3891143",
   "metadata": {
    "id": "e3891143"
   },
   "source": [
    "### [B2] Qual é a distribuição do número de pedidos por cliente?"
   ]
  },
  {
   "cell_type": "code",
   "execution_count": 45,
   "id": "d8c26c23",
   "metadata": {
    "id": "d8c26c23"
   },
   "outputs": [
    {
     "data": {
      "image/png": "[encoded data removed]",
      "text/plain": [
       "<Figure size 640x480 with 1 Axes>"
      ]
     },
     "metadata": {},
     "output_type": "display_data"
    }
   ],
   "source": [
    "#numero maximo da coluna order number por cliente \n",
    "max_order_number = df_orders.groupby(\"user_id\")[\"order_number\"].max()\n",
    "\n",
    "max_order_number.plot(kind=\"hist\", title= \"Frequência de pedidos por cliente\")\n",
    "plt.show()\n"
   ]
  },
  {
   "cell_type": "markdown",
   "id": "d2eff7d5",
   "metadata": {
    "id": "d2eff7d5"
   },
   "source": [
    "Escreva suas conclusões aqui:\n",
    "\n",
    "Maior parte dos clientes fazem pedidos de 1 a 20 vezes"
   ]
  },
  {
   "cell_type": "markdown",
   "id": "54a0319c",
   "metadata": {
    "id": "54a0319c"
   },
   "source": [
    "### [B3] Quais são os 20 produtos mais populares? Exiba os IDs e nomes."
   ]
  },
  {
   "cell_type": "code",
   "execution_count": 46,
   "id": "edd2b5f8",
   "metadata": {},
   "outputs": [
    {
     "name": "stdout",
     "output_type": "stream",
     "text": [
      "product_id  product_name            \n",
      "24852       banana                      66050\n",
      "13176       bag of organic bananas      53297\n",
      "21137       organic strawberries        37039\n",
      "21903       organic baby spinach        33971\n",
      "47209       organic hass avocado        29773\n",
      "47766       organic avocado             24689\n",
      "47626       large lemon                 21495\n",
      "16797       strawberries                20018\n",
      "26209       limes                       19690\n",
      "27845       organic whole milk          19600\n",
      "27966       organic raspberries         19197\n",
      "22935       organic yellow onion        15898\n",
      "24964       organic garlic              15292\n",
      "45007       organic zucchini            14584\n",
      "39275       organic blueberries         13879\n",
      "49683       cucumber kirby              13675\n",
      "28204       organic fuji apple          12544\n",
      "5876        organic lemon               12232\n",
      "8277        apple honeycrisp organic    11993\n",
      "40706       organic grape tomatoes      11781\n",
      "dtype: int64\n"
     ]
    }
   ],
   "source": [
    "#merge orders_products with products through product ID to get product names\n",
    "df_merged = df_orders_products.merge(df_products, on='product_id')\n",
    "\n",
    "#created df grouped by product ID and product name. used size() to count number of lines(or product ids) per group in the df orders_products (merged)\n",
    "#it's like \"how many lines products id X have on this table?\"\n",
    "#sorted values descending to have the top ones first\n",
    "top_products = df_merged.groupby(['product_id', 'product_name']).size().sort_values(ascending=False)\n",
    "\n",
    "#limit top 20\n",
    "print(top_products.head(20))"
   ]
  },
  {
   "cell_type": "markdown",
   "id": "7df00f47",
   "metadata": {
    "id": "7df00f47"
   },
   "source": [
    "Escreva suas conclusões aqui:\n",
    "\n",
    "Muitos produtos saudaveis na lista de top 20 mais vendidos "
   ]
  },
  {
   "cell_type": "markdown",
   "id": "gross-theme",
   "metadata": {
    "id": "gross-theme"
   },
   "source": [
    "# [C] Difícil (é necessário concluir pelo menos duas perguntas para passar)\n",
    "\n",
    "1.\tQuantos itens as pessoas normalmente compram em um pedido? Como fica a distribuição?\n",
    "2.\tQuais são os 20 principais itens incluídos mais frequentemente em pedidos repetidos? Exiba os IDs e nomes.\n",
    "3.\tPara cada produto, qual parcela de seus pedidos são repetidos? Crie uma tabela com colunas de ID e nome do produto e a proporção de pedidos repetidos.\n",
    "4.\tPara cada cliente, qual proporção de todos os seus pedidos são repetidos?\n",
    "5.\tQuais são os 20 principais itens que as pessoas colocam nos carrinhos antes de todos os outros? Exiba o ID do produto, nome e o número de vezes que ele foi o primeiro a ser adicionado a um carrinho.\n"
   ]
  },
  {
   "cell_type": "markdown",
   "id": "romantic-deposit",
   "metadata": {
    "id": "romantic-deposit"
   },
   "source": [
    "### [C1] Quantos itens as pessoas normalmente compram em um pedido? Como fica a distribuição?"
   ]
  },
  {
   "cell_type": "code",
   "execution_count": 47,
   "id": "virtual-punch",
   "metadata": {
    "id": "virtual-punch",
    "scrolled": true
   },
   "outputs": [
    {
     "data": {
      "image/png": "[encoded data removed]",
      "text/plain": [
       "<Figure size 640x480 with 1 Axes>"
      ]
     },
     "metadata": {},
     "output_type": "display_data"
    }
   ],
   "source": [
    "#groupby order ID and count number of product ID by order, index is order_id\n",
    "num_items= df_orders_products.groupby(\"order_id\")[\"product_id\"].count()\n",
    "\n",
    "#count frequency that number X of itens appeared, index became number of itens, value is frequency that the number X appeared \n",
    "#exemple: \"number 5 appeared 20k times\"\n",
    "freq_num_items = num_items.value_counts().sort_index()\n",
    "\n",
    "#transforming index (number of itens) in a new column \n",
    "freq_num_items = freq_num_items.reset_index()\n",
    "freq_num_items.columns =[\"number_of_itens\", \"freq_num_itens_by_order\"]\n",
    "\n",
    "freq_num_items.plot(x= \"number_of_itens\", y=\"freq_num_itens_by_order\", xlabel = \"Number of itens\", ylabel= \"Frequency\", kind=\"bar\", title= \"Distribution of itens by order\", legend= False)\n",
    "#limit X array for better visualization\n",
    "plt.xlim(-0.5, 29.5)\n",
    "plt.show()\n",
    "\n"
   ]
  },
  {
   "cell_type": "markdown",
   "id": "designed-mortality",
   "metadata": {
    "id": "designed-mortality"
   },
   "source": [
    "Escreva suas conclusões aqui:\n",
    "\n",
    "Normalmente em um pedido são comprados de 2 a 8 itens \n"
   ]
  },
  {
   "cell_type": "markdown",
   "id": "5e6b5537",
   "metadata": {
    "id": "5e6b5537"
   },
   "source": [
    "### [C2] Quais são os 20 principais itens incluídos com mais frequência em pedidos repetidos? Exiba os IDs e nomes."
   ]
  },
  {
   "cell_type": "markdown",
   "id": "5902a14e",
   "metadata": {},
   "source": [
    "Frequencia de reordered, contar quantas vezes numero 1 aparece, agrupar por product ID resultados e salvar so os 20 primeiros, filtrar tabela products com os IDs do grupo, verificar duplicados, acrescentar coluna com valores do df agrupado "
   ]
  },
  {
   "cell_type": "code",
   "execution_count": 48,
   "id": "9f32affe",
   "metadata": {},
   "outputs": [
    {
     "name": "stdout",
     "output_type": "stream",
     "text": [
      "product_id  product_name            \n",
      "24852       banana                      55763\n",
      "13176       bag of organic bananas      44450\n",
      "21137       organic strawberries        28639\n",
      "21903       organic baby spinach        26233\n",
      "47209       organic hass avocado        23629\n",
      "47766       organic avocado             18743\n",
      "27845       organic whole milk          16251\n",
      "47626       large lemon                 15044\n",
      "27966       organic raspberries         14748\n",
      "16797       strawberries                13945\n",
      "26209       limes                       13327\n",
      "22935       organic yellow onion        11145\n",
      "24964       organic garlic              10411\n",
      "45007       organic zucchini            10076\n",
      "49683       cucumber kirby               9538\n",
      "28204       organic fuji apple           8989\n",
      "8277        apple honeycrisp organic     8836\n",
      "39275       organic blueberries          8799\n",
      "5876        organic lemon                8412\n",
      "49235       organic half & half          8389\n",
      "dtype: int64\n"
     ]
    }
   ],
   "source": [
    "#filter only lines with reordered column == 1 \n",
    "reorder_products = df_orders_products[df_orders_products['reordered'] == 1]\n",
    "\n",
    "#merge to get product names \n",
    "df_merge = reorder_products.merge(df_products, on='product_id')\n",
    "\n",
    "#groupby product ID and name, counting number of lines by product with reordered == 1 \n",
    "op_reordered_products = df_merge.groupby(['product_id', 'product_name']).size().sort_values(ascending=False)\n",
    "\n",
    "#top 20\n",
    "print(op_reordered_products.head(20))"
   ]
  },
  {
   "cell_type": "markdown",
   "id": "80e70c74",
   "metadata": {
    "id": "80e70c74"
   },
   "source": [
    "Escreva suas conclusões aqui: "
   ]
  },
  {
   "cell_type": "markdown",
   "id": "9d312b14",
   "metadata": {
    "id": "9d312b14"
   },
   "source": [
    "### [C3] Para cada produto, qual parcela de todos os pedidos dele são repetidos?"
   ]
  },
  {
   "cell_type": "code",
   "execution_count": 49,
   "id": "8ae9f4b1",
   "metadata": {
    "id": "8ae9f4b1"
   },
   "outputs": [
    {
     "name": "stdout",
     "output_type": "stream",
     "text": [
      "       product_id                                       product_name  \\\n",
      "0               1                         chocolate sandwich cookies   \n",
      "1               2                                   all-seasons salt   \n",
      "2               3               robust golden unsweetened oolong tea   \n",
      "3               4  smart ones classic favorites mini rigatoni wit...   \n",
      "4               7                     pure coconut water with orange   \n",
      "...           ...                                                ...   \n",
      "45568       49690                      high performance energy drink   \n",
      "45569       49691                      original pancake & waffle mix   \n",
      "45570       49692    organic instant oatmeal light maple brown sugar   \n",
      "45571       49693                             spring water body wash   \n",
      "45572       49694                            burrito- steak & cheese   \n",
      "\n",
      "       proportion_repeated  \n",
      "0                     0.56  \n",
      "1                     0.00  \n",
      "2                     0.74  \n",
      "3                     0.51  \n",
      "4                     0.50  \n",
      "...                    ...  \n",
      "45568                 0.80  \n",
      "45569                 0.43  \n",
      "45570                 0.42  \n",
      "45571                 0.44  \n",
      "45572                 0.33  \n",
      "\n",
      "[45573 rows x 3 columns]\n"
     ]
    }
   ],
   "source": [
    "grp_product_id = df_orders_products.groupby(\"product_id\")\n",
    "\n",
    "#contando product ID e somando reordered agrupando por product ID\n",
    "agg_dict = {'product_id': 'count', 'reordered': 'sum'}\n",
    "prop_rep_products = grp_product_id.agg(agg_dict)\n",
    "\n",
    "#calculando proporção de repetidos\n",
    "prop_rep_products[\"proportion_repeated\"] = round(prop_rep_products[\"reordered\"] / prop_rep_products[\"product_id\"], 2)\n",
    "\n",
    "prop_rep_products.columns = [\"product_count\", \"reodered_sum\", \"proportion_repeated\"]\n",
    "\n",
    "#transformando index em coluna para obter product ID como coluna\n",
    "prop_rep_products.reset_index(inplace=True)\n",
    "\n",
    "#merge para aparecer product name \n",
    "prop_rep_products = prop_rep_products.merge(df_products, on= \"product_id\")\n",
    "prop_rep_products = prop_rep_products.drop([\"aisle_id\", \"department_id\"], axis= \"columns\")\n",
    "prop_rep_products = prop_rep_products[[\"product_id\", \"product_name\", \"proportion_repeated\"]]\n",
    "print(prop_rep_products)"
   ]
  },
  {
   "cell_type": "markdown",
   "id": "I10dEIAyldcO",
   "metadata": {
    "id": "I10dEIAyldcO"
   },
   "source": [
    "Escreva suas conclusões aqui"
   ]
  },
  {
   "cell_type": "markdown",
   "id": "subject-boxing",
   "metadata": {
    "id": "subject-boxing"
   },
   "source": [
    "### [C4] Para cada cliente, qual proporção de todos os seus pedidos são repetidos?"
   ]
  },
  {
   "cell_type": "markdown",
   "id": "5d572b11",
   "metadata": {},
   "source": []
  },
  {
   "cell_type": "code",
   "execution_count": 50,
   "id": "medical-couple",
   "metadata": {
    "id": "medical-couple",
    "scrolled": false
   },
   "outputs": [
    {
     "name": "stdout",
     "output_type": "stream",
     "text": [
      "         user_id  sum_reodered  count_rows_orders  proportion_repetead\n",
      "1088155        2             1                 26                 3.85\n",
      "3192209        2             0                 26                 0.00\n",
      "3385367        2             0                 26                 0.00\n",
      "4486617        2             0                 26                 0.00\n",
      "3363272        2             0                 26                 0.00\n",
      "...          ...           ...                ...                  ...\n",
      "4125766   206209             4                 25                16.00\n",
      "72321     206209             4                 25                16.00\n",
      "4235416   206209             4                 25                16.00\n",
      "841244    206209             4                 25                16.00\n",
      "3305990   206209             4                 25                16.00\n",
      "\n",
      "[4545007 rows x 4 columns]\n"
     ]
    }
   ],
   "source": [
    "#merge para obter user_id\n",
    "proportion_rep_by_user = df_orders_products.merge(df_orders, on= \"order_id\")\n",
    "\n",
    "#criando nova coluna em df agrupado por user_id e order_id, somando reordered \n",
    "proportion_rep_by_user[\"sum_reodered\"] = proportion_rep_by_user.groupby([\"user_id\", \"order_id\"])[\"reordered\"].transform(\"sum\")\n",
    "\n",
    "#nova coluna contando numero de ordens ID por cliente \n",
    "proportion_rep_by_user[\"count_rows_orders\"] = proportion_rep_by_user.groupby(\"user_id\")[\"order_id\"].transform(\"count\")\n",
    "\n",
    "#calculando proporção \n",
    "proportion_rep_by_user[\"proportion_repetead\"] = round((proportion_rep_by_user[\"sum_reodered\"] / proportion_rep_by_user[\"count_rows_orders\"]) *100, 2)\n",
    "\n",
    "print(proportion_rep_by_user[[\"user_id\",\"sum_reodered\", \"count_rows_orders\",\"proportion_repetead\"]].sort_values(\"user_id\"))"
   ]
  },
  {
   "cell_type": "markdown",
   "id": "BgJSvXDsleXz",
   "metadata": {
    "id": "BgJSvXDsleXz"
   },
   "source": [
    "Escreva suas conclusões aqui"
   ]
  },
  {
   "cell_type": "markdown",
   "id": "92d35137",
   "metadata": {
    "id": "92d35137"
   },
   "source": [
    "### [C5] Quais são os 20 principais itens que as pessoas colocam nos carrinhos antes de todos os outros?"
   ]
  },
  {
   "cell_type": "code",
   "execution_count": 51,
   "id": "2abb6539",
   "metadata": {},
   "outputs": [
    {
     "name": "stdout",
     "output_type": "stream",
     "text": [
      "       product_id                                  product_name  count\n",
      "0           24852                                        banana  15562\n",
      "1           13176                        bag of organic bananas  11026\n",
      "2           27845                            organic whole milk   4363\n",
      "3           21137                          organic strawberries   3946\n",
      "4           47209                          organic hass avocado   3390\n",
      "...           ...                                           ...    ...\n",
      "26755       33981      ice cream- organic- brownie batter chunk      1\n",
      "26756       33991          gluten free sourdough sandwich rolls      1\n",
      "26757       33995                      five cheese garlic bread      1\n",
      "26758       33996                                   corn on cob      1\n",
      "26759       33997  satin care ultra sensitive women's shave gel      1\n",
      "\n",
      "[26760 rows x 3 columns]\n"
     ]
    }
   ],
   "source": [
    "#merge para ter products name \n",
    "df_merge = df_orders_products.merge(df_products, on= \"product_id\")\n",
    "\n",
    "#filtrando somente linhas com add_to_cart_order == 1, ou seja somente linhas que os produtos foram adicionados primeiro no carrinho \n",
    "first_in_cart = df_merge[df_merge['add_to_cart_order'] == 1]\n",
    "\n",
    "#contando numero de produtos do df filtrado e agrupando por product_id e name, ordenando em descending \n",
    "first_count = first_in_cart.groupby(['product_id', 'product_name'])['product_id'].count().sort_values(ascending=False)\n",
    "\n",
    "#transformando indexs product_ID e product name em coluna e dando nome da coluna ao resultado agrupado count \n",
    "first_count_as_df = first_count.reset_index(name='count')\n",
    "print(first_count_as_df)"
   ]
  },
  {
   "cell_type": "markdown",
   "id": "28ce9872",
   "metadata": {
    "id": "28ce9872"
   },
   "source": [
    "Escreva suas conclusões aqui\n",
    "\n",
    "O produto mais vezes adicionado ao carrinho pela primeira vez foi banana"
   ]
  },
  {
   "cell_type": "markdown",
   "id": "TisH_5Cp3wAi",
   "metadata": {
    "id": "TisH_5Cp3wAi"
   },
   "source": [
    "# Conclusão geral do projeto:"
   ]
  },
  {
   "cell_type": "markdown",
   "id": "Nk-4GS7mDwqY",
   "metadata": {
    "id": "Nk-4GS7mDwqY"
   },
   "source": [
    "Projeto desafiador, todas as três fases foram completas, algumas analises mais profudas devem ser feitas como o caso de product ID diferentes para o mesmo produto, toda a parte de limpeza e organização dos dados foi feita como também analise de dificuldade média e dificil com os dados depois de ajustados."
   ]
  }
 ],
 "metadata": {
  "ExecuteTimeLog": [
   {
    "duration": 2112,
    "start_time": "2024-10-15T11:47:34.858Z"
   },
   {
    "duration": 2268,
    "start_time": "2024-10-15T11:52:17.273Z"
   },
   {
    "duration": 2,
    "start_time": "2024-10-15T12:16:04.296Z"
   },
   {
    "duration": 2250,
    "start_time": "2024-10-15T12:16:05.846Z"
   },
   {
    "duration": 24,
    "start_time": "2024-10-15T12:16:08.910Z"
   },
   {
    "duration": 11,
    "start_time": "2024-10-15T12:16:12.880Z"
   },
   {
    "duration": 8,
    "start_time": "2024-10-15T12:16:15.768Z"
   },
   {
    "duration": 4,
    "start_time": "2024-10-15T12:16:45.782Z"
   },
   {
    "duration": 9,
    "start_time": "2024-10-15T12:16:53.038Z"
   },
   {
    "duration": 9,
    "start_time": "2024-10-15T12:18:08.773Z"
   },
   {
    "duration": 8,
    "start_time": "2024-10-15T12:18:11.976Z"
   },
   {
    "duration": 122,
    "start_time": "2024-10-15T12:23:09.123Z"
   },
   {
    "duration": 922,
    "start_time": "2024-10-15T12:29:35.720Z"
   },
   {
    "duration": 13,
    "start_time": "2024-10-15T12:29:39.236Z"
   },
   {
    "duration": 12,
    "start_time": "2024-10-15T12:29:45.376Z"
   },
   {
    "duration": 9,
    "start_time": "2024-10-15T12:29:47.966Z"
   },
   {
    "duration": 9,
    "start_time": "2024-10-15T12:29:50.381Z"
   },
   {
    "duration": 23,
    "start_time": "2024-10-15T12:30:04.340Z"
   },
   {
    "duration": 6,
    "start_time": "2024-10-15T13:24:57.462Z"
   },
   {
    "duration": 743,
    "start_time": "2024-10-15T13:25:40.922Z"
   },
   {
    "duration": 566,
    "start_time": "2024-10-15T13:27:18.227Z"
   },
   {
    "duration": 49,
    "start_time": "2024-10-15T13:29:18.324Z"
   },
   {
    "duration": 52,
    "start_time": "2024-10-15T13:29:24.127Z"
   },
   {
    "duration": 3,
    "start_time": "2024-10-15T13:29:42.173Z"
   },
   {
    "duration": 881,
    "start_time": "2024-10-15T13:29:44.172Z"
   },
   {
    "duration": 16,
    "start_time": "2024-10-15T13:29:46.869Z"
   },
   {
    "duration": 10,
    "start_time": "2024-10-15T13:29:49.763Z"
   },
   {
    "duration": 13,
    "start_time": "2024-10-15T13:29:52.216Z"
   },
   {
    "duration": 27,
    "start_time": "2024-10-15T13:29:53.135Z"
   },
   {
    "duration": 25,
    "start_time": "2024-10-15T13:29:56.940Z"
   },
   {
    "duration": 46,
    "start_time": "2024-10-15T13:30:05.042Z"
   },
   {
    "duration": 49,
    "start_time": "2024-10-15T13:31:01.178Z"
   },
   {
    "duration": 47,
    "start_time": "2024-10-15T13:31:36.044Z"
   },
   {
    "duration": 707,
    "start_time": "2024-10-15T13:35:19.533Z"
   },
   {
    "duration": 143,
    "start_time": "2024-10-15T13:36:03.884Z"
   },
   {
    "duration": 13,
    "start_time": "2024-10-15T13:38:48.463Z"
   },
   {
    "duration": 82,
    "start_time": "2024-10-15T13:39:43.387Z"
   },
   {
    "duration": 9,
    "start_time": "2024-10-15T13:43:57.687Z"
   },
   {
    "duration": 16,
    "start_time": "2024-10-15T13:44:43.411Z"
   },
   {
    "duration": 3,
    "start_time": "2024-10-15T13:45:53.642Z"
   },
   {
    "duration": 9,
    "start_time": "2024-10-15T13:47:09.019Z"
   },
   {
    "duration": 5,
    "start_time": "2024-10-15T13:47:18.740Z"
   },
   {
    "duration": 5,
    "start_time": "2024-10-15T13:48:53.778Z"
   },
   {
    "duration": 14,
    "start_time": "2024-10-15T13:49:12.300Z"
   },
   {
    "duration": 66,
    "start_time": "2024-10-15T13:49:26.842Z"
   },
   {
    "duration": 13,
    "start_time": "2024-10-15T13:50:52.068Z"
   },
   {
    "duration": 5,
    "start_time": "2024-10-15T13:51:14.789Z"
   },
   {
    "duration": 14,
    "start_time": "2024-10-15T13:53:35.008Z"
   },
   {
    "duration": 4087,
    "start_time": "2024-10-15T13:53:45.076Z"
   },
   {
    "duration": 718,
    "start_time": "2024-10-15T13:55:05.356Z"
   },
   {
    "duration": 14,
    "start_time": "2024-10-15T13:58:45.238Z"
   },
   {
    "duration": 240,
    "start_time": "2024-10-15T13:59:18.284Z"
   },
   {
    "duration": 264,
    "start_time": "2024-10-15T13:59:52.693Z"
   },
   {
    "duration": 247,
    "start_time": "2024-10-15T14:00:00.946Z"
   },
   {
    "duration": 215,
    "start_time": "2024-10-15T14:00:25.593Z"
   },
   {
    "duration": 441,
    "start_time": "2024-10-15T14:02:05.031Z"
   },
   {
    "duration": 836,
    "start_time": "2024-10-15T14:11:03.764Z"
   },
   {
    "duration": 1123,
    "start_time": "2024-10-15T14:13:11.648Z"
   },
   {
    "duration": 588,
    "start_time": "2024-10-15T14:15:40.297Z"
   },
   {
    "duration": 696,
    "start_time": "2024-10-15T14:18:11.892Z"
   },
   {
    "duration": 676,
    "start_time": "2024-10-15T14:18:29.841Z"
   },
   {
    "duration": 4,
    "start_time": "2024-10-15T14:21:38.923Z"
   },
   {
    "duration": 766,
    "start_time": "2024-10-15T14:22:06.948Z"
   },
   {
    "duration": 810,
    "start_time": "2024-10-15T14:22:47.102Z"
   },
   {
    "duration": 681,
    "start_time": "2024-10-15T14:23:17.504Z"
   },
   {
    "duration": 453,
    "start_time": "2024-10-15T14:24:29.801Z"
   },
   {
    "duration": 30,
    "start_time": "2024-10-15T14:29:04.513Z"
   },
   {
    "duration": 25,
    "start_time": "2024-10-15T14:32:12.350Z"
   },
   {
    "duration": 31,
    "start_time": "2024-10-15T14:32:33.046Z"
   },
   {
    "duration": 30,
    "start_time": "2024-10-15T14:32:54.879Z"
   },
   {
    "duration": 41,
    "start_time": "2024-10-15T14:33:02.791Z"
   },
   {
    "duration": 4,
    "start_time": "2024-10-15T14:33:36.270Z"
   },
   {
    "duration": 8,
    "start_time": "2024-10-15T14:33:50.610Z"
   },
   {
    "duration": 3,
    "start_time": "2024-10-15T14:34:00.045Z"
   },
   {
    "duration": 7,
    "start_time": "2024-10-15T14:34:15.014Z"
   },
   {
    "duration": 501,
    "start_time": "2024-10-15T14:34:21.073Z"
   },
   {
    "duration": 45,
    "start_time": "2024-10-15T14:34:41.792Z"
   },
   {
    "duration": 29,
    "start_time": "2024-10-15T14:35:09.430Z"
   },
   {
    "duration": 47,
    "start_time": "2024-10-15T14:37:02.610Z"
   },
   {
    "duration": 31,
    "start_time": "2024-10-15T14:37:13.522Z"
   },
   {
    "duration": 26,
    "start_time": "2024-10-15T14:37:17.262Z"
   },
   {
    "duration": 14,
    "start_time": "2024-10-15T14:40:33.977Z"
   },
   {
    "duration": 4,
    "start_time": "2024-10-15T14:41:33.780Z"
   },
   {
    "duration": 15,
    "start_time": "2024-10-15T14:42:26.915Z"
   },
   {
    "duration": 85,
    "start_time": "2024-10-15T14:45:45.274Z"
   },
   {
    "duration": 13,
    "start_time": "2024-10-15T14:46:08.629Z"
   },
   {
    "duration": 15,
    "start_time": "2024-10-15T14:47:17.737Z"
   },
   {
    "duration": 15,
    "start_time": "2024-10-15T14:47:48.770Z"
   },
   {
    "duration": 11,
    "start_time": "2024-10-15T14:48:34.608Z"
   },
   {
    "duration": 13,
    "start_time": "2024-10-15T14:48:51.079Z"
   },
   {
    "duration": 9,
    "start_time": "2024-10-15T14:49:32.239Z"
   },
   {
    "duration": 7,
    "start_time": "2024-10-15T14:49:55.581Z"
   },
   {
    "duration": 9,
    "start_time": "2024-10-15T14:51:06.053Z"
   },
   {
    "duration": 9,
    "start_time": "2024-10-15T14:51:31.792Z"
   },
   {
    "duration": 9,
    "start_time": "2024-10-15T14:53:21.143Z"
   },
   {
    "duration": 3,
    "start_time": "2024-10-15T14:59:52.898Z"
   },
   {
    "duration": 8,
    "start_time": "2024-10-15T15:00:13.891Z"
   },
   {
    "duration": 7,
    "start_time": "2024-10-15T15:00:26.337Z"
   },
   {
    "duration": 8,
    "start_time": "2024-10-15T15:02:36.372Z"
   },
   {
    "duration": 10,
    "start_time": "2024-10-15T15:03:00.301Z"
   },
   {
    "duration": 35,
    "start_time": "2024-10-15T15:05:58.658Z"
   },
   {
    "duration": 8,
    "start_time": "2024-10-15T15:06:09.352Z"
   },
   {
    "duration": 9,
    "start_time": "2024-10-15T15:06:35.381Z"
   },
   {
    "duration": 9,
    "start_time": "2024-10-15T15:07:05.896Z"
   },
   {
    "duration": 9,
    "start_time": "2024-10-15T15:08:30.820Z"
   },
   {
    "duration": 2154,
    "start_time": "2024-10-16T02:08:47.624Z"
   },
   {
    "duration": 1028,
    "start_time": "2024-10-16T02:08:52.445Z"
   },
   {
    "duration": 13,
    "start_time": "2024-10-16T02:08:57.178Z"
   },
   {
    "duration": 10,
    "start_time": "2024-10-16T02:09:00.958Z"
   },
   {
    "duration": 12,
    "start_time": "2024-10-16T02:09:02.483Z"
   },
   {
    "duration": 25,
    "start_time": "2024-10-16T02:09:03.858Z"
   },
   {
    "duration": 434,
    "start_time": "2024-10-16T02:09:12.607Z"
   },
   {
    "duration": 75,
    "start_time": "2024-10-16T02:09:14.331Z"
   },
   {
    "duration": 6,
    "start_time": "2024-10-16T02:09:16.053Z"
   },
   {
    "duration": 5,
    "start_time": "2024-10-16T02:09:17.144Z"
   },
   {
    "duration": 4172,
    "start_time": "2024-10-16T02:09:18.148Z"
   },
   {
    "duration": 535,
    "start_time": "2024-10-16T02:13:45.952Z"
   },
   {
    "duration": 374,
    "start_time": "2024-10-16T02:14:09.465Z"
   },
   {
    "duration": 504,
    "start_time": "2024-10-16T02:15:08.758Z"
   },
   {
    "duration": 31,
    "start_time": "2024-10-16T02:25:08.817Z"
   },
   {
    "duration": 111,
    "start_time": "2024-10-16T02:25:58.537Z"
   },
   {
    "duration": 151,
    "start_time": "2024-10-16T02:26:04.049Z"
   },
   {
    "duration": 21,
    "start_time": "2024-10-16T02:27:00.600Z"
   },
   {
    "duration": 23,
    "start_time": "2024-10-16T02:28:40.861Z"
   },
   {
    "duration": 6,
    "start_time": "2024-10-16T02:31:18.265Z"
   },
   {
    "duration": 22,
    "start_time": "2024-10-16T02:31:28.772Z"
   },
   {
    "duration": 388,
    "start_time": "2024-10-16T02:33:15.023Z"
   },
   {
    "duration": 12,
    "start_time": "2024-10-16T02:42:49.155Z"
   },
   {
    "duration": 156,
    "start_time": "2024-10-16T02:43:01.264Z"
   },
   {
    "duration": 145,
    "start_time": "2024-10-16T02:43:22.563Z"
   },
   {
    "duration": 16,
    "start_time": "2024-10-16T02:44:37.068Z"
   },
   {
    "duration": 56,
    "start_time": "2024-10-16T02:44:42.285Z"
   },
   {
    "duration": 98,
    "start_time": "2024-10-16T02:45:59.777Z"
   },
   {
    "duration": 146,
    "start_time": "2024-10-16T02:46:57.457Z"
   },
   {
    "duration": 233,
    "start_time": "2024-10-16T02:47:17.864Z"
   },
   {
    "duration": 139,
    "start_time": "2024-10-16T02:47:34.825Z"
   },
   {
    "duration": 238,
    "start_time": "2024-10-16T02:47:39.878Z"
   },
   {
    "duration": 142,
    "start_time": "2024-10-16T02:48:02.315Z"
   },
   {
    "duration": 141,
    "start_time": "2024-10-16T02:48:21.655Z"
   },
   {
    "duration": 204,
    "start_time": "2024-10-16T02:48:25.691Z"
   },
   {
    "duration": 311,
    "start_time": "2024-10-16T02:49:00.913Z"
   },
   {
    "duration": 22,
    "start_time": "2024-10-16T02:51:45.164Z"
   },
   {
    "duration": 20,
    "start_time": "2024-10-16T02:52:01.953Z"
   },
   {
    "duration": 22,
    "start_time": "2024-10-16T02:52:14.977Z"
   },
   {
    "duration": 23,
    "start_time": "2024-10-16T02:52:41.952Z"
   },
   {
    "duration": 19,
    "start_time": "2024-10-16T02:52:59.290Z"
   },
   {
    "duration": 10,
    "start_time": "2024-10-21T01:15:57.270Z"
   },
   {
    "duration": 2050,
    "start_time": "2024-10-21T11:00:39.058Z"
   },
   {
    "duration": 3,
    "start_time": "2024-10-21T11:01:25.100Z"
   },
   {
    "duration": 537,
    "start_time": "2024-10-21T11:01:25.105Z"
   },
   {
    "duration": 0,
    "start_time": "2024-10-21T11:01:25.645Z"
   },
   {
    "duration": 0,
    "start_time": "2024-10-21T11:01:25.646Z"
   },
   {
    "duration": 0,
    "start_time": "2024-10-21T11:01:25.647Z"
   },
   {
    "duration": 0,
    "start_time": "2024-10-21T11:01:25.648Z"
   },
   {
    "duration": 0,
    "start_time": "2024-10-21T11:01:25.650Z"
   },
   {
    "duration": 0,
    "start_time": "2024-10-21T11:01:25.651Z"
   },
   {
    "duration": 0,
    "start_time": "2024-10-21T11:01:25.652Z"
   },
   {
    "duration": 0,
    "start_time": "2024-10-21T11:01:25.653Z"
   },
   {
    "duration": 0,
    "start_time": "2024-10-21T11:01:25.654Z"
   },
   {
    "duration": 0,
    "start_time": "2024-10-21T11:01:25.654Z"
   },
   {
    "duration": 0,
    "start_time": "2024-10-21T11:01:25.656Z"
   },
   {
    "duration": 0,
    "start_time": "2024-10-21T11:01:25.657Z"
   },
   {
    "duration": 0,
    "start_time": "2024-10-21T11:01:25.658Z"
   },
   {
    "duration": 0,
    "start_time": "2024-10-21T11:01:25.660Z"
   },
   {
    "duration": 0,
    "start_time": "2024-10-21T11:01:25.661Z"
   },
   {
    "duration": 1,
    "start_time": "2024-10-21T11:01:25.662Z"
   },
   {
    "duration": 0,
    "start_time": "2024-10-21T11:01:25.663Z"
   },
   {
    "duration": 0,
    "start_time": "2024-10-21T11:01:25.664Z"
   },
   {
    "duration": 0,
    "start_time": "2024-10-21T11:01:25.666Z"
   },
   {
    "duration": 0,
    "start_time": "2024-10-21T11:01:25.705Z"
   },
   {
    "duration": 0,
    "start_time": "2024-10-21T11:01:25.706Z"
   },
   {
    "duration": 0,
    "start_time": "2024-10-21T11:01:25.707Z"
   },
   {
    "duration": 0,
    "start_time": "2024-10-21T11:01:25.709Z"
   },
   {
    "duration": 0,
    "start_time": "2024-10-21T11:01:25.710Z"
   },
   {
    "duration": 0,
    "start_time": "2024-10-21T11:01:25.711Z"
   },
   {
    "duration": 0,
    "start_time": "2024-10-21T11:01:25.713Z"
   },
   {
    "duration": 0,
    "start_time": "2024-10-21T11:01:25.715Z"
   },
   {
    "duration": 0,
    "start_time": "2024-10-21T11:01:25.716Z"
   },
   {
    "duration": 0,
    "start_time": "2024-10-21T11:01:25.717Z"
   },
   {
    "duration": 0,
    "start_time": "2024-10-21T11:01:25.719Z"
   },
   {
    "duration": 0,
    "start_time": "2024-10-21T11:01:25.720Z"
   },
   {
    "duration": 0,
    "start_time": "2024-10-21T11:01:25.721Z"
   },
   {
    "duration": 0,
    "start_time": "2024-10-21T11:01:25.722Z"
   },
   {
    "duration": 0,
    "start_time": "2024-10-21T11:01:25.723Z"
   },
   {
    "duration": 0,
    "start_time": "2024-10-21T11:01:25.724Z"
   },
   {
    "duration": 0,
    "start_time": "2024-10-21T11:01:25.724Z"
   },
   {
    "duration": 0,
    "start_time": "2024-10-21T11:01:25.725Z"
   },
   {
    "duration": 0,
    "start_time": "2024-10-21T11:01:25.726Z"
   },
   {
    "duration": 0,
    "start_time": "2024-10-21T11:01:25.727Z"
   },
   {
    "duration": 0,
    "start_time": "2024-10-21T11:01:25.728Z"
   },
   {
    "duration": 0,
    "start_time": "2024-10-21T11:01:25.729Z"
   },
   {
    "duration": 0,
    "start_time": "2024-10-21T11:01:25.730Z"
   },
   {
    "duration": 0,
    "start_time": "2024-10-21T11:01:25.731Z"
   },
   {
    "duration": 0,
    "start_time": "2024-10-21T11:01:25.732Z"
   },
   {
    "duration": 0,
    "start_time": "2024-10-21T11:01:25.733Z"
   },
   {
    "duration": 0,
    "start_time": "2024-10-21T11:01:25.734Z"
   },
   {
    "duration": 0,
    "start_time": "2024-10-21T11:01:25.735Z"
   },
   {
    "duration": 0,
    "start_time": "2024-10-21T11:01:25.736Z"
   },
   {
    "duration": 0,
    "start_time": "2024-10-21T11:01:25.737Z"
   },
   {
    "duration": 0,
    "start_time": "2024-10-21T11:01:25.738Z"
   },
   {
    "duration": 0,
    "start_time": "2024-10-21T11:01:25.739Z"
   },
   {
    "duration": 3,
    "start_time": "2024-10-21T11:08:36.427Z"
   },
   {
    "duration": 1002,
    "start_time": "2024-10-21T11:08:36.432Z"
   },
   {
    "duration": 14,
    "start_time": "2024-10-21T11:08:37.435Z"
   },
   {
    "duration": 10,
    "start_time": "2024-10-21T11:08:37.451Z"
   },
   {
    "duration": 9,
    "start_time": "2024-10-21T11:08:37.462Z"
   },
   {
    "duration": 8,
    "start_time": "2024-10-21T11:08:37.472Z"
   },
   {
    "duration": 24,
    "start_time": "2024-10-21T11:08:37.505Z"
   },
   {
    "duration": 10,
    "start_time": "2024-10-21T11:08:37.531Z"
   },
   {
    "duration": 5,
    "start_time": "2024-10-21T11:08:37.544Z"
   },
   {
    "duration": 4,
    "start_time": "2024-10-21T11:08:37.551Z"
   },
   {
    "duration": 5,
    "start_time": "2024-10-21T11:08:37.556Z"
   },
   {
    "duration": 86,
    "start_time": "2024-10-21T11:08:37.562Z"
   },
   {
    "duration": 127,
    "start_time": "2024-10-21T11:08:37.649Z"
   },
   {
    "duration": 20,
    "start_time": "2024-10-21T11:08:37.778Z"
   },
   {
    "duration": 69,
    "start_time": "2024-10-21T11:08:37.799Z"
   },
   {
    "duration": 119,
    "start_time": "2024-10-21T11:08:37.869Z"
   },
   {
    "duration": 15,
    "start_time": "2024-10-21T11:08:37.990Z"
   },
   {
    "duration": 13,
    "start_time": "2024-10-21T11:08:38.006Z"
   },
   {
    "duration": 3,
    "start_time": "2024-10-21T11:08:38.021Z"
   },
   {
    "duration": 37,
    "start_time": "2024-10-21T11:08:38.026Z"
   },
   {
    "duration": 9,
    "start_time": "2024-10-21T11:08:38.064Z"
   },
   {
    "duration": 5,
    "start_time": "2024-10-21T11:08:38.104Z"
   },
   {
    "duration": 5,
    "start_time": "2024-10-21T11:08:38.110Z"
   },
   {
    "duration": 3,
    "start_time": "2024-10-21T11:08:38.120Z"
   },
   {
    "duration": 3,
    "start_time": "2024-10-21T11:08:38.125Z"
   },
   {
    "duration": 757,
    "start_time": "2024-10-21T11:08:38.130Z"
   },
   {
    "duration": 124,
    "start_time": "2024-10-21T11:08:38.889Z"
   },
   {
    "duration": 11,
    "start_time": "2024-10-21T11:08:39.015Z"
   },
   {
    "duration": 7,
    "start_time": "2024-10-21T11:08:39.028Z"
   },
   {
    "duration": 8,
    "start_time": "2024-10-21T11:08:39.037Z"
   },
   {
    "duration": 5,
    "start_time": "2024-10-21T11:08:39.047Z"
   },
   {
    "duration": 11,
    "start_time": "2024-10-21T11:08:39.054Z"
   },
   {
    "duration": 42,
    "start_time": "2024-10-21T11:08:39.067Z"
   },
   {
    "duration": 108,
    "start_time": "2024-10-21T11:08:39.111Z"
   },
   {
    "duration": 25,
    "start_time": "2024-10-21T11:08:39.221Z"
   },
   {
    "duration": 28,
    "start_time": "2024-10-21T11:08:39.248Z"
   },
   {
    "duration": 28,
    "start_time": "2024-10-21T11:08:39.278Z"
   },
   {
    "duration": 80,
    "start_time": "2024-10-21T11:08:39.307Z"
   },
   {
    "duration": 85,
    "start_time": "2024-10-21T11:08:39.404Z"
   },
   {
    "duration": 16,
    "start_time": "2024-10-21T11:08:39.491Z"
   },
   {
    "duration": 6,
    "start_time": "2024-10-21T11:08:39.509Z"
   },
   {
    "duration": 200,
    "start_time": "2024-10-21T11:08:39.516Z"
   },
   {
    "duration": 3068,
    "start_time": "2024-10-21T11:08:39.718Z"
   },
   {
    "duration": 267,
    "start_time": "2024-10-21T11:08:42.789Z"
   },
   {
    "duration": 677,
    "start_time": "2024-10-21T11:08:43.058Z"
   },
   {
    "duration": 150,
    "start_time": "2024-10-21T11:08:43.737Z"
   },
   {
    "duration": 166,
    "start_time": "2024-10-21T11:08:43.889Z"
   },
   {
    "duration": 335,
    "start_time": "2024-10-21T11:08:44.056Z"
   },
   {
    "duration": 98,
    "start_time": "2024-10-21T11:08:44.393Z"
   },
   {
    "duration": 127,
    "start_time": "2024-10-21T11:08:44.493Z"
   },
   {
    "duration": 1689,
    "start_time": "2024-10-21T11:08:44.622Z"
   },
   {
    "duration": 6,
    "start_time": "2024-10-21T11:08:46.313Z"
   },
   {
    "duration": 28572,
    "start_time": "2024-10-21T11:08:46.321Z"
   },
   {
    "duration": 23,
    "start_time": "2024-10-21T11:09:14.895Z"
   },
   {
    "duration": 13,
    "start_time": "2024-10-21T11:10:50.007Z"
   },
   {
    "duration": 11,
    "start_time": "2024-10-21T11:12:57.851Z"
   },
   {
    "duration": 11,
    "start_time": "2024-10-21T11:13:12.548Z"
   },
   {
    "duration": 10,
    "start_time": "2024-10-21T11:13:18.890Z"
   },
   {
    "duration": 3,
    "start_time": "2024-10-21T11:19:46.933Z"
   },
   {
    "duration": 5,
    "start_time": "2024-10-21T11:20:16.932Z"
   },
   {
    "duration": 6,
    "start_time": "2024-10-21T11:24:00.229Z"
   },
   {
    "duration": 8,
    "start_time": "2024-10-21T11:24:27.359Z"
   },
   {
    "duration": 8,
    "start_time": "2024-10-21T11:25:15.824Z"
   },
   {
    "duration": 434,
    "start_time": "2024-10-21T11:36:18.138Z"
   },
   {
    "duration": 892,
    "start_time": "2024-10-21T11:36:18.574Z"
   },
   {
    "duration": 14,
    "start_time": "2024-10-21T11:36:19.468Z"
   },
   {
    "duration": 10,
    "start_time": "2024-10-21T11:36:19.484Z"
   },
   {
    "duration": 8,
    "start_time": "2024-10-21T11:36:19.506Z"
   },
   {
    "duration": 9,
    "start_time": "2024-10-21T11:36:19.516Z"
   },
   {
    "duration": 24,
    "start_time": "2024-10-21T11:36:19.526Z"
   },
   {
    "duration": 11,
    "start_time": "2024-10-21T11:36:19.552Z"
   },
   {
    "duration": 6,
    "start_time": "2024-10-21T11:36:19.565Z"
   },
   {
    "duration": 36,
    "start_time": "2024-10-21T11:36:19.572Z"
   },
   {
    "duration": 5,
    "start_time": "2024-10-21T11:36:19.610Z"
   },
   {
    "duration": 53,
    "start_time": "2024-10-21T11:36:19.617Z"
   },
   {
    "duration": 142,
    "start_time": "2024-10-21T11:36:19.672Z"
   },
   {
    "duration": 14,
    "start_time": "2024-10-21T11:36:19.819Z"
   },
   {
    "duration": 52,
    "start_time": "2024-10-21T11:36:19.835Z"
   },
   {
    "duration": 124,
    "start_time": "2024-10-21T11:36:19.889Z"
   },
   {
    "duration": 11,
    "start_time": "2024-10-21T11:36:20.014Z"
   },
   {
    "duration": 15,
    "start_time": "2024-10-21T11:36:20.026Z"
   },
   {
    "duration": 3,
    "start_time": "2024-10-21T11:36:20.044Z"
   },
   {
    "duration": 59,
    "start_time": "2024-10-21T11:36:20.048Z"
   },
   {
    "duration": 9,
    "start_time": "2024-10-21T11:36:20.109Z"
   },
   {
    "duration": 5,
    "start_time": "2024-10-21T11:36:20.119Z"
   },
   {
    "duration": 4,
    "start_time": "2024-10-21T11:36:20.126Z"
   },
   {
    "duration": 4,
    "start_time": "2024-10-21T11:36:20.132Z"
   },
   {
    "duration": 4,
    "start_time": "2024-10-21T11:36:20.137Z"
   },
   {
    "duration": 782,
    "start_time": "2024-10-21T11:36:20.142Z"
   },
   {
    "duration": 121,
    "start_time": "2024-10-21T11:36:20.926Z"
   },
   {
    "duration": 9,
    "start_time": "2024-10-21T11:36:21.049Z"
   },
   {
    "duration": 9,
    "start_time": "2024-10-21T11:36:21.061Z"
   },
   {
    "duration": 6,
    "start_time": "2024-10-21T11:36:21.072Z"
   },
   {
    "duration": 27,
    "start_time": "2024-10-21T11:36:21.080Z"
   },
   {
    "duration": 12,
    "start_time": "2024-10-21T11:36:21.109Z"
   },
   {
    "duration": 9,
    "start_time": "2024-10-21T11:36:21.122Z"
   },
   {
    "duration": 108,
    "start_time": "2024-10-21T11:36:21.133Z"
   },
   {
    "duration": 23,
    "start_time": "2024-10-21T11:36:21.243Z"
   },
   {
    "duration": 50,
    "start_time": "2024-10-21T11:36:21.268Z"
   },
   {
    "duration": 8,
    "start_time": "2024-10-21T11:36:21.319Z"
   },
   {
    "duration": 93,
    "start_time": "2024-10-21T11:36:21.328Z"
   },
   {
    "duration": 95,
    "start_time": "2024-10-21T11:36:21.423Z"
   },
   {
    "duration": 4,
    "start_time": "2024-10-21T11:36:21.519Z"
   },
   {
    "duration": 5,
    "start_time": "2024-10-21T11:36:21.528Z"
   },
   {
    "duration": 214,
    "start_time": "2024-10-21T11:36:21.534Z"
   },
   {
    "duration": 3074,
    "start_time": "2024-10-21T11:36:21.749Z"
   },
   {
    "duration": 210,
    "start_time": "2024-10-21T11:36:24.825Z"
   },
   {
    "duration": 689,
    "start_time": "2024-10-21T11:36:25.037Z"
   },
   {
    "duration": 150,
    "start_time": "2024-10-21T11:36:25.727Z"
   },
   {
    "duration": 162,
    "start_time": "2024-10-21T11:36:25.879Z"
   },
   {
    "duration": 334,
    "start_time": "2024-10-21T11:36:26.043Z"
   },
   {
    "duration": 126,
    "start_time": "2024-10-21T11:36:26.379Z"
   },
   {
    "duration": 141,
    "start_time": "2024-10-21T11:36:26.507Z"
   },
   {
    "duration": 1718,
    "start_time": "2024-10-21T11:36:26.650Z"
   },
   {
    "duration": 6,
    "start_time": "2024-10-21T11:36:28.371Z"
   },
   {
    "duration": 28902,
    "start_time": "2024-10-21T11:36:28.379Z"
   },
   {
    "duration": 24,
    "start_time": "2024-10-21T11:36:57.283Z"
   },
   {
    "duration": 405,
    "start_time": "2024-10-21T11:38:00.397Z"
   },
   {
    "duration": 912,
    "start_time": "2024-10-21T11:38:00.806Z"
   },
   {
    "duration": 14,
    "start_time": "2024-10-21T11:38:01.719Z"
   },
   {
    "duration": 10,
    "start_time": "2024-10-21T11:38:01.736Z"
   },
   {
    "duration": 9,
    "start_time": "2024-10-21T11:38:01.747Z"
   },
   {
    "duration": 8,
    "start_time": "2024-10-21T11:38:01.758Z"
   },
   {
    "duration": 57,
    "start_time": "2024-10-21T11:38:01.768Z"
   },
   {
    "duration": 11,
    "start_time": "2024-10-21T11:38:01.827Z"
   },
   {
    "duration": 6,
    "start_time": "2024-10-21T11:38:01.840Z"
   },
   {
    "duration": 4,
    "start_time": "2024-10-21T11:38:01.849Z"
   },
   {
    "duration": 5,
    "start_time": "2024-10-21T11:38:01.855Z"
   },
   {
    "duration": 82,
    "start_time": "2024-10-21T11:38:01.861Z"
   },
   {
    "duration": 128,
    "start_time": "2024-10-21T11:38:01.946Z"
   },
   {
    "duration": 16,
    "start_time": "2024-10-21T11:38:02.075Z"
   },
   {
    "duration": 62,
    "start_time": "2024-10-21T11:38:02.092Z"
   },
   {
    "duration": 107,
    "start_time": "2024-10-21T11:38:02.156Z"
   },
   {
    "duration": 10,
    "start_time": "2024-10-21T11:38:02.265Z"
   },
   {
    "duration": 32,
    "start_time": "2024-10-21T11:38:02.276Z"
   },
   {
    "duration": 3,
    "start_time": "2024-10-21T11:38:02.310Z"
   },
   {
    "duration": 35,
    "start_time": "2024-10-21T11:38:02.315Z"
   },
   {
    "duration": 9,
    "start_time": "2024-10-21T11:38:02.351Z"
   },
   {
    "duration": 5,
    "start_time": "2024-10-21T11:38:02.361Z"
   },
   {
    "duration": 5,
    "start_time": "2024-10-21T11:38:02.368Z"
   },
   {
    "duration": 4,
    "start_time": "2024-10-21T11:38:02.405Z"
   },
   {
    "duration": 4,
    "start_time": "2024-10-21T11:38:02.410Z"
   },
   {
    "duration": 825,
    "start_time": "2024-10-21T11:38:02.415Z"
   },
   {
    "duration": 110,
    "start_time": "2024-10-21T11:38:03.241Z"
   },
   {
    "duration": 9,
    "start_time": "2024-10-21T11:38:03.355Z"
   },
   {
    "duration": 10,
    "start_time": "2024-10-21T11:38:18.016Z"
   },
   {
    "duration": 9,
    "start_time": "2024-10-21T11:39:47.645Z"
   },
   {
    "duration": 7,
    "start_time": "2024-10-21T11:44:16.484Z"
   },
   {
    "duration": 6,
    "start_time": "2024-10-21T11:44:19.389Z"
   },
   {
    "duration": 13,
    "start_time": "2024-10-21T11:44:34.872Z"
   },
   {
    "duration": 9,
    "start_time": "2024-10-21T11:45:12.523Z"
   },
   {
    "duration": 84,
    "start_time": "2024-10-21T11:45:15.935Z"
   },
   {
    "duration": 22,
    "start_time": "2024-10-21T11:45:20.404Z"
   },
   {
    "duration": 29,
    "start_time": "2024-10-21T11:45:24.215Z"
   },
   {
    "duration": 6,
    "start_time": "2024-10-21T11:47:09.907Z"
   },
   {
    "duration": 7,
    "start_time": "2024-10-21T11:49:21.237Z"
   },
   {
    "duration": 184,
    "start_time": "2024-10-21T11:52:09.617Z"
   },
   {
    "duration": 22,
    "start_time": "2024-10-21T11:52:38.602Z"
   },
   {
    "duration": 21,
    "start_time": "2024-10-21T12:04:03.312Z"
   },
   {
    "duration": 87,
    "start_time": "2024-10-21T12:06:58.037Z"
   },
   {
    "duration": 4,
    "start_time": "2024-10-21T12:08:47.466Z"
   },
   {
    "duration": 6,
    "start_time": "2024-10-21T12:09:01.772Z"
   },
   {
    "duration": 13,
    "start_time": "2024-10-21T12:10:04.318Z"
   },
   {
    "duration": 5,
    "start_time": "2024-10-21T12:10:34.623Z"
   },
   {
    "duration": 3,
    "start_time": "2024-10-21T12:10:51.062Z"
   },
   {
    "duration": 8,
    "start_time": "2024-10-21T12:12:50.708Z"
   },
   {
    "duration": 14,
    "start_time": "2024-10-21T12:13:19.090Z"
   },
   {
    "duration": 290,
    "start_time": "2024-10-21T12:16:05.225Z"
   },
   {
    "duration": 14,
    "start_time": "2024-10-21T12:16:37.182Z"
   },
   {
    "duration": 4,
    "start_time": "2024-10-21T12:18:25.683Z"
   },
   {
    "duration": 5,
    "start_time": "2024-10-21T12:18:35.101Z"
   },
   {
    "duration": 31,
    "start_time": "2024-10-21T12:19:02.252Z"
   },
   {
    "duration": 5,
    "start_time": "2024-10-21T12:19:23.715Z"
   },
   {
    "duration": 6,
    "start_time": "2024-10-21T12:19:43.582Z"
   },
   {
    "duration": 7,
    "start_time": "2024-10-21T12:21:11.587Z"
   },
   {
    "duration": 7,
    "start_time": "2024-10-21T12:25:30.186Z"
   },
   {
    "duration": 6,
    "start_time": "2024-10-21T12:28:59.137Z"
   },
   {
    "duration": 7,
    "start_time": "2024-10-21T12:30:28.327Z"
   },
   {
    "duration": 7,
    "start_time": "2024-10-21T12:30:32.327Z"
   },
   {
    "duration": 423,
    "start_time": "2024-10-21T12:34:52.946Z"
   },
   {
    "duration": 904,
    "start_time": "2024-10-21T12:34:53.371Z"
   },
   {
    "duration": 13,
    "start_time": "2024-10-21T12:34:54.277Z"
   },
   {
    "duration": 23,
    "start_time": "2024-10-21T12:34:54.292Z"
   },
   {
    "duration": 9,
    "start_time": "2024-10-21T12:34:54.317Z"
   },
   {
    "duration": 9,
    "start_time": "2024-10-21T12:34:54.327Z"
   },
   {
    "duration": 25,
    "start_time": "2024-10-21T12:34:54.337Z"
   },
   {
    "duration": 11,
    "start_time": "2024-10-21T12:34:54.363Z"
   },
   {
    "duration": 35,
    "start_time": "2024-10-21T12:34:54.375Z"
   },
   {
    "duration": 5,
    "start_time": "2024-10-21T12:34:54.411Z"
   },
   {
    "duration": 5,
    "start_time": "2024-10-21T12:34:54.417Z"
   },
   {
    "duration": 49,
    "start_time": "2024-10-21T12:34:54.424Z"
   },
   {
    "duration": 152,
    "start_time": "2024-10-21T12:34:54.476Z"
   },
   {
    "duration": 14,
    "start_time": "2024-10-21T12:34:54.632Z"
   },
   {
    "duration": 63,
    "start_time": "2024-10-21T12:34:54.648Z"
   },
   {
    "duration": 109,
    "start_time": "2024-10-21T12:34:54.713Z"
   },
   {
    "duration": 10,
    "start_time": "2024-10-21T12:34:54.824Z"
   },
   {
    "duration": 13,
    "start_time": "2024-10-21T12:34:54.836Z"
   },
   {
    "duration": 5,
    "start_time": "2024-10-21T12:34:54.850Z"
   },
   {
    "duration": 59,
    "start_time": "2024-10-21T12:34:54.857Z"
   },
   {
    "duration": 8,
    "start_time": "2024-10-21T12:34:54.918Z"
   },
   {
    "duration": 5,
    "start_time": "2024-10-21T12:34:54.927Z"
   },
   {
    "duration": 4,
    "start_time": "2024-10-21T12:34:54.933Z"
   },
   {
    "duration": 4,
    "start_time": "2024-10-21T12:34:54.940Z"
   },
   {
    "duration": 3,
    "start_time": "2024-10-21T12:34:54.945Z"
   },
   {
    "duration": 786,
    "start_time": "2024-10-21T12:34:54.950Z"
   },
   {
    "duration": 121,
    "start_time": "2024-10-21T12:34:55.738Z"
   },
   {
    "duration": 9,
    "start_time": "2024-10-21T12:34:55.861Z"
   },
   {
    "duration": 8,
    "start_time": "2024-10-21T12:34:55.871Z"
   },
   {
    "duration": 25,
    "start_time": "2024-10-21T12:34:55.880Z"
   },
   {
    "duration": 6,
    "start_time": "2024-10-21T12:34:55.907Z"
   },
   {
    "duration": 12,
    "start_time": "2024-10-21T12:34:55.914Z"
   },
   {
    "duration": 10,
    "start_time": "2024-10-21T12:34:55.928Z"
   },
   {
    "duration": 112,
    "start_time": "2024-10-21T12:34:55.940Z"
   },
   {
    "duration": 23,
    "start_time": "2024-10-21T12:34:56.053Z"
   },
   {
    "duration": 45,
    "start_time": "2024-10-21T12:34:56.078Z"
   },
   {
    "duration": 6,
    "start_time": "2024-10-21T12:34:56.125Z"
   },
   {
    "duration": 21,
    "start_time": "2024-10-21T12:34:56.133Z"
   },
   {
    "duration": 111,
    "start_time": "2024-10-21T12:34:56.155Z"
   },
   {
    "duration": 7,
    "start_time": "2024-10-21T12:34:56.268Z"
   },
   {
    "duration": 198,
    "start_time": "2024-10-21T12:34:56.279Z"
   },
   {
    "duration": 3053,
    "start_time": "2024-10-21T12:34:56.479Z"
   },
   {
    "duration": 200,
    "start_time": "2024-10-21T12:34:59.533Z"
   },
   {
    "duration": 679,
    "start_time": "2024-10-21T12:34:59.735Z"
   },
   {
    "duration": 151,
    "start_time": "2024-10-21T12:35:00.417Z"
   },
   {
    "duration": 847,
    "start_time": "2024-10-21T12:40:41.894Z"
   },
   {
    "duration": 150,
    "start_time": "2024-10-21T12:40:57.180Z"
   },
   {
    "duration": 886,
    "start_time": "2024-10-21T12:49:03.267Z"
   },
   {
    "duration": 886,
    "start_time": "2024-10-21T12:50:48.826Z"
   },
   {
    "duration": 255,
    "start_time": "2024-10-21T12:53:40.060Z"
   },
   {
    "duration": 272,
    "start_time": "2024-10-21T12:54:27.195Z"
   },
   {
    "duration": 239,
    "start_time": "2024-10-21T12:55:52.209Z"
   },
   {
    "duration": 294,
    "start_time": "2024-10-21T12:56:01.202Z"
   },
   {
    "duration": 263,
    "start_time": "2024-10-21T12:58:19.316Z"
   },
   {
    "duration": 267,
    "start_time": "2024-10-21T12:58:40.192Z"
   },
   {
    "duration": 231,
    "start_time": "2024-10-21T12:59:47.351Z"
   },
   {
    "duration": 244,
    "start_time": "2024-10-21T12:59:53.670Z"
   },
   {
    "duration": 234,
    "start_time": "2024-10-21T13:00:21.783Z"
   },
   {
    "duration": 238,
    "start_time": "2024-10-21T13:04:35.315Z"
   },
   {
    "duration": 231,
    "start_time": "2024-10-21T13:05:45.137Z"
   },
   {
    "duration": 332,
    "start_time": "2024-10-21T13:10:42.026Z"
   },
   {
    "duration": 233,
    "start_time": "2024-10-21T13:11:49.424Z"
   },
   {
    "duration": 422,
    "start_time": "2024-10-21T13:15:17.070Z"
   },
   {
    "duration": 381,
    "start_time": "2024-10-21T13:15:29.214Z"
   },
   {
    "duration": 355,
    "start_time": "2024-10-21T13:15:48.788Z"
   },
   {
    "duration": 1052,
    "start_time": "2024-10-21T13:16:38.717Z"
   },
   {
    "duration": 1033,
    "start_time": "2024-10-21T13:16:48.126Z"
   },
   {
    "duration": 558,
    "start_time": "2024-10-21T13:24:41.966Z"
   },
   {
    "duration": 240,
    "start_time": "2024-10-21T13:25:18.131Z"
   },
   {
    "duration": 1067,
    "start_time": "2024-10-21T13:26:13.438Z"
   },
   {
    "duration": 356,
    "start_time": "2024-10-21T13:27:55.149Z"
   },
   {
    "duration": 376,
    "start_time": "2024-10-21T13:29:14.721Z"
   },
   {
    "duration": 363,
    "start_time": "2024-10-21T13:29:30.373Z"
   },
   {
    "duration": 343,
    "start_time": "2024-10-21T13:32:41.005Z"
   },
   {
    "duration": 342,
    "start_time": "2024-10-21T13:33:03.410Z"
   },
   {
    "duration": 402,
    "start_time": "2024-10-21T13:34:08.700Z"
   },
   {
    "duration": 338,
    "start_time": "2024-10-21T13:36:31.431Z"
   },
   {
    "duration": 346,
    "start_time": "2024-10-21T13:38:16.439Z"
   },
   {
    "duration": 352,
    "start_time": "2024-10-21T13:40:22.058Z"
   },
   {
    "duration": 5,
    "start_time": "2024-10-21T13:44:45.133Z"
   },
   {
    "duration": 1080,
    "start_time": "2024-10-21T13:44:56.967Z"
   },
   {
    "duration": 4,
    "start_time": "2024-10-21T13:45:47.756Z"
   },
   {
    "duration": 5,
    "start_time": "2024-10-21T13:45:58.100Z"
   },
   {
    "duration": 5,
    "start_time": "2024-10-21T13:46:23.107Z"
   },
   {
    "duration": 1108,
    "start_time": "2024-10-21T13:46:32.493Z"
   },
   {
    "duration": 1159,
    "start_time": "2024-10-21T13:46:39.937Z"
   },
   {
    "duration": 1094,
    "start_time": "2024-10-21T13:46:45.416Z"
   },
   {
    "duration": 1103,
    "start_time": "2024-10-21T13:46:51.350Z"
   },
   {
    "duration": 1087,
    "start_time": "2024-10-21T13:46:59.657Z"
   },
   {
    "duration": 1188,
    "start_time": "2024-10-21T13:47:11.958Z"
   },
   {
    "duration": 1085,
    "start_time": "2024-10-21T13:47:24.456Z"
   },
   {
    "duration": 1106,
    "start_time": "2024-10-21T13:49:35.755Z"
   },
   {
    "duration": 583,
    "start_time": "2024-10-21T13:50:31.185Z"
   },
   {
    "duration": 853,
    "start_time": "2024-10-21T13:50:41.937Z"
   },
   {
    "duration": 575,
    "start_time": "2024-10-21T13:50:59.934Z"
   },
   {
    "duration": 543,
    "start_time": "2024-10-21T13:51:20.477Z"
   },
   {
    "duration": 586,
    "start_time": "2024-10-21T13:51:35.302Z"
   },
   {
    "duration": 532,
    "start_time": "2024-10-21T13:51:46.031Z"
   },
   {
    "duration": 529,
    "start_time": "2024-10-21T13:52:10.897Z"
   },
   {
    "duration": 540,
    "start_time": "2024-10-21T13:53:21.361Z"
   },
   {
    "duration": 607,
    "start_time": "2024-10-21T13:55:22.080Z"
   },
   {
    "duration": 64,
    "start_time": "2024-10-21T14:07:37.134Z"
   },
   {
    "duration": 527,
    "start_time": "2024-10-21T14:07:45.749Z"
   },
   {
    "duration": 496,
    "start_time": "2024-10-21T14:08:10.609Z"
   },
   {
    "duration": 447,
    "start_time": "2024-10-21T14:10:13.133Z"
   },
   {
    "duration": 98,
    "start_time": "2024-10-21T14:14:12.585Z"
   },
   {
    "duration": 97,
    "start_time": "2024-10-21T14:14:32.947Z"
   },
   {
    "duration": 102,
    "start_time": "2024-10-21T14:15:32.535Z"
   },
   {
    "duration": 96,
    "start_time": "2024-10-21T14:15:53.074Z"
   },
   {
    "duration": 1561,
    "start_time": "2024-10-21T14:16:28.218Z"
   },
   {
    "duration": 1618,
    "start_time": "2024-10-21T14:20:24.318Z"
   },
   {
    "duration": 1590,
    "start_time": "2024-10-21T14:21:10.824Z"
   },
   {
    "duration": 1626,
    "start_time": "2024-10-21T14:22:52.781Z"
   },
   {
    "duration": 536,
    "start_time": "2024-10-21T14:31:37.703Z"
   },
   {
    "duration": 506,
    "start_time": "2024-10-21T14:32:13.298Z"
   },
   {
    "duration": 539,
    "start_time": "2024-10-21T14:35:16.291Z"
   }
  ],
  "colab": {
   "provenance": []
  },
  "kernelspec": {
   "display_name": "base",
   "language": "python",
   "name": "python3"
  },
  "language_info": {
   "codemirror_mode": {
    "name": "ipython",
    "version": 3
   },
   "file_extension": ".py",
   "mimetype": "text/x-python",
   "name": "python",
   "nbconvert_exporter": "python",
   "pygments_lexer": "ipython3",
   "version": "3.12.4"
  },
  "toc": {
   "base_numbering": 1,
   "nav_menu": {},
   "number_sections": true,
   "sideBar": true,
   "skip_h1_title": true,
   "title_cell": "Table of Contents",
   "title_sidebar": "Contents",
   "toc_cell": false,
   "toc_position": {},
   "toc_section_display": true,
   "toc_window_display": false
  }
 },
 "nbformat": 4,
 "nbformat_minor": 5
}
