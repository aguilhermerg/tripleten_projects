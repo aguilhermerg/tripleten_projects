{
 "cells": [
  {
   "cell_type": "markdown",
   "metadata": {},
   "source": [
    "# Projeto SQL - Tripleten sprint 14  "
   ]
  },
  {
   "cell_type": "markdown",
   "metadata": {},
   "source": [
    "O coronavírus pegou o mundo todo de surpresa mudando a rotina das pessoas. Os moradores das cidades já não passavam mais seu tempo livre fora de casa, indo a cafés, e shoppings; a maioria ficou em casa lendo livros. Isso chamou a atenção de startups que se apressaram para desenvolver novos aplicativos para os amantes de livros.\n",
    "\n",
    "Você recebeu um banco de dados de um dos serviços concorrentes nesse mercado. Ele contém dados sobre livros, editoras, autores, e classificação de clientes e avaliação de livros. Essa informação será usada para gerar uma proposição válida para o novo produto."
   ]
  },
  {
   "cell_type": "markdown",
   "metadata": {},
   "source": [
    "### Descrição dos dados"
   ]
  },
  {
   "cell_type": "markdown",
   "metadata": {},
   "source": [
    "**`books` — livros:**\n",
    "\n",
    "Contém dados sobre livros:\n",
    "\n",
    "- `book_id` — identificador do livro\n",
    "- `author_id` — identificador do autor\n",
    "- `title` — título\n",
    "- `num_pages` — número de páginas\n",
    "- `publication_date` — data de publicação\n",
    "- `publisher_id` — identificador da editora\n",
    "\n",
    "**`authors` — autores:**\n",
    "\n",
    "Contém dados sobre os autores:\n",
    "\n",
    "- `author_id` — identificador do autor\n",
    "- `author` — autor\n",
    "\n",
    "**`publishers` — editoras:**\n",
    "\n",
    "Contém dados sobre editoras:\n",
    "\n",
    "- `publisher_id` — identificador da editora\n",
    "- `publisher` — editora\n",
    "\n",
    "**`ratings` — classificações:**\n",
    "\n",
    "Contém dados sobre classificação dos usuários:\n",
    "\n",
    "- `rating_id` — identificador da classificação\n",
    "- `book_id` — identificador do livro\n",
    "- `username` — o nome do usuário que avaliou o livro\n",
    "- `rating` — classificação\n",
    "\n",
    "**`reviews` — avaliação:**\n",
    "\n",
    "Contém dados sobre revisão dos clientes:\n",
    "\n",
    "- `review_id` — identificador da revisão\n",
    "- `book_id` — identificador do livro\n",
    "- `username` — o nome do usuário que revisou o livro\n",
    "- `text` — o texto da revisão"
   ]
  },
  {
   "cell_type": "markdown",
   "metadata": {},
   "source": [
    "### Tarefas\n",
    "\n",
    "- Encontre o número de livros lançados depois de 1 de janeiro de 2000.\n",
    "- Encontre o número de avaliações e a classificação média para cada livro.\n",
    "- Identifique a editora que lançou o maior número de livros com mais de 50 páginas (isso vai ajudar você a excluir brochuras e publicações parecidas da sua análise).\n",
    "- Identifique o autor com a média mais alta classificação de livros: olhe apenas para livros com pelo menos 50 classificações.\n",
    "- Encontre o número médio de avaliações entre usuários que classificaram mais do que 50 livros."
   ]
  },
  {
   "cell_type": "markdown",
   "metadata": {},
   "source": [
    "#### 1. Importando bibliotecas"
   ]
  },
  {
   "cell_type": "code",
   "execution_count": 2,
   "metadata": {},
   "outputs": [],
   "source": [
    "import pandas as pd\n",
    "from sqlalchemy import create_engine "
   ]
  },
  {
   "cell_type": "markdown",
   "metadata": {},
   "source": [
    "#### 2. Conectando-se ao banco de dados "
   ]
  },
  {
   "cell_type": "code",
   "execution_count": 3,
   "metadata": {},
   "outputs": [],
   "source": [
    "db_config = {'user': 'practicum_student', # username\n",
    "             'pwd': 'QnmDH8Sc2TQLvy2G3Vvh7', # password\n",
    "             'host': 'yp-trainers-practicum.cluster-czs0gxyx2d8w.us-east-1.rds.amazonaws.com',\n",
    "             'port': 5432, # connection port\n",
    "             'db': 'data-analyst-final-project-db' # the name of the database\n",
    "             }\n",
    "connection_string = 'postgresql://{}:{}@{}:{}/{}'.format(db_config['user'],\n",
    "                                                         db_config ['pwd'],\n",
    "                                                         db_config['host'],\n",
    "                                                         db_config['port'],\n",
    "                                                         db_config['db'])\n",
    "\n",
    "engine = create_engine(connection_string, connect_args={'sslmode':'require'})"
   ]
  },
  {
   "cell_type": "markdown",
   "metadata": {},
   "source": [
    "### 3. Queries"
   ]
  },
  {
   "cell_type": "markdown",
   "metadata": {},
   "source": [
    "##### Estudando as tabelas "
   ]
  },
  {
   "cell_type": "code",
   "execution_count": 4,
   "metadata": {},
   "outputs": [
    {
     "name": "stdout",
     "output_type": "stream",
     "text": [
      "   book_id  author_id                                              title  \\\n",
      "0        1        546                                       'Salem's Lot   \n",
      "1        2        465                 1 000 Places to See Before You Die   \n",
      "2        3        407  13 Little Blue Envelopes (Little Blue Envelope...   \n",
      "3        4         82  1491: New Revelations of the Americas Before C...   \n",
      "4        5        125                                               1776   \n",
      "\n",
      "   num_pages publication_date  publisher_id  \n",
      "0        594       2005-11-01            93  \n",
      "1        992       2003-05-22           336  \n",
      "2        322       2010-12-21           135  \n",
      "3        541       2006-10-10           309  \n",
      "4        386       2006-07-04           268  \n"
     ]
    }
   ],
   "source": [
    "query = ''' SELECT * \n",
    "            FROM books\n",
    "            LIMIT 5'''\n",
    "\n",
    "books = pd.io.sql.read_sql(query, con = engine)\n",
    "\n",
    "print(books)"
   ]
  },
  {
   "cell_type": "code",
   "execution_count": 5,
   "metadata": {},
   "outputs": [
    {
     "name": "stdout",
     "output_type": "stream",
     "text": [
      "   author_id                          author\n",
      "0          1                      A.S. Byatt\n",
      "1          2  Aesop/Laura Harris/Laura Gibbs\n",
      "2          3                 Agatha Christie\n",
      "3          4                   Alan Brennert\n",
      "4          5        Alan Moore/David   Lloyd\n"
     ]
    }
   ],
   "source": [
    "query = ''' SELECT * \n",
    "            FROM authors\n",
    "            LIMIT 5'''\n",
    "\n",
    "authors = pd.io.sql.read_sql(query, con = engine)\n",
    "\n",
    "print(authors)"
   ]
  },
  {
   "cell_type": "code",
   "execution_count": 6,
   "metadata": {},
   "outputs": [
    {
     "name": "stdout",
     "output_type": "stream",
     "text": [
      "   publisher_id                          publisher\n",
      "0             1                                Ace\n",
      "1             2                           Ace Book\n",
      "2             3                          Ace Books\n",
      "3             4                      Ace Hardcover\n",
      "4             5  Addison Wesley Publishing Company\n"
     ]
    }
   ],
   "source": [
    "query = ''' SELECT * \n",
    "            FROM publishers\n",
    "            LIMIT 5'''\n",
    "\n",
    "publishers = pd.io.sql.read_sql(query, con = engine)\n",
    "\n",
    "print(publishers)"
   ]
  },
  {
   "cell_type": "code",
   "execution_count": 7,
   "metadata": {},
   "outputs": [
    {
     "name": "stdout",
     "output_type": "stream",
     "text": [
      "   rating_id  book_id       username  rating\n",
      "0          1        1     ryanfranco       4\n",
      "1          2        1  grantpatricia       2\n",
      "2          3        1   brandtandrea       5\n",
      "3          4        2       lorichen       3\n",
      "4          5        2    mariokeller       2\n"
     ]
    }
   ],
   "source": [
    "query = ''' SELECT * \n",
    "            FROM ratings\n",
    "            LIMIT 5'''\n",
    "\n",
    "ratings = pd.io.sql.read_sql(query, con = engine)\n",
    "\n",
    "print(ratings)"
   ]
  },
  {
   "cell_type": "code",
   "execution_count": 8,
   "metadata": {},
   "outputs": [
    {
     "name": "stdout",
     "output_type": "stream",
     "text": [
      "   review_id  book_id       username  \\\n",
      "0          1        1   brandtandrea   \n",
      "1          2        1     ryanfranco   \n",
      "2          3        2       lorichen   \n",
      "3          4        3  johnsonamanda   \n",
      "4          5        3    scotttamara   \n",
      "\n",
      "                                                text  \n",
      "0  Mention society tell send professor analysis. ...  \n",
      "1  Foot glass pretty audience hit themselves. Amo...  \n",
      "2  Listen treat keep worry. Miss husband tax but ...  \n",
      "3  Finally month interesting blue could nature cu...  \n",
      "4  Nation purpose heavy give wait song will. List...  \n"
     ]
    }
   ],
   "source": [
    "query = ''' SELECT * \n",
    "            FROM reviews\n",
    "            LIMIT 5'''\n",
    "\n",
    "reviews = pd.io.sql.read_sql(query, con = engine)\n",
    "\n",
    "print(reviews)"
   ]
  },
  {
   "cell_type": "markdown",
   "metadata": {},
   "source": [
    "##### Encontre o número de livros lançados depois de 1 de janeiro de 2000."
   ]
  },
  {
   "cell_type": "code",
   "execution_count": 28,
   "metadata": {},
   "outputs": [
    {
     "name": "stdout",
     "output_type": "stream",
     "text": [
      "   book_id_cnt  book_id_unique_cnt\n",
      "0          819                 819\n"
     ]
    }
   ],
   "source": [
    "query = ''' SELECT COUNT(book_id) AS book_id_cnt, COUNT(DISTINCT book_id) AS book_id_unique_cnt\n",
    "            FROM books \n",
    "            WHERE publication_date > '2000-01-01'\n",
    "        '''\n",
    "\n",
    "task_1 = pd.io.sql.read_sql(query, con = engine)\n",
    "\n",
    "print(task_1)"
   ]
  },
  {
   "cell_type": "markdown",
   "metadata": {},
   "source": [
    "Temos 819 livros lançados após 1 de janeiro de 2000"
   ]
  },
  {
   "cell_type": "markdown",
   "metadata": {},
   "source": [
    "##### Encontre o número de avaliações e a classificação média para cada livro"
   ]
  },
  {
   "cell_type": "code",
   "execution_count": 27,
   "metadata": {},
   "outputs": [
    {
     "name": "stdout",
     "output_type": "stream",
     "text": [
      "     book_id                                              title  rating_cnt  \\\n",
      "0        948                            Twilight (Twilight  #1)         160   \n",
      "1        750                The Hobbit  or There and Back Again          88   \n",
      "2        673                             The Catcher in the Rye          86   \n",
      "3         75               Angels & Demons (Robert Langdon  #1)          84   \n",
      "4        302  Harry Potter and the Prisoner of Azkaban (Harr...          82   \n",
      "..       ...                                                ...         ...   \n",
      "995      465                  Naked Empire (Sword of Truth  #8)           2   \n",
      "996       55          A Woman of Substance (Emma Harte Saga #1)           2   \n",
      "997      652          The Body in the Library (Miss Marple  #3)           2   \n",
      "998      790  The Magicians' Guild (Black Magician Trilogy  #1)           2   \n",
      "999      191  Disney's Beauty and the Beast (A Little Golden...           1   \n",
      "\n",
      "     rating_avg  \n",
      "0      3.662500  \n",
      "1      4.125000  \n",
      "2      3.825581  \n",
      "3      3.678571  \n",
      "4      4.414634  \n",
      "..          ...  \n",
      "995    3.500000  \n",
      "996    5.000000  \n",
      "997    4.500000  \n",
      "998    3.500000  \n",
      "999    4.000000  \n",
      "\n",
      "[1000 rows x 4 columns]\n"
     ]
    }
   ],
   "source": [
    "query = ''' SELECT b.book_id, b.title, COUNT(r.rating) AS rating_cnt, AVG(r.rating) AS rating_avg\n",
    "            FROM books AS b\n",
    "            INNER JOIN ratings AS r ON r.book_id = b.book_id\n",
    "            GROUP BY b.book_id\n",
    "            ORDER BY rating_cnt DESC;\n",
    "        '''\n",
    "        \n",
    "task_2 = pd.io.sql.read_sql(query, con = engine)\n",
    "\n",
    "print(task_2)"
   ]
  },
  {
   "cell_type": "markdown",
   "metadata": {},
   "source": [
    "##### Identifique a editora que lançou o maior número de livros com mais de 50 páginas (isso vai ajudar você a excluir brochuras e publicações parecidas da sua análise)."
   ]
  },
  {
   "cell_type": "code",
   "execution_count": 26,
   "metadata": {},
   "outputs": [
    {
     "name": "stdout",
     "output_type": "stream",
     "text": [
      "   publisher_id                 publisher  books_cnt\n",
      "0           212             Penguin Books         42\n",
      "1           309                   Vintage         31\n",
      "2           116  Grand Central Publishing         25\n",
      "3           217          Penguin Classics         24\n",
      "4            35                    Bantam         19\n"
     ]
    }
   ],
   "source": [
    "query = ''' SELECT p.publisher_id , p.publisher, COUNT(b.book_id) AS books_cnt\n",
    "            FROM publishers AS p\n",
    "            INNER JOIN books AS b ON b.publisher_id = p.publisher_id\n",
    "            WHERE b.num_pages > 50\n",
    "            GROUP BY p.publisher_id\n",
    "            ORDER BY books_cnt DESC\n",
    "            LIMIT 5\n",
    "        '''\n",
    "        \n",
    "task_3 = pd.io.sql.read_sql(query, con = engine)\n",
    "\n",
    "print(task_3)"
   ]
  },
  {
   "cell_type": "markdown",
   "metadata": {},
   "source": [
    "A editora que lançou o maior número de livros com mais de 50 paginas foi a editora Penguin Books com 42 livros "
   ]
  },
  {
   "cell_type": "markdown",
   "metadata": {},
   "source": [
    "##### Identifique o autor com a média mais alta classificação de livros: olhe apenas para livros com pelo menos 50 classificações."
   ]
  },
  {
   "cell_type": "code",
   "execution_count": 23,
   "metadata": {},
   "outputs": [
    {
     "name": "stdout",
     "output_type": "stream",
     "text": [
      "   author_id                             author  author_rating\n",
      "0        236         J.K. Rowling/Mary GrandPré       4.283844\n",
      "1        402  Markus Zusak/Cao Xuân Việt Khương       4.264151\n",
      "2        240                     J.R.R. Tolkien       4.258446\n",
      "3        376                  Louisa May Alcott       4.192308\n",
      "4        498                       Rick Riordan       4.080645\n"
     ]
    }
   ],
   "source": [
    "#firs: first find rating avg and rating count per book to filter books with at least 50 ratings \n",
    "#second: merging tables: books with authors and books with ratings filtered, table info still per book \n",
    "#third: average rating of all books per author\n",
    "query = ''' \n",
    "WITH rating_ AS (\n",
    "    SELECT book_id, COUNT(rating) AS rating_cnt, AVG(rating) AS rating_avg\n",
    "    FROM ratings\n",
    "    GROUP BY book_id\n",
    "    HAVING COUNT(rating) > 50\n",
    "    ), books_authors_ratings AS (\n",
    "        SELECT b.book_id, a.author_id, a.author, rating_cnt, rating_avg\n",
    "        FROM books AS b\n",
    "        INNER JOIN authors AS a ON a.author_id = b.author_id\n",
    "        INNER JOIN rating_ AS r ON r.book_id = b.book_id)\n",
    "\n",
    "SELECT author_id, author, AVG(rating_avg) AS author_rating\n",
    "FROM books_authors_ratings\n",
    "GROUP BY author_id, author\n",
    "ORDER BY author_rating DESC\n",
    "LIMIT 5\n",
    "        '''\n",
    "        \n",
    "task_4 = pd.io.sql.read_sql(query, con = engine)\n",
    "\n",
    "print(task_4)"
   ]
  },
  {
   "cell_type": "markdown",
   "metadata": {},
   "source": [
    "J.K. Rowling/Mary GrandPré são os autores melhores avaliados "
   ]
  },
  {
   "cell_type": "markdown",
   "metadata": {},
   "source": [
    "##### Encontre o número médio de avaliações entre usuários que classificaram mais do que 50 livros."
   ]
  },
  {
   "cell_type": "code",
   "execution_count": null,
   "metadata": {},
   "outputs": [
    {
     "name": "stdout",
     "output_type": "stream",
     "text": [
      "   avg_review\n",
      "0   24.333333\n"
     ]
    }
   ],
   "source": [
    "#first filter user with more than 50 ratings\n",
    "#second count reviews of each user and inner join with filtered rating table through username to filter only user with 50+ ratings \n",
    "#third AVG of the final table \n",
    "\n",
    "query = ''' \n",
    "        WITH users_50_ratings AS (\n",
    "        SELECT username, COUNT(rating_id) AS rating_cnt \n",
    "        FROM ratings \n",
    "        GROUP BY username\n",
    "        HAVING COUNT(rating_id) > 50\n",
    "        ), count_reviews AS(\n",
    "                SELECT r.username, COUNT(r.review_id) AS review_cnt \n",
    "                FROM reviews AS r\n",
    "                INNER JOIN users_50_ratings AS u ON u.username = r.username\n",
    "                GROUP BY r.username\n",
    "        )\n",
    "\n",
    "SELECT AVG(review_cnt) AS avg_review \n",
    "FROM count_reviews;\n",
    "        '''\n",
    "        \n",
    "task_5 = pd.io.sql.read_sql(query, con = engine)\n",
    "\n",
    "print(task_5)"
   ]
  },
  {
   "cell_type": "markdown",
   "metadata": {},
   "source": [
    "Dos usuários que classificaram mais do que 50 livros, o número médio de avaliações é 24"
   ]
  }
 ],
 "metadata": {
  "kernelspec": {
   "display_name": "Python 3 (ipykernel)",
   "language": "python",
   "name": "python3"
  },
  "language_info": {
   "codemirror_mode": {
    "name": "ipython",
    "version": 3
   },
   "file_extension": ".py",
   "mimetype": "text/x-python",
   "name": "python",
   "nbconvert_exporter": "python",
   "pygments_lexer": "ipython3",
   "version": "3.9.19"
  },
  "toc": {
   "base_numbering": 1,
   "nav_menu": {},
   "number_sections": true,
   "sideBar": true,
   "skip_h1_title": true,
   "title_cell": "Table of Contents",
   "title_sidebar": "Contents",
   "toc_cell": false,
   "toc_position": {},
   "toc_section_display": true,
   "toc_window_display": false
  }
 },
 "nbformat": 4,
 "nbformat_minor": 2
}
