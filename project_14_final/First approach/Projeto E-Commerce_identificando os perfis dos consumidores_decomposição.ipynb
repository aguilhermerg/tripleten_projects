{
 "cells": [
  {
   "cell_type": "markdown",
   "metadata": {},
   "source": [
    "# Projeto E-Commerce: Identificar os perfis dos consumidores"
   ]
  },
  {
   "cell_type": "markdown",
   "metadata": {},
   "source": [
    "### Tarefa: Segmente usuários com base em seus perfis de consumidor"
   ]
  },
  {
   "cell_type": "markdown",
   "metadata": {},
   "source": [
    "#### Objetivo: Segmentar os usuários com base no histórico de compras, para desenvolver recomendações para a equipe de marketing sobre ofertas mais personalizadas para diferentes perfis"
   ]
  },
  {
   "cell_type": "markdown",
   "metadata": {},
   "source": [
    "#### 1. Importando bibliotecas"
   ]
  },
  {
   "cell_type": "code",
   "execution_count": 1,
   "metadata": {},
   "outputs": [],
   "source": [
    "import pandas as pd \n",
    "import numpy as np \n",
    "from matplotlib import pyplot as plt \n",
    "import seaborn as sns \n",
    "import datetime as dt "
   ]
  },
  {
   "cell_type": "markdown",
   "metadata": {},
   "source": [
    "#### 2. Leitura dos dados e revisão bibliográfica sobre o tema"
   ]
  },
  {
   "cell_type": "code",
   "execution_count": null,
   "metadata": {},
   "outputs": [
    {
     "data": {
      "text/html": [
       "<div>\n",
       "<style scoped>\n",
       "    .dataframe tbody tr th:only-of-type {\n",
       "        vertical-align: middle;\n",
       "    }\n",
       "\n",
       "    .dataframe tbody tr th {\n",
       "        vertical-align: top;\n",
       "    }\n",
       "\n",
       "    .dataframe thead th {\n",
       "        text-align: right;\n",
       "    }\n",
       "</style>\n",
       "<table border=\"1\" class=\"dataframe\">\n",
       "  <thead>\n",
       "    <tr style=\"text-align: right;\">\n",
       "      <th></th>\n",
       "      <th>InvoiceNo</th>\n",
       "      <th>StockCode</th>\n",
       "      <th>Description</th>\n",
       "      <th>Quantity</th>\n",
       "      <th>InvoiceDate</th>\n",
       "      <th>UnitPrice</th>\n",
       "      <th>CustomerID</th>\n",
       "    </tr>\n",
       "  </thead>\n",
       "  <tbody>\n",
       "    <tr>\n",
       "      <th>224970</th>\n",
       "      <td>556580</td>\n",
       "      <td>22624</td>\n",
       "      <td>IVORY KITCHEN SCALES</td>\n",
       "      <td>2</td>\n",
       "      <td>06/11/2019 14:20</td>\n",
       "      <td>8.50</td>\n",
       "      <td>17719.0</td>\n",
       "    </tr>\n",
       "    <tr>\n",
       "      <th>163678</th>\n",
       "      <td>550621</td>\n",
       "      <td>84596J</td>\n",
       "      <td>MIXED NUTS LIGHT GREEN BOWL</td>\n",
       "      <td>2</td>\n",
       "      <td>04/17/2019 13:41</td>\n",
       "      <td>0.42</td>\n",
       "      <td>13263.0</td>\n",
       "    </tr>\n",
       "    <tr>\n",
       "      <th>67207</th>\n",
       "      <td>541827</td>\n",
       "      <td>22971</td>\n",
       "      <td>QUEENS GUARD COFFEE MUG</td>\n",
       "      <td>1</td>\n",
       "      <td>01/19/2019 17:05</td>\n",
       "      <td>4.96</td>\n",
       "      <td>NaN</td>\n",
       "    </tr>\n",
       "    <tr>\n",
       "      <th>512131</th>\n",
       "      <td>579509</td>\n",
       "      <td>23111</td>\n",
       "      <td>PARISIENNE SEWING BOX</td>\n",
       "      <td>1</td>\n",
       "      <td>11/27/2019 16:44</td>\n",
       "      <td>12.50</td>\n",
       "      <td>12963.0</td>\n",
       "    </tr>\n",
       "    <tr>\n",
       "      <th>1550</th>\n",
       "      <td>536544</td>\n",
       "      <td>22314</td>\n",
       "      <td>OFFICE MUG WARMER CHOC+BLUE</td>\n",
       "      <td>1</td>\n",
       "      <td>11/29/2018 14:32</td>\n",
       "      <td>5.91</td>\n",
       "      <td>NaN</td>\n",
       "    </tr>\n",
       "    <tr>\n",
       "      <th>153071</th>\n",
       "      <td>549729</td>\n",
       "      <td>21498</td>\n",
       "      <td>RED RETROSPOT WRAP</td>\n",
       "      <td>25</td>\n",
       "      <td>04/09/2019 16:17</td>\n",
       "      <td>0.42</td>\n",
       "      <td>13634.0</td>\n",
       "    </tr>\n",
       "    <tr>\n",
       "      <th>84332</th>\n",
       "      <td>543382</td>\n",
       "      <td>21877</td>\n",
       "      <td>HOME SWEET HOME MUG</td>\n",
       "      <td>6</td>\n",
       "      <td>02/05/2019 16:21</td>\n",
       "      <td>1.25</td>\n",
       "      <td>14030.0</td>\n",
       "    </tr>\n",
       "    <tr>\n",
       "      <th>88792</th>\n",
       "      <td>543816</td>\n",
       "      <td>22676</td>\n",
       "      <td>FRENCH BLUE METAL DOOR SIGN 1</td>\n",
       "      <td>1</td>\n",
       "      <td>02/11/2019 15:26</td>\n",
       "      <td>1.25</td>\n",
       "      <td>17841.0</td>\n",
       "    </tr>\n",
       "    <tr>\n",
       "      <th>155072</th>\n",
       "      <td>549964</td>\n",
       "      <td>20829</td>\n",
       "      <td>GLITTER HANGING BUTTERFLY STRING</td>\n",
       "      <td>8</td>\n",
       "      <td>04/11/2019 14:12</td>\n",
       "      <td>2.10</td>\n",
       "      <td>13122.0</td>\n",
       "    </tr>\n",
       "    <tr>\n",
       "      <th>342543</th>\n",
       "      <td>566872</td>\n",
       "      <td>23004</td>\n",
       "      <td>TRAVEL CARD WALLET PANTRY</td>\n",
       "      <td>24</td>\n",
       "      <td>09/13/2019 13:28</td>\n",
       "      <td>0.42</td>\n",
       "      <td>16729.0</td>\n",
       "    </tr>\n",
       "  </tbody>\n",
       "</table>\n",
       "</div>"
      ],
      "text/plain": [
       "       InvoiceNo StockCode                       Description  Quantity  \\\n",
       "224970    556580     22624              IVORY KITCHEN SCALES         2   \n",
       "163678    550621    84596J       MIXED NUTS LIGHT GREEN BOWL         2   \n",
       "67207     541827     22971           QUEENS GUARD COFFEE MUG         1   \n",
       "512131    579509     23111             PARISIENNE SEWING BOX         1   \n",
       "1550      536544     22314       OFFICE MUG WARMER CHOC+BLUE         1   \n",
       "153071    549729     21498               RED RETROSPOT WRAP         25   \n",
       "84332     543382     21877               HOME SWEET HOME MUG         6   \n",
       "88792     543816     22676     FRENCH BLUE METAL DOOR SIGN 1         1   \n",
       "155072    549964     20829  GLITTER HANGING BUTTERFLY STRING         8   \n",
       "342543    566872     23004         TRAVEL CARD WALLET PANTRY        24   \n",
       "\n",
       "             InvoiceDate  UnitPrice  CustomerID  \n",
       "224970  06/11/2019 14:20       8.50     17719.0  \n",
       "163678  04/17/2019 13:41       0.42     13263.0  \n",
       "67207   01/19/2019 17:05       4.96         NaN  \n",
       "512131  11/27/2019 16:44      12.50     12963.0  \n",
       "1550    11/29/2018 14:32       5.91         NaN  \n",
       "153071  04/09/2019 16:17       0.42     13634.0  \n",
       "84332   02/05/2019 16:21       1.25     14030.0  \n",
       "88792   02/11/2019 15:26       1.25     17841.0  \n",
       "155072  04/11/2019 14:12       2.10     13122.0  \n",
       "342543  09/13/2019 13:28       0.42     16729.0  "
      ]
     },
     "execution_count": 9,
     "metadata": {},
     "output_type": "execute_result"
    }
   ],
   "source": [
    "df = pd.read_csv('ecommerce_dataset_us.csv', sep='\\t')"
   ]
  },
  {
   "cell_type": "code",
   "execution_count": 11,
   "metadata": {},
   "outputs": [
    {
     "data": {
      "text/html": [
       "<div>\n",
       "<style scoped>\n",
       "    .dataframe tbody tr th:only-of-type {\n",
       "        vertical-align: middle;\n",
       "    }\n",
       "\n",
       "    .dataframe tbody tr th {\n",
       "        vertical-align: top;\n",
       "    }\n",
       "\n",
       "    .dataframe thead th {\n",
       "        text-align: right;\n",
       "    }\n",
       "</style>\n",
       "<table border=\"1\" class=\"dataframe\">\n",
       "  <thead>\n",
       "    <tr style=\"text-align: right;\">\n",
       "      <th></th>\n",
       "      <th>InvoiceNo</th>\n",
       "      <th>StockCode</th>\n",
       "      <th>Description</th>\n",
       "      <th>Quantity</th>\n",
       "      <th>InvoiceDate</th>\n",
       "      <th>UnitPrice</th>\n",
       "      <th>CustomerID</th>\n",
       "    </tr>\n",
       "  </thead>\n",
       "  <tbody>\n",
       "    <tr>\n",
       "      <th>0</th>\n",
       "      <td>536365</td>\n",
       "      <td>85123A</td>\n",
       "      <td>WHITE HANGING HEART T-LIGHT HOLDER</td>\n",
       "      <td>6</td>\n",
       "      <td>11/29/2018 08:26</td>\n",
       "      <td>2.55</td>\n",
       "      <td>17850.0</td>\n",
       "    </tr>\n",
       "    <tr>\n",
       "      <th>1</th>\n",
       "      <td>536365</td>\n",
       "      <td>71053</td>\n",
       "      <td>WHITE METAL LANTERN</td>\n",
       "      <td>6</td>\n",
       "      <td>11/29/2018 08:26</td>\n",
       "      <td>3.39</td>\n",
       "      <td>17850.0</td>\n",
       "    </tr>\n",
       "    <tr>\n",
       "      <th>2</th>\n",
       "      <td>536365</td>\n",
       "      <td>84406B</td>\n",
       "      <td>CREAM CUPID HEARTS COAT HANGER</td>\n",
       "      <td>8</td>\n",
       "      <td>11/29/2018 08:26</td>\n",
       "      <td>2.75</td>\n",
       "      <td>17850.0</td>\n",
       "    </tr>\n",
       "    <tr>\n",
       "      <th>3</th>\n",
       "      <td>536365</td>\n",
       "      <td>84029G</td>\n",
       "      <td>KNITTED UNION FLAG HOT WATER BOTTLE</td>\n",
       "      <td>6</td>\n",
       "      <td>11/29/2018 08:26</td>\n",
       "      <td>3.39</td>\n",
       "      <td>17850.0</td>\n",
       "    </tr>\n",
       "    <tr>\n",
       "      <th>4</th>\n",
       "      <td>536365</td>\n",
       "      <td>84029E</td>\n",
       "      <td>RED WOOLLY HOTTIE WHITE HEART.</td>\n",
       "      <td>6</td>\n",
       "      <td>11/29/2018 08:26</td>\n",
       "      <td>3.39</td>\n",
       "      <td>17850.0</td>\n",
       "    </tr>\n",
       "  </tbody>\n",
       "</table>\n",
       "</div>"
      ],
      "text/plain": [
       "  InvoiceNo StockCode                          Description  Quantity  \\\n",
       "0    536365    85123A   WHITE HANGING HEART T-LIGHT HOLDER         6   \n",
       "1    536365     71053                  WHITE METAL LANTERN         6   \n",
       "2    536365    84406B       CREAM CUPID HEARTS COAT HANGER         8   \n",
       "3    536365    84029G  KNITTED UNION FLAG HOT WATER BOTTLE         6   \n",
       "4    536365    84029E       RED WOOLLY HOTTIE WHITE HEART.         6   \n",
       "\n",
       "        InvoiceDate  UnitPrice  CustomerID  \n",
       "0  11/29/2018 08:26       2.55     17850.0  \n",
       "1  11/29/2018 08:26       3.39     17850.0  \n",
       "2  11/29/2018 08:26       2.75     17850.0  \n",
       "3  11/29/2018 08:26       3.39     17850.0  \n",
       "4  11/29/2018 08:26       3.39     17850.0  "
      ]
     },
     "execution_count": 11,
     "metadata": {},
     "output_type": "execute_result"
    }
   ],
   "source": [
    "df.head()"
   ]
  },
  {
   "cell_type": "markdown",
   "metadata": {},
   "source": [
    "##### Revisão bibliográficas e abordagem sobre o tema:\n",
    "\n",
    "* Segmentação de clientes: guia completo:\n",
    "Este guia detalha como a segmentação de clientes auxilia equipes de marketing e vendas a prever metas futuras com maior precisão, permitindo um planejamento mais eficaz de campanhas. [MONDAY.COM](https://monday.com/blog/pt/vendas-crm/segmentacao-de-clientes-para-vendas-e-marketing-b2b/?utm_source=chatgpt.com)\n",
    "\n",
    "* Segmentação do Ciclo de Vida do Cliente para E-commerce:\n",
    "O artigo aborda o processo de agrupar clientes com base em sua posição no relacionamento com a empresa, permitindo personalizar interações e melhorar a experiência do cliente. [CICLO E-COMMERCE](https://cicloecommerce.com.br/segmentacao-do-ciclo-de-vida-do-cliente-para-e-commerce/?utm_source=chatgpt.com)\n",
    "\n",
    "* Segmentação de Clientes usando K-Means Clustering:\n",
    "Este artigo no Medium explora como o clustering K-Means pode ser utilizado para segmentar clientes com base em seus comportamentos de compra, oferecendo uma visão prática da aplicação desse algoritmo. \n",
    "[MEDIUM](https://medium.com/%40larixgomex/segmenta%C3%A7%C3%A3o-de-clientes-usando-k-means-clustering-739ca0168e2b)\n",
    "\n",
    "* Segmentação de Clientes com K-Means\n",
    "Neste artigo do LinkedIn, o autor compartilha sua experiência em um projeto de segmentação de clientes, utilizando a análise RFM e o algoritmo K-Means, destacando insights e resultados obtidos. \n",
    "[LINKEDIN](https://www.linkedin.com/pulse/segmenta%C3%A7%C3%A3o-de-clientes-com-k-means-estevao-smith-trmqf/)\n",
    "\n",
    "* Qual o melhor grupo de clientes? — RFM Análise (K-Means + EDA)\n",
    "Este artigo da Dataside aborda a análise RFM combinada com o K-Means e a Análise Exploratória de Dados (EDA), discutindo como identificar os melhores grupos de clientes para estratégias de marketing mais eficazes. \n",
    "[DATASIDE](https://www.dataside.com.br/dataside-community/a-i-e-machine-learning/qual-o-melhor-grupo-de-clientes-rfm-analise-k-means-eda?utm_source=chatgpt.com)\n",
    "\n",
    "* Segmentação de Clientes com RFM em Python\n",
    "Este artigo no Medium detalha como implementar a análise RFM utilizando Python, oferecendo um guia passo a passo para segmentar clientes com base em seu comportamento de compra. \n",
    "[MEDIUM](https://medium.com/%40larixgomex/segmenta%C3%A7%C3%A3o-de-clientes-com-rfm-em-python-3a97e534ffa1)\n",
    "\n",
    "* Segmentação de Clientes: conheça a análise RFM\n",
    "Neste artigo do LinkedIn, o autor introduz a análise RFM como uma técnica para segmentar clientes, discutindo sua importância e aplicação no mercado de varejo. \n",
    "[LINKEDIN](https://www.linkedin.com/pulse/segmenta%C3%A7%C3%A3o-de-clientes-conhe%C3%A7a-an%C3%A1lise-rfm-fabio-innocente-alves/)\n",
    "\n",
    "\n",
    "\n",
    "Baseado na revisão bibliográfica a idéia de abordagem sobre o projeto seria:\n",
    "\n",
    "* Análise RFM primeiro:\n",
    "    + Calcular as métricas RFM (Recência, Frequência e Valor Monetário) para cada cliente, essa é uma forma de segmentação da base de clientes com base em quão engajados com o seu negócio eles estão.\n",
    "    + Normalizar os valores para que fiquem na mesma escala.\n",
    "    + Analisar distribuições e possíveis outliers.\n",
    "\n",
    "* Aplicação do K-Means depois:\n",
    "    + Utilizar os scores RFM como variáveis para o modelo de clusterização.\n",
    "    + Escolher o número ideal de clusters (usando o método Ward, metodo cotovelo ou Silhouette score).\n",
    "    + Analisar e Interpretar os clusters e validar se fazem sentido para o negócio.\n",
    "    + Dessa forma, o K-Means consegueria identificar diferentes segmentos de consumidores com base em seus comportamentos de compra, permitindo insights mais precisos para estratégias de marketing."
   ]
  },
  {
   "cell_type": "markdown",
   "metadata": {},
   "source": [
    "##### Plano de análise de perfis: \n",
    "\n",
    "* Verificar o valor médio do RFM por cluster, onde os resultados esperados podem ser: \n",
    "    + Clientes principais ou clientes ouros: clientes com carteira aberta, muito valor monetário e que compram frequentemente (fidelização e upselling)\n",
    "    + Clientes casuais ou pratas: clientes que compram com boa frequencia mas com baixo valor monetário (aumento de gasto por transação, importantes pro volumes de vendas)\n",
    "    + Clientes esporádicos ou bronze: clientes que aparecem raramente e não se ouvem mais falar, podem também ser clientes com baixo valor monetário(desconto segunda ou terceira compra, medidas para cativá-los)\n",
    "\n",
    "* Perguntas que podem ser respondidas após análise de perfis: \n",
    "    + Por que isso é importante? O que podemos obter com isso?\n",
    "    + Quem são seus melhores clientes?\n",
    "    + Quais dos seus clientes podem contribuir para o churn?\n",
    "    + Quem tem o potencial de se tornar um cliente valioso?\n",
    "    + Quais dos nossos clientes podem ser retidos?\n",
    "    + Quais dos nossos clientes têm mais probabilidade de responder às campanhas de engajamento?\n",
    "    + Quais tipos de campanhas de engajamentos podemos oferecer para cada cluster?\n"
   ]
  },
  {
   "cell_type": "markdown",
   "metadata": {},
   "source": [
    "#### 3. Análise de qualidade e limpeza dos dados"
   ]
  },
  {
   "cell_type": "markdown",
   "metadata": {},
   "source": [
    "##### Formato dos dados e nome das colunas "
   ]
  },
  {
   "cell_type": "markdown",
   "metadata": {},
   "source": [
    "##### Valores ausentes "
   ]
  },
  {
   "cell_type": "markdown",
   "metadata": {},
   "source": [
    "##### Valores duplicados"
   ]
  },
  {
   "cell_type": "markdown",
   "metadata": {},
   "source": [
    "#### 4. EDA"
   ]
  },
  {
   "cell_type": "markdown",
   "metadata": {},
   "source": [
    "##### Verificando distribuição dos dados "
   ]
  },
  {
   "cell_type": "markdown",
   "metadata": {},
   "source": [
    "##### Verificando outliers "
   ]
  },
  {
   "cell_type": "markdown",
   "metadata": {},
   "source": [
    "##### Verificando relação das variáveis entre si e colunas interessantes para segmentação construção de modelo de agrupamento "
   ]
  },
  {
   "cell_type": "markdown",
   "metadata": {},
   "source": [
    "#### 5. Segmentação de perfis de usuários "
   ]
  },
  {
   "cell_type": "markdown",
   "metadata": {},
   "source": [
    "##### Engenhenharia de características e calculo de métricas RFM sobre os usuários "
   ]
  },
  {
   "cell_type": "markdown",
   "metadata": {},
   "source": [
    "##### Novo DF com RFM e análise de distribuições e possíveis outliers"
   ]
  },
  {
   "cell_type": "markdown",
   "metadata": {},
   "source": [
    "##### Normalização de valores para que fiquem na mesma escala."
   ]
  },
  {
   "cell_type": "markdown",
   "metadata": {},
   "source": [
    "##### Escolhendo o número ideal de clusters usando o método Ward sobre os scores RFM"
   ]
  },
  {
   "cell_type": "markdown",
   "metadata": {},
   "source": [
    "##### Treinamento de ML de agrupamento K-Means baseado em scores RFM como variáveis para o modelo de clusterização."
   ]
  },
  {
   "cell_type": "markdown",
   "metadata": {},
   "source": [
    "##### Analisando número ideal de clusters com método cotovelo e silhouette score \n",
    "plot_model(kmeans, plot = 'elbow')"
   ]
  },
  {
   "cell_type": "markdown",
   "metadata": {},
   "source": [
    "##### Interpretando os clusters e validando se fazem sentido para o negócio."
   ]
  },
  {
   "cell_type": "markdown",
   "metadata": {},
   "source": [
    "#### 6. Análise de clusters criados"
   ]
  },
  {
   "cell_type": "markdown",
   "metadata": {},
   "source": [
    "##### Distribuição dos dados por perfil\n",
    "plot de cada característica para diferenciar entre os perfis "
   ]
  },
  {
   "cell_type": "markdown",
   "metadata": {},
   "source": [
    "Análises devem ser feitas em cima do objetivo de gerar recomendações para mkt  "
   ]
  },
  {
   "cell_type": "markdown",
   "metadata": {},
   "source": [
    "#### 7. Conclusão e recomendações "
   ]
  }
 ],
 "metadata": {
  "kernelspec": {
   "display_name": "base",
   "language": "python",
   "name": "python3"
  },
  "language_info": {
   "codemirror_mode": {
    "name": "ipython",
    "version": 3
   },
   "file_extension": ".py",
   "mimetype": "text/x-python",
   "name": "python",
   "nbconvert_exporter": "python",
   "pygments_lexer": "ipython3",
   "version": "3.12.4"
  }
 },
 "nbformat": 4,
 "nbformat_minor": 2
}
